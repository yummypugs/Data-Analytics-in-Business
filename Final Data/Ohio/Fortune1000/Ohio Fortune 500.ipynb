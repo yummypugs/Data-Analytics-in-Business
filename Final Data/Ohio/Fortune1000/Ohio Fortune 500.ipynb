{
 "cells": [
  {
   "cell_type": "code",
   "execution_count": 9,
   "metadata": {
    "collapsed": true
   },
   "outputs": [],
   "source": [
    "import pandas as pd"
   ]
  },
  {
   "cell_type": "code",
   "execution_count": 10,
   "outputs": [],
   "source": [
    "F500_test = []\n",
    "for i in range(2007,2023):\n",
    "\n",
    "    F500_test.append(pd.read_csv(f\"CSVs/F1000_{i}.csv\"))"
   ],
   "metadata": {
    "collapsed": false
   }
  },
  {
   "cell_type": "code",
   "execution_count": 14,
   "outputs": [],
   "source": [],
   "metadata": {
    "collapsed": false
   }
  },
  {
   "cell_type": "code",
   "execution_count": 15,
   "outputs": [
    {
     "data": {
      "text/plain": "                       company  rank  revenue  \\\n0                  Caterpillar    49    55656   \n1        United Parcel Service    50    55438   \n2                 Dow Chemical    48    57080   \n3                       Google    46    60629   \n4               ConocoPhillips    47    59433   \n..                         ...   ...      ...   \n995   Michael Foods Group, Inc   985     1948   \n996                Itron, Inc.   984     1949   \n997                Valhi, Inc.   982     1952   \n998  Southwest Gas Corporation   983     1951   \n999       Emeritus Corporation   981     1961   \n\n                                  sector  city state  \n0        Construction and Farm Machinery   NaN    IL  \n1    Mail, Package, and Freight Delivery   NaN    GA  \n2                              Chemicals   NaN    MI  \n3        Internet Services and Retailing   NaN    CA  \n4           Mining, Crude-Oil Production   NaN    TX  \n..                                   ...   ...   ...  \n995               Food Consumer Products   NaN    MN  \n996       Electronics, Electrical Equip.   NaN    WA  \n997                            Chemicals   NaN    TX  \n998          Utilities: Gas and Electric   NaN    NV  \n999      Health Care: Medical Facilities   NaN    WA  \n\n[1000 rows x 6 columns]",
      "text/html": "<div>\n<style scoped>\n    .dataframe tbody tr th:only-of-type {\n        vertical-align: middle;\n    }\n\n    .dataframe tbody tr th {\n        vertical-align: top;\n    }\n\n    .dataframe thead th {\n        text-align: right;\n    }\n</style>\n<table border=\"1\" class=\"dataframe\">\n  <thead>\n    <tr style=\"text-align: right;\">\n      <th></th>\n      <th>company</th>\n      <th>rank</th>\n      <th>revenue</th>\n      <th>sector</th>\n      <th>city</th>\n      <th>state</th>\n    </tr>\n  </thead>\n  <tbody>\n    <tr>\n      <th>0</th>\n      <td>Caterpillar</td>\n      <td>49</td>\n      <td>55656</td>\n      <td>Construction and Farm Machinery</td>\n      <td>NaN</td>\n      <td>IL</td>\n    </tr>\n    <tr>\n      <th>1</th>\n      <td>United Parcel Service</td>\n      <td>50</td>\n      <td>55438</td>\n      <td>Mail, Package, and Freight Delivery</td>\n      <td>NaN</td>\n      <td>GA</td>\n    </tr>\n    <tr>\n      <th>2</th>\n      <td>Dow Chemical</td>\n      <td>48</td>\n      <td>57080</td>\n      <td>Chemicals</td>\n      <td>NaN</td>\n      <td>MI</td>\n    </tr>\n    <tr>\n      <th>3</th>\n      <td>Google</td>\n      <td>46</td>\n      <td>60629</td>\n      <td>Internet Services and Retailing</td>\n      <td>NaN</td>\n      <td>CA</td>\n    </tr>\n    <tr>\n      <th>4</th>\n      <td>ConocoPhillips</td>\n      <td>47</td>\n      <td>59433</td>\n      <td>Mining, Crude-Oil Production</td>\n      <td>NaN</td>\n      <td>TX</td>\n    </tr>\n    <tr>\n      <th>...</th>\n      <td>...</td>\n      <td>...</td>\n      <td>...</td>\n      <td>...</td>\n      <td>...</td>\n      <td>...</td>\n    </tr>\n    <tr>\n      <th>995</th>\n      <td>Michael Foods Group, Inc</td>\n      <td>985</td>\n      <td>1948</td>\n      <td>Food Consumer Products</td>\n      <td>NaN</td>\n      <td>MN</td>\n    </tr>\n    <tr>\n      <th>996</th>\n      <td>Itron, Inc.</td>\n      <td>984</td>\n      <td>1949</td>\n      <td>Electronics, Electrical Equip.</td>\n      <td>NaN</td>\n      <td>WA</td>\n    </tr>\n    <tr>\n      <th>997</th>\n      <td>Valhi, Inc.</td>\n      <td>982</td>\n      <td>1952</td>\n      <td>Chemicals</td>\n      <td>NaN</td>\n      <td>TX</td>\n    </tr>\n    <tr>\n      <th>998</th>\n      <td>Southwest Gas Corporation</td>\n      <td>983</td>\n      <td>1951</td>\n      <td>Utilities: Gas and Electric</td>\n      <td>NaN</td>\n      <td>NV</td>\n    </tr>\n    <tr>\n      <th>999</th>\n      <td>Emeritus Corporation</td>\n      <td>981</td>\n      <td>1961</td>\n      <td>Health Care: Medical Facilities</td>\n      <td>NaN</td>\n      <td>WA</td>\n    </tr>\n  </tbody>\n</table>\n<p>1000 rows × 6 columns</p>\n</div>"
     },
     "execution_count": 15,
     "metadata": {},
     "output_type": "execute_result"
    }
   ],
   "source": [],
   "metadata": {
    "collapsed": false
   }
  },
  {
   "cell_type": "code",
   "execution_count": null,
   "outputs": [],
   "source": [],
   "metadata": {
    "collapsed": false
   }
  }
 ],
 "metadata": {
  "kernelspec": {
   "display_name": "Python 3",
   "language": "python",
   "name": "python3"
  },
  "language_info": {
   "codemirror_mode": {
    "name": "ipython",
    "version": 2
   },
   "file_extension": ".py",
   "mimetype": "text/x-python",
   "name": "python",
   "nbconvert_exporter": "python",
   "pygments_lexer": "ipython2",
   "version": "2.7.6"
  }
 },
 "nbformat": 4,
 "nbformat_minor": 0
}
