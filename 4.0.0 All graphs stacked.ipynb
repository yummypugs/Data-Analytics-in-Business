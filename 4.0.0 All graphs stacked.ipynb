{
 "cells": [
  {
   "cell_type": "code",
   "execution_count": 1,
   "metadata": {
    "collapsed": true
   },
   "outputs": [],
   "source": [
    "from sklearn.ensemble import GradientBoostingRegressor\n",
    "from sklearn.ensemble import HistGradientBoostingRegressor\n",
    "import pandas as pd\n",
    "from sklearn.model_selection import train_test_split\n",
    "import matplotlib.pyplot as plt\n",
    "import numpy as np\n",
    "from matplotlib.ticker import MultipleLocator\n",
    "from sklearn.preprocessing import LabelEncoder\n",
    "import seaborn as sns\n",
    "from sklearn.linear_model import LinearRegression\n",
    "from sklearn.linear_model import LogisticRegression\n",
    "import Common_Functions as cmn"
   ]
  },
  {
   "cell_type": "code",
   "execution_count": 2,
   "outputs": [],
   "source": [
    "sns.set_context(\"paper\")\n",
    "sns.set_style(\"ticks\")"
   ],
   "metadata": {
    "collapsed": false
   }
  },
  {
   "cell_type": "code",
   "execution_count": null,
   "outputs": [],
   "source": [
    "rf_prediction =\n",
    "gbr_prediction =\n",
    "OLS_prediction =\n",
    "XBG_prediction =\n",
    "observed_price ="
   ],
   "metadata": {
    "collapsed": false
   }
  },
  {
   "cell_type": "code",
   "execution_count": null,
   "outputs": [],
   "source": [
    "fig, ax = plt.subplots()\n",
    "plt.plot(rf_prediction, alpha=0.8, label=r\"Random Forest Prediction\")\n",
    "plt.plot(gbr_prediction, alpha=0.8, label=r\"Gradient Boosted Regressor Prediction\")\n",
    "plt.plot(OLS_prediction, alpha=0.8, label=r\"OLS Prediction\")\n",
    "plt.plot(XBG_prediction, alpha=0.8, label=r\"XBG Regressor Prediction\")\n",
    "\n",
    "plt.plot(observed_price, alpha=0.8, label=r\"Obeserved Price\")\n",
    "\n",
    "# always label your axes\n",
    "plt.xlabel(r\"Sample Number\")\n",
    "plt.ylabel(r\"House Price\")\n",
    "\n",
    "# create a legend\n",
    "plt.legend(loc=\"upper left\")\n",
    "plt.xlim(0, 40)\n",
    "plt.ylim(0, 500000)\n",
    "plt.tight_layout()\n",
    "\n",
    "plt.show()"
   ],
   "metadata": {
    "collapsed": false
   }
  }
 ],
 "metadata": {
  "kernelspec": {
   "display_name": "Python 3",
   "language": "python",
   "name": "python3"
  },
  "language_info": {
   "codemirror_mode": {
    "name": "ipython",
    "version": 2
   },
   "file_extension": ".py",
   "mimetype": "text/x-python",
   "name": "python",
   "nbconvert_exporter": "python",
   "pygments_lexer": "ipython2",
   "version": "2.7.6"
  }
 },
 "nbformat": 4,
 "nbformat_minor": 0
}
