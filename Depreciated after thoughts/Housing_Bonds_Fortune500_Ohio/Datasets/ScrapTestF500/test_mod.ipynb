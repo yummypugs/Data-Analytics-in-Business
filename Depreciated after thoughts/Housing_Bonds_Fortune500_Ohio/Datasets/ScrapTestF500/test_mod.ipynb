{
 "cells": [
  {
   "cell_type": "code",
   "execution_count": 407,
   "outputs": [],
   "source": [
    "import os\n",
    "import time\n",
    "import sys\n",
    "import numpy as np\n",
    "import pandas as pd\n",
    "import regex as re\n",
    "import lxml\n",
    "import numbers\n",
    "from bs4 import BeautifulSoup\n",
    "import requests\n",
    "import json\n",
    "\n",
    "req_headers = {\n",
    "    'accept': 'text/html,application/xhtml+xml,application/xml;q=0.9,image/webp,image/apng,*/*;q=0.8',\n",
    "    'accept-encoding': 'gzip, deflate, br',\n",
    "    'accept-language': 'en-US,en;q=0.8',\n",
    "    'upgrade-insecure-requests': '1',\n",
    "    'user-agent': 'Mozilla/5.0 (Windows NT 10.0; Win64; x64) AppleWebKit/537.36 (KHTML, like Gecko) Chrome/61.0.3163.100 Safari/537.36'\n",
    "}\n"
   ],
   "metadata": {
    "collapsed": false
   }
  },
  {
   "cell_type": "code",
   "execution_count": 408,
   "outputs": [],
   "source": [
    "urlDict = [\n",
    "    {\"year\": 2022, \"url\": \"https://fortune.com/wp-json/irving/v1/data/franchise-search-results?list_id=3287962&token=Zm9ydHVuZTpCcHNyZmtNZCN5SndjWkkhNHFqMndEOTM=\"},\n",
    "    {\"year\": 2021, \"url\": \"https://fortune.com/wp-json/irving/v1/data/franchise-search-results?list_id=3040727&token=Zm9ydHVuZTpCcHNyZmtNZCN5SndjWkkhNHFqMndEOTM=\"},\n",
    "    {\"year\": 2020, \"url\": \"https://fortune.com/wp-json/irving/v1/data/franchise-search-results?list_id=2814606&token=Zm9ydHVuZTpCcHNyZmtNZCN5SndjWkkhNHFqMndEOTM=\"},\n",
    "    {\"year\": 2019, \"url\": \"https://fortune.com/wp-json/irving/v1/data/franchise-search-results?list_id=2611932&token=Zm9ydHVuZTpCcHNyZmtNZCN5SndjWkkhNHFqMndEOTM=\"},\n",
    "    {\"year\": 2018, \"url\": \"https://fortune.com/wp-json/irving/v1/data/franchise-search-results?list_id=2358051&token=Zm9ydHVuZTpCcHNyZmtNZCN5SndjWkkhNHFqMndEOTM=\"},\n",
    "    {\"year\": 2017, \"url\": \"https://fortune.com/wp-json/irving/v1/data/franchise-search-results?list_id=2013055&token=Zm9ydHVuZTpCcHNyZmtNZCN5SndjWkkhNHFqMndEOTM=\"},\n",
    "    {\"year\": 2016, \"url\": \"https://fortune.com/wp-json/irving/v1/data/franchise-search-results?list_id=1666518&token=Zm9ydHVuZTpCcHNyZmtNZCN5SndjWkkhNHFqMndEOTM=\"},\n",
    "    {\"year\": 2015, \"url\": \"https://fortune.com/wp-json/irving/v1/data/franchise-search-results?list_id=1141696&token=Zm9ydHVuZTpCcHNyZmtNZCN5SndjWkkhNHFqMndEOTM=\"},\n",
    "    {\"year\": 2014, \"url\": \"https://fortune.com/wp-json/irving/v1/data/franchise-search-results?list_id=500629&token=Zm9ydHVuZTpCcHNyZmtNZCN5SndjWkkhNHFqMndEOTM=\"},\n",
    "    {\"year\": 2013, \"url\": \"https://fortune.com/wp-json/irving/v1/data/franchise-search-results?list_id=391746&token=Zm9ydHVuZTpCcHNyZmtNZCN5SndjWkkhNHFqMndEOTM=\"},\n",
    "    {\"year\": 2012, \"url\": \"https://fortune.com/wp-json/irving/v1/data/franchise-search-results?list_id=345184&token=Zm9ydHVuZTpCcHNyZmtNZCN5SndjWkkhNHFqMndEOTM=\"},\n",
    "    {\"year\": 2011, \"url\": \"https://fortune.com/wp-json/irving/v1/data/franchise-search-results?list_id=346195&token=Zm9ydHVuZTpCcHNyZmtNZCN5SndjWkkhNHFqMndEOTM=\"},\n",
    "    {\"year\": 2010, \"url\": \"https://fortune.com/wp-json/irving/v1/data/franchise-search-results?list_id=347212&token=Zm9ydHVuZTpCcHNyZmtNZCN5SndjWkkhNHFqMndEOTM=\"},\n",
    "    {\"year\": 2009, \"url\": \"https://fortune.com/wp-json/irving/v1/data/franchise-search-results?list_id=348231&token=Zm9ydHVuZTpCcHNyZmtNZCN5SndjWkkhNHFqMndEOTM=\"},\n",
    "    {\"year\": 2008, \"url\": \"https://fortune.com/wp-json/irving/v1/data/franchise-search-results?list_id=352816&token=Zm9ydHVuZTpCcHNyZmtNZCN5SndjWkkhNHFqMndEOTM=\"},\n",
    "    {\"year\": 2007, \"url\": \"https://fortune.com/wp-json/irving/v1/data/franchise-search-results?list_id=353857&token=Zm9ydHVuZTpCcHNyZmtNZCN5SndjWkkhNHFqMndEOTM=\"}\n",
    "]"
   ],
   "metadata": {
    "collapsed": false
   }
  },
  {
   "cell_type": "code",
   "execution_count": 409,
   "outputs": [],
   "source": [
    "index = 5\n",
    "fileName = f\"F1000_{urlDict[index]['year']}.csv\"\n",
    "page_url = urlDict[index]['url']"
   ],
   "metadata": {
    "collapsed": false
   }
  },
  {
   "cell_type": "code",
   "execution_count": 410,
   "outputs": [
    {
     "name": "stdout",
     "output_type": "stream",
     "text": [
      "2\n"
     ]
    }
   ],
   "source": [
    "# request the URL and parse the JSON\n",
    "response = requests.get(page_url)\n",
    "response.raise_for_status() # raise exception if invalid response\n",
    "comps = response.json()\n",
    "print(len(comps))"
   ],
   "metadata": {
    "collapsed": false
   }
  },
  {
   "cell_type": "code",
   "execution_count": 411,
   "outputs": [],
   "source": [
    "# prettify json\n",
    "comp = comps[1]\n",
    "format_json = json.dumps(comp, sort_keys=True, indent=5)"
   ],
   "metadata": {
    "collapsed": false
   }
  },
  {
   "cell_type": "code",
   "execution_count": 412,
   "outputs": [
    {
     "name": "stdout",
     "output_type": "stream",
     "text": [
      "1000\n"
     ]
    }
   ],
   "source": [
    "fields = []\n",
    "# each 'items' contains a 'fields' and 'permalink'. 'fields' contains the data\n",
    "for j in comp['items']:\n",
    "\n",
    "    #for key, value in comp:\n",
    "    field = j['fields']\n",
    "    fields.append(field)\n",
    "\n",
    "print(len(fields))"
   ],
   "metadata": {
    "collapsed": false
   }
  },
  {
   "cell_type": "code",
   "execution_count": 413,
   "outputs": [
    {
     "name": "stdout",
     "output_type": "stream",
     "text": [
      "KEY: rank     VALUE: 351\n",
      "KEY: revenues     VALUE: 7710\n",
      "KEY: revchange     VALUE: -5.1\n",
      "KEY: profits     VALUE: 119.9\n",
      "KEY: prftchange     VALUE: \n",
      "KEY: assets     VALUE: 2606\n",
      "KEY: mktval     VALUE: 1786\n",
      "KEY: employees     VALUE: 17000\n",
      "KEY: rankchange1000     VALUE: -15\n",
      "KEY: rankchange     VALUE: -15\n",
      "KEY: title     VALUE: Dean Foods\n",
      "['rank', 'revenues', 'revchange', 'profits', 'prftchange', 'assets', 'mktval', 'employees', 'rankchange1000', 'rankchange', 'title']\n"
     ]
    }
   ],
   "source": [
    "temp_keys = []\n",
    "for column in fields[0]:\n",
    "    #print(f\"KEY: {column['key']}     VALUE: {column['value']}\")\n",
    "    temp_keys.append(column['key'])\n",
    "#print(\"==============================================================================================================\")\n",
    "print(temp_keys)"
   ],
   "metadata": {
    "collapsed": false
   }
  },
  {
   "cell_type": "code",
   "execution_count": 414,
   "outputs": [],
   "source": [
    "#change depending on the avialability\n",
    "keys = ['title', 'rank', 'revenues', 'industry', 'hqCity', 'hqState']\n",
    "cols = ['company', 'rank', 'revenue', 'sector', 'city', 'state']\n",
    "df = pd.DataFrame()\n",
    "\n",
    "def gather_data(name, col):\n",
    "\n",
    "    lst = []\n",
    "    val = \"\"\n",
    "    for i in fields:\n",
    "        for j in i:\n",
    "            if j['key'] == name:\n",
    "                val = j['value']\n",
    "            else:\n",
    "                pass\n",
    "\n",
    "        lst.append(val)\n",
    "\n",
    "    df[col] = lst\n",
    "\n",
    "    return df"
   ],
   "metadata": {
    "collapsed": false
   }
  },
  {
   "cell_type": "code",
   "execution_count": 415,
   "outputs": [],
   "source": [
    "for x,y in zip(keys, cols):\n",
    "    output_df = gather_data(x, y)"
   ],
   "metadata": {
    "collapsed": false
   }
  },
  {
   "cell_type": "code",
   "execution_count": 416,
   "outputs": [
    {
     "name": "stdout",
     "output_type": "stream",
     "text": [
      "(1000, 6)\n",
      "F1000_2017.csv\n"
     ]
    },
    {
     "data": {
      "text/plain": "                  company rank revenue sector city state\n0              Dean Foods  351    7710                  \n1  Zimmer Biomet Holdings  352    7684                  \n2              PulteGroup  353    7669                  \n3            W.R. Berkley  354    7654                  \n4         Quanta Services  355    7651                  ",
      "text/html": "<div>\n<style scoped>\n    .dataframe tbody tr th:only-of-type {\n        vertical-align: middle;\n    }\n\n    .dataframe tbody tr th {\n        vertical-align: top;\n    }\n\n    .dataframe thead th {\n        text-align: right;\n    }\n</style>\n<table border=\"1\" class=\"dataframe\">\n  <thead>\n    <tr style=\"text-align: right;\">\n      <th></th>\n      <th>company</th>\n      <th>rank</th>\n      <th>revenue</th>\n      <th>sector</th>\n      <th>city</th>\n      <th>state</th>\n    </tr>\n  </thead>\n  <tbody>\n    <tr>\n      <th>0</th>\n      <td>Dean Foods</td>\n      <td>351</td>\n      <td>7710</td>\n      <td></td>\n      <td></td>\n      <td></td>\n    </tr>\n    <tr>\n      <th>1</th>\n      <td>Zimmer Biomet Holdings</td>\n      <td>352</td>\n      <td>7684</td>\n      <td></td>\n      <td></td>\n      <td></td>\n    </tr>\n    <tr>\n      <th>2</th>\n      <td>PulteGroup</td>\n      <td>353</td>\n      <td>7669</td>\n      <td></td>\n      <td></td>\n      <td></td>\n    </tr>\n    <tr>\n      <th>3</th>\n      <td>W.R. Berkley</td>\n      <td>354</td>\n      <td>7654</td>\n      <td></td>\n      <td></td>\n      <td></td>\n    </tr>\n    <tr>\n      <th>4</th>\n      <td>Quanta Services</td>\n      <td>355</td>\n      <td>7651</td>\n      <td></td>\n      <td></td>\n      <td></td>\n    </tr>\n  </tbody>\n</table>\n</div>"
     },
     "execution_count": 416,
     "metadata": {},
     "output_type": "execute_result"
    }
   ],
   "source": [
    "#output_df = pd.DataFrame(fields)\n",
    "print(output_df.shape)\n",
    "print(fileName)\n",
    "output_df.head()\n",
    "#output_df.to_csv(fileName, index=False)"
   ],
   "metadata": {
    "collapsed": false
   }
  },
  {
   "cell_type": "code",
   "execution_count": 416,
   "outputs": [],
   "source": [],
   "metadata": {
    "collapsed": false
   }
  }
 ],
 "metadata": {
  "kernelspec": {
   "display_name": "Python 3",
   "language": "python",
   "name": "python3"
  },
  "language_info": {
   "codemirror_mode": {
    "name": "ipython",
    "version": 2
   },
   "file_extension": ".py",
   "mimetype": "text/x-python",
   "name": "python",
   "nbconvert_exporter": "python",
   "pygments_lexer": "ipython2",
   "version": "2.7.6"
  }
 },
 "nbformat": 4,
 "nbformat_minor": 0
}
