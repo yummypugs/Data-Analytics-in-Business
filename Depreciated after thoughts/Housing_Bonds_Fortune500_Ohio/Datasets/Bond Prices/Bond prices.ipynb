{
 "cells": [
  {
   "cell_type": "code",
   "execution_count": 2,
   "metadata": {
    "collapsed": true
   },
   "outputs": [],
   "source": [
    "import pandas as pd\n",
    "bond_prices_monthly = pd.read_csv(\"IRLTLT01USMonthly156N.csv\")"
   ]
  },
  {
   "cell_type": "code",
   "execution_count": 3,
   "outputs": [
    {
     "data": {
      "text/plain": "           DATE  IRLTLT01USM156N\n0    1960-01-01             4.72\n1    1960-02-01             4.49\n2    1960-03-01             4.25\n3    1960-04-01             4.28\n4    1960-05-01             4.35\n..          ...              ...\n747  2022-04-01             2.75\n748  2022-05-01             2.90\n749  2022-06-01             3.14\n750  2022-07-01             2.90\n751  2022-08-01             2.90\n\n[752 rows x 2 columns]",
      "text/html": "<div>\n<style scoped>\n    .dataframe tbody tr th:only-of-type {\n        vertical-align: middle;\n    }\n\n    .dataframe tbody tr th {\n        vertical-align: top;\n    }\n\n    .dataframe thead th {\n        text-align: right;\n    }\n</style>\n<table border=\"1\" class=\"dataframe\">\n  <thead>\n    <tr style=\"text-align: right;\">\n      <th></th>\n      <th>DATE</th>\n      <th>IRLTLT01USM156N</th>\n    </tr>\n  </thead>\n  <tbody>\n    <tr>\n      <th>0</th>\n      <td>1960-01-01</td>\n      <td>4.72</td>\n    </tr>\n    <tr>\n      <th>1</th>\n      <td>1960-02-01</td>\n      <td>4.49</td>\n    </tr>\n    <tr>\n      <th>2</th>\n      <td>1960-03-01</td>\n      <td>4.25</td>\n    </tr>\n    <tr>\n      <th>3</th>\n      <td>1960-04-01</td>\n      <td>4.28</td>\n    </tr>\n    <tr>\n      <th>4</th>\n      <td>1960-05-01</td>\n      <td>4.35</td>\n    </tr>\n    <tr>\n      <th>...</th>\n      <td>...</td>\n      <td>...</td>\n    </tr>\n    <tr>\n      <th>747</th>\n      <td>2022-04-01</td>\n      <td>2.75</td>\n    </tr>\n    <tr>\n      <th>748</th>\n      <td>2022-05-01</td>\n      <td>2.90</td>\n    </tr>\n    <tr>\n      <th>749</th>\n      <td>2022-06-01</td>\n      <td>3.14</td>\n    </tr>\n    <tr>\n      <th>750</th>\n      <td>2022-07-01</td>\n      <td>2.90</td>\n    </tr>\n    <tr>\n      <th>751</th>\n      <td>2022-08-01</td>\n      <td>2.90</td>\n    </tr>\n  </tbody>\n</table>\n<p>752 rows × 2 columns</p>\n</div>"
     },
     "execution_count": 3,
     "metadata": {},
     "output_type": "execute_result"
    }
   ],
   "source": [
    "bond_prices_monthly = pd.read_csv(\"IRLTLT01USMonthly156N.csv\")\n",
    "bond_prices_monthly"
   ],
   "metadata": {
    "collapsed": false
   }
  },
  {
   "cell_type": "code",
   "execution_count": 4,
   "outputs": [
    {
     "data": {
      "text/plain": "           DATE  IRLTLT01USQ156N\n0    1960-01-01         4.486667\n1    1960-04-01         4.260000\n2    1960-07-01         3.833333\n3    1960-10-01         3.886667\n4    1961-01-01         3.786667\n..          ...              ...\n245  2021-04-01         1.593333\n246  2021-07-01         1.323333\n247  2021-10-01         1.536667\n248  2022-01-01         1.940000\n249  2022-04-01         2.930000\n\n[250 rows x 2 columns]",
      "text/html": "<div>\n<style scoped>\n    .dataframe tbody tr th:only-of-type {\n        vertical-align: middle;\n    }\n\n    .dataframe tbody tr th {\n        vertical-align: top;\n    }\n\n    .dataframe thead th {\n        text-align: right;\n    }\n</style>\n<table border=\"1\" class=\"dataframe\">\n  <thead>\n    <tr style=\"text-align: right;\">\n      <th></th>\n      <th>DATE</th>\n      <th>IRLTLT01USQ156N</th>\n    </tr>\n  </thead>\n  <tbody>\n    <tr>\n      <th>0</th>\n      <td>1960-01-01</td>\n      <td>4.486667</td>\n    </tr>\n    <tr>\n      <th>1</th>\n      <td>1960-04-01</td>\n      <td>4.260000</td>\n    </tr>\n    <tr>\n      <th>2</th>\n      <td>1960-07-01</td>\n      <td>3.833333</td>\n    </tr>\n    <tr>\n      <th>3</th>\n      <td>1960-10-01</td>\n      <td>3.886667</td>\n    </tr>\n    <tr>\n      <th>4</th>\n      <td>1961-01-01</td>\n      <td>3.786667</td>\n    </tr>\n    <tr>\n      <th>...</th>\n      <td>...</td>\n      <td>...</td>\n    </tr>\n    <tr>\n      <th>245</th>\n      <td>2021-04-01</td>\n      <td>1.593333</td>\n    </tr>\n    <tr>\n      <th>246</th>\n      <td>2021-07-01</td>\n      <td>1.323333</td>\n    </tr>\n    <tr>\n      <th>247</th>\n      <td>2021-10-01</td>\n      <td>1.536667</td>\n    </tr>\n    <tr>\n      <th>248</th>\n      <td>2022-01-01</td>\n      <td>1.940000</td>\n    </tr>\n    <tr>\n      <th>249</th>\n      <td>2022-04-01</td>\n      <td>2.930000</td>\n    </tr>\n  </tbody>\n</table>\n<p>250 rows × 2 columns</p>\n</div>"
     },
     "execution_count": 4,
     "metadata": {},
     "output_type": "execute_result"
    }
   ],
   "source": [
    "bond_prices_quarterly = pd.read_csv(\"IRLTLT01USQuarterly156N.csv\")\n",
    "bond_prices_quarterly"
   ],
   "metadata": {
    "collapsed": false
   }
  },
  {
   "cell_type": "code",
   "execution_count": null,
   "outputs": [],
   "source": [],
   "metadata": {
    "collapsed": false
   }
  }
 ],
 "metadata": {
  "kernelspec": {
   "display_name": "Python 3",
   "language": "python",
   "name": "python3"
  },
  "language_info": {
   "codemirror_mode": {
    "name": "ipython",
    "version": 2
   },
   "file_extension": ".py",
   "mimetype": "text/x-python",
   "name": "python",
   "nbconvert_exporter": "python",
   "pygments_lexer": "ipython2",
   "version": "2.7.6"
  }
 },
 "nbformat": 4,
 "nbformat_minor": 0
}
