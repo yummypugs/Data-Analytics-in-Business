{
 "cells": [
  {
   "cell_type": "code",
   "execution_count": 2,
   "metadata": {
    "collapsed": true
   },
   "outputs": [],
   "source": [
    "import os\n",
    "import time\n",
    "import sys\n",
    "import numpy as np\n",
    "import pandas as pd\n",
    "import regex as re\n",
    "import lxml\n",
    "import numbers\n",
    "from bs4 import BeautifulSoup\n",
    "import requests\n",
    "import json\n",
    "\n",
    "req_headers = {\n",
    "    'accept': 'text/html,application/xhtml+xml,application/xml;q=0.9,image/webp,image/apng,*/*;q=0.8',\n",
    "    'accept-encoding': 'gzip, deflate, br',\n",
    "    'accept-language': 'en-US,en;q=0.8',\n",
    "    'upgrade-insecure-requests': '1',\n",
    "    'user-agent': 'Mozilla/5.0 (Windows NT 10.0; Win64; x64) AppleWebKit/537.36 (KHTML, like Gecko) Chrome/61.0.3163.100 Safari/537.36'\n",
    "}"
   ]
  },
  {
   "cell_type": "code",
   "execution_count": 10,
   "outputs": [],
   "source": [
    "page_url = 'https://content.fortune.com/wp-json/irving/v1/data/franchise-search-results?list_id=2814606&token=Zm9ydHVuZTpCcHNyZmtNZCN5SndjWkkhNHFqMndEOTM='"
   ],
   "metadata": {
    "collapsed": false
   }
  },
  {
   "cell_type": "code",
   "execution_count": 11,
   "outputs": [
    {
     "name": "stdout",
     "output_type": "stream",
     "text": [
      "2\n"
     ]
    }
   ],
   "source": [
    "# request the URL and parse the JSON\n",
    "response = requests.get(page_url)\n",
    "response.raise_for_status() # raise exception if invalid response\n",
    "comps = response.json()\n",
    "print(len(comps))"
   ],
   "metadata": {
    "collapsed": false
   }
  },
  {
   "cell_type": "code",
   "execution_count": 6,
   "outputs": [
    {
     "name": "stdout",
     "output_type": "stream",
     "text": [
      "2\n"
     ]
    }
   ],
   "source": [
    "comp = comps[1]\n",
    "print(len(comp))"
   ],
   "metadata": {
    "collapsed": false
   }
  },
  {
   "cell_type": "code",
   "execution_count": 216,
   "outputs": [
    {
     "name": "stdout",
     "output_type": "stream",
     "text": [
      "{\n",
      "     \"items\": [\n",
      "          {\n",
      "               \"fields\": [\n",
      "                    {\n",
      "                         \"key\": \"rank\",\n",
      "                         \"value\": \"104\"\n",
      "                    },\n",
      "                    {\n",
      "                         \"key\": \"f500_revenues\",\n",
      "                         \"value\": \"27266.4\"\n",
      "                    },\n",
      "                    {\n",
      "                         \"key\": \"revchange\",\n",
      "                         \"value\": \"7.8\"\n",
      "                    },\n",
      "                    {\n",
      "                         \"key\": \"f500_profits\",\n",
      "                         \"value\": \"53.9\"\n",
      "                    },\n",
      "                    {\n",
      "                         \"key\": \"prftchange\",\n",
      "                         \"value\": \"-81.2\"\n",
      "                    },\n",
      "                    {\n",
      "                         \"key\": \"assets\",\n",
      "                         \"value\": \"14397.4\"\n",
      "                    },\n",
      "                    {\n",
      "                         \"key\": \"f500_mktval\",\n",
      "                         \"value\": \"7833.2\"\n",
      "                    },\n",
      "                 \n"
     ]
    }
   ],
   "source": [
    "# prettify json\n",
    "format_json = json.dumps(comp, sort_keys=True, indent=5)\n",
    "print(format_json[:1000])"
   ],
   "metadata": {
    "collapsed": false
   }
  },
  {
   "cell_type": "code",
   "execution_count": 217,
   "outputs": [
    {
     "name": "stdout",
     "output_type": "stream",
     "text": [
      "{'fields': [{'key': 'rank', 'value': '109'}, {'key': 'f500_revenues', 'value': '26186'}, {'key': 'revchange', 'value': '-5.8'}, {'key': 'f500_profits', 'value': '2422'}, {'key': 'prftchange', 'value': '-26.8'}, {'key': 'assets', 'value': '52663'}, {'key': 'f500_mktval', 'value': '28853.2'}, {'key': 'rankchange1000', 'value': '2'}, {'key': 'f500_employees', 'value': '24225'}, {'key': 'rankchange', 'value': '2'}, {'key': 'measure-up-rank', 'value': '60'}, {'key': 'name', 'value': 'Paramount Global'}, {'key': 'sector', 'value': 'Media'}, {'key': 'f500_industry', 'value': 'Entertainment'}, {'key': 'hqcity', 'value': 'New York'}, {'key': 'hqstate', 'value': 'NY'}, {'key': 'rankgain', 'value': 'yes'}, {'key': 'rankdrop', 'value': 'no'}, {'key': 'newcomer', 'value': 'no'}, {'key': 'profitable', 'value': 'yes'}, {'key': 'ceofounder', 'value': 'no'}, {'key': 'ceowoman', 'value': 'no'}, {'key': 'jobgrowth', 'value': 'no'}, {'key': 'global500-y-n', 'value': 'yes'}, {'key': 'best-companies-y-n', 'value': 'no'}, {'key': 'measure-up-y-n', 'value': 'yes'}, {'fieldMeta': {'title': 'Company', 'type': 'Text', 'importField': 'title', 'order': 'desc'}, 'key': 'title', 'value': 'Paramount Global'}], 'permalink': 'https://fortune.com/company/cbs/fortune500/'}\n"
     ]
    }
   ],
   "source": [
    "# select the third company\n",
    "n_comp = comp['items'][2]\n",
    "print(n_comp)"
   ],
   "metadata": {
    "collapsed": false
   }
  },
  {
   "cell_type": "code",
   "execution_count": 218,
   "outputs": [
    {
     "data": {
      "text/plain": "dict_keys(['fields', 'permalink'])"
     },
     "execution_count": 218,
     "metadata": {},
     "output_type": "execute_result"
    }
   ],
   "source": [
    "n_comp.keys()"
   ],
   "metadata": {
    "collapsed": false
   }
  },
  {
   "cell_type": "code",
   "execution_count": 219,
   "outputs": [
    {
     "name": "stdout",
     "output_type": "stream",
     "text": [
      "https://fortune.com/company/cbs/fortune500/\n"
     ]
    }
   ],
   "source": [
    "new_comp = n_comp['permalink']\n",
    "print(new_comp)"
   ],
   "metadata": {
    "collapsed": false
   }
  },
  {
   "cell_type": "code",
   "execution_count": 220,
   "outputs": [
    {
     "name": "stdout",
     "output_type": "stream",
     "text": [
      "[{'key': 'rank', 'value': '109'}, {'key': 'f500_revenues', 'value': '26186'}, {'key': 'revchange', 'value': '-5.8'}, {'key': 'f500_profits', 'value': '2422'}, {'key': 'prftchange', 'value': '-26.8'}, {'key': 'assets', 'value': '52663'}, {'key': 'f500_mktval', 'value': '28853.2'}, {'key': 'rankchange1000', 'value': '2'}, {'key': 'f500_employees', 'value': '24225'}, {'key': 'rankchange', 'value': '2'}, {'key': 'measure-up-rank', 'value': '60'}, {'key': 'name', 'value': 'Paramount Global'}, {'key': 'sector', 'value': 'Media'}, {'key': 'f500_industry', 'value': 'Entertainment'}, {'key': 'hqcity', 'value': 'New York'}, {'key': 'hqstate', 'value': 'NY'}, {'key': 'rankgain', 'value': 'yes'}, {'key': 'rankdrop', 'value': 'no'}, {'key': 'newcomer', 'value': 'no'}, {'key': 'profitable', 'value': 'yes'}, {'key': 'ceofounder', 'value': 'no'}, {'key': 'ceowoman', 'value': 'no'}, {'key': 'jobgrowth', 'value': 'no'}, {'key': 'global500-y-n', 'value': 'yes'}, {'key': 'best-companies-y-n', 'value': 'no'}, {'key': 'measure-up-y-n', 'value': 'yes'}, {'fieldMeta': {'title': 'Company', 'type': 'Text', 'importField': 'title', 'order': 'desc'}, 'key': 'title', 'value': 'Paramount Global'}]\n"
     ]
    }
   ],
   "source": [
    "my_comp = n_comp['fields']\n",
    "print(my_comp)"
   ],
   "metadata": {
    "collapsed": false
   }
  },
  {
   "cell_type": "markdown",
   "source": [
    "# JSON Data"
   ],
   "metadata": {
    "collapsed": false
   }
  },
  {
   "cell_type": "code",
   "execution_count": 221,
   "outputs": [
    {
     "name": "stdout",
     "output_type": "stream",
     "text": [
      "1000\n"
     ]
    }
   ],
   "source": [
    "fields = []\n",
    "\n",
    "for j in comp['items']:\n",
    "\n",
    "    #for key, value in comp:\n",
    "    field = j['fields']\n",
    "    fields.append(field)\n",
    "\n",
    "print(len(fields))"
   ],
   "metadata": {
    "collapsed": false
   }
  },
  {
   "cell_type": "code",
   "execution_count": 222,
   "outputs": [],
   "source": [
    "df = pd.DataFrame()"
   ],
   "metadata": {
    "collapsed": false
   }
  },
  {
   "cell_type": "code",
   "execution_count": 223,
   "outputs": [],
   "source": [
    "def gather_data(name, col):\n",
    "\n",
    "    lst = []\n",
    "    val = \"\"\n",
    "    for i in fields:\n",
    "        for j in i:\n",
    "            if j['key'] == name:\n",
    "                val = j['value']\n",
    "            else:\n",
    "                pass\n",
    "\n",
    "        lst.append(val)\n",
    "\n",
    "    df[col] = lst\n",
    "\n",
    "    return df"
   ],
   "metadata": {
    "collapsed": false
   }
  },
  {
   "cell_type": "code",
   "execution_count": 224,
   "outputs": [],
   "source": [
    "keys = ['name', 'rank', 'rankchange', 'f500_revenues', 'f500_profits',\n",
    "        'f500_ employees', 'sector', 'hqcity', 'hqstate', 'newcomer',\n",
    "        'ceofounder', 'ceowoman', 'profitable']\n",
    "\n",
    "cols = ['company', 'rank', 'rank_change', 'revenue', 'profit',\n",
    "        'num. of employees', 'sector', 'city', 'state', 'newcomer',\n",
    "        'ceo_founder', 'ceo_woman', 'profitable']\n",
    "\n",
    "\n",
    "for x,y in zip(keys, cols):\n",
    "    f500_df = gather_data(x, y)"
   ],
   "metadata": {
    "collapsed": false
   }
  },
  {
   "cell_type": "code",
   "execution_count": 225,
   "outputs": [
    {
     "name": "stdout",
     "output_type": "stream",
     "text": [
      "(1000, 13)\n"
     ]
    },
    {
     "data": {
      "text/plain": "                  company rank rank_change  revenue  profit num. of employees  \\\n0                   Jabil  104          17  27266.4    53.9                     \n1  Mondelez International  108           9    26581    3555                     \n2        Paramount Global  109           2    26186    2422                     \n3                 Netflix  115          49  24996.1  2761.4                     \n4               Starbucks  125         -11    23518   928.3                     \n\n                          sector            city state newcomer ceo_founder  \\\n0                     Technology  St. Petersburg    FL       no          no   \n1      Food, Beverages & Tobacco         Chicago    IL       no          no   \n2                          Media        New York    NY       no          no   \n3                          Media       Los Gatos    CA       no         yes   \n4  Hotels, Restaurants & Leisure         Seattle    WA       no          no   \n\n  ceo_woman profitable  \n0        no        yes  \n1        no        yes  \n2        no        yes  \n3        no        yes  \n4        no        yes  ",
      "text/html": "<div>\n<style scoped>\n    .dataframe tbody tr th:only-of-type {\n        vertical-align: middle;\n    }\n\n    .dataframe tbody tr th {\n        vertical-align: top;\n    }\n\n    .dataframe thead th {\n        text-align: right;\n    }\n</style>\n<table border=\"1\" class=\"dataframe\">\n  <thead>\n    <tr style=\"text-align: right;\">\n      <th></th>\n      <th>company</th>\n      <th>rank</th>\n      <th>rank_change</th>\n      <th>revenue</th>\n      <th>profit</th>\n      <th>num. of employees</th>\n      <th>sector</th>\n      <th>city</th>\n      <th>state</th>\n      <th>newcomer</th>\n      <th>ceo_founder</th>\n      <th>ceo_woman</th>\n      <th>profitable</th>\n    </tr>\n  </thead>\n  <tbody>\n    <tr>\n      <th>0</th>\n      <td>Jabil</td>\n      <td>104</td>\n      <td>17</td>\n      <td>27266.4</td>\n      <td>53.9</td>\n      <td></td>\n      <td>Technology</td>\n      <td>St. Petersburg</td>\n      <td>FL</td>\n      <td>no</td>\n      <td>no</td>\n      <td>no</td>\n      <td>yes</td>\n    </tr>\n    <tr>\n      <th>1</th>\n      <td>Mondelez International</td>\n      <td>108</td>\n      <td>9</td>\n      <td>26581</td>\n      <td>3555</td>\n      <td></td>\n      <td>Food, Beverages &amp; Tobacco</td>\n      <td>Chicago</td>\n      <td>IL</td>\n      <td>no</td>\n      <td>no</td>\n      <td>no</td>\n      <td>yes</td>\n    </tr>\n    <tr>\n      <th>2</th>\n      <td>Paramount Global</td>\n      <td>109</td>\n      <td>2</td>\n      <td>26186</td>\n      <td>2422</td>\n      <td></td>\n      <td>Media</td>\n      <td>New York</td>\n      <td>NY</td>\n      <td>no</td>\n      <td>no</td>\n      <td>no</td>\n      <td>yes</td>\n    </tr>\n    <tr>\n      <th>3</th>\n      <td>Netflix</td>\n      <td>115</td>\n      <td>49</td>\n      <td>24996.1</td>\n      <td>2761.4</td>\n      <td></td>\n      <td>Media</td>\n      <td>Los Gatos</td>\n      <td>CA</td>\n      <td>no</td>\n      <td>yes</td>\n      <td>no</td>\n      <td>yes</td>\n    </tr>\n    <tr>\n      <th>4</th>\n      <td>Starbucks</td>\n      <td>125</td>\n      <td>-11</td>\n      <td>23518</td>\n      <td>928.3</td>\n      <td></td>\n      <td>Hotels, Restaurants &amp; Leisure</td>\n      <td>Seattle</td>\n      <td>WA</td>\n      <td>no</td>\n      <td>no</td>\n      <td>no</td>\n      <td>yes</td>\n    </tr>\n  </tbody>\n</table>\n</div>"
     },
     "execution_count": 225,
     "metadata": {},
     "output_type": "execute_result"
    }
   ],
   "source": [
    "print(f500_df.shape)\n",
    "f500_df.head()"
   ],
   "metadata": {
    "collapsed": false
   }
  },
  {
   "cell_type": "code",
   "execution_count": 226,
   "outputs": [],
   "source": [
    "f500_df[['rank', 'rank_change', 'revenue', 'profit','num. of employees']] = f500_df[['rank', 'rank_change', 'revenue','profit','num. of employees']].apply(pd.to_numeric)"
   ],
   "metadata": {
    "collapsed": false
   }
  },
  {
   "cell_type": "code",
   "execution_count": 227,
   "outputs": [],
   "source": [
    "# fill missing values with zero\n",
    "f500_df['rank_change'] = f500_df['rank_change'].fillna(0)"
   ],
   "metadata": {
    "collapsed": false
   }
  },
  {
   "cell_type": "code",
   "execution_count": 228,
   "outputs": [
    {
     "name": "stdout",
     "output_type": "stream",
     "text": [
      "company               object\n",
      "rank                   int64\n",
      "rank_change          float64\n",
      "revenue              float64\n",
      "profit               float64\n",
      "num. of employees    float64\n",
      "sector                object\n",
      "city                  object\n",
      "state                 object\n",
      "newcomer              object\n",
      "ceo_founder           object\n",
      "ceo_woman             object\n",
      "profitable            object\n",
      "dtype: object\n"
     ]
    }
   ],
   "source": [
    "print(f500_df.dtypes)"
   ],
   "metadata": {
    "collapsed": false
   }
  },
  {
   "cell_type": "code",
   "execution_count": 229,
   "outputs": [
    {
     "data": {
      "text/plain": "                  company  rank  rank_change  revenue  profit  \\\n0                   Jabil   104         17.0  27266.4    53.9   \n1  Mondelez International   108          9.0  26581.0  3555.0   \n2        Paramount Global   109          2.0  26186.0  2422.0   \n3                 Netflix   115         49.0  24996.1  2761.4   \n4               Starbucks   125        -11.0  23518.0   928.3   \n\n   num. of employees                         sector            city state  \\\n0                NaN                     Technology  St. Petersburg    FL   \n1                NaN      Food, Beverages & Tobacco         Chicago    IL   \n2                NaN                          Media        New York    NY   \n3                NaN                          Media       Los Gatos    CA   \n4                NaN  Hotels, Restaurants & Leisure         Seattle    WA   \n\n  newcomer ceo_founder ceo_woman profitable  prev_rank  \n0       no          no        no        yes      121.0  \n1       no          no        no        yes      117.0  \n2       no          no        no        yes      111.0  \n3       no         yes        no        yes      164.0  \n4       no          no        no        yes      114.0  ",
      "text/html": "<div>\n<style scoped>\n    .dataframe tbody tr th:only-of-type {\n        vertical-align: middle;\n    }\n\n    .dataframe tbody tr th {\n        vertical-align: top;\n    }\n\n    .dataframe thead th {\n        text-align: right;\n    }\n</style>\n<table border=\"1\" class=\"dataframe\">\n  <thead>\n    <tr style=\"text-align: right;\">\n      <th></th>\n      <th>company</th>\n      <th>rank</th>\n      <th>rank_change</th>\n      <th>revenue</th>\n      <th>profit</th>\n      <th>num. of employees</th>\n      <th>sector</th>\n      <th>city</th>\n      <th>state</th>\n      <th>newcomer</th>\n      <th>ceo_founder</th>\n      <th>ceo_woman</th>\n      <th>profitable</th>\n      <th>prev_rank</th>\n    </tr>\n  </thead>\n  <tbody>\n    <tr>\n      <th>0</th>\n      <td>Jabil</td>\n      <td>104</td>\n      <td>17.0</td>\n      <td>27266.4</td>\n      <td>53.9</td>\n      <td>NaN</td>\n      <td>Technology</td>\n      <td>St. Petersburg</td>\n      <td>FL</td>\n      <td>no</td>\n      <td>no</td>\n      <td>no</td>\n      <td>yes</td>\n      <td>121.0</td>\n    </tr>\n    <tr>\n      <th>1</th>\n      <td>Mondelez International</td>\n      <td>108</td>\n      <td>9.0</td>\n      <td>26581.0</td>\n      <td>3555.0</td>\n      <td>NaN</td>\n      <td>Food, Beverages &amp; Tobacco</td>\n      <td>Chicago</td>\n      <td>IL</td>\n      <td>no</td>\n      <td>no</td>\n      <td>no</td>\n      <td>yes</td>\n      <td>117.0</td>\n    </tr>\n    <tr>\n      <th>2</th>\n      <td>Paramount Global</td>\n      <td>109</td>\n      <td>2.0</td>\n      <td>26186.0</td>\n      <td>2422.0</td>\n      <td>NaN</td>\n      <td>Media</td>\n      <td>New York</td>\n      <td>NY</td>\n      <td>no</td>\n      <td>no</td>\n      <td>no</td>\n      <td>yes</td>\n      <td>111.0</td>\n    </tr>\n    <tr>\n      <th>3</th>\n      <td>Netflix</td>\n      <td>115</td>\n      <td>49.0</td>\n      <td>24996.1</td>\n      <td>2761.4</td>\n      <td>NaN</td>\n      <td>Media</td>\n      <td>Los Gatos</td>\n      <td>CA</td>\n      <td>no</td>\n      <td>yes</td>\n      <td>no</td>\n      <td>yes</td>\n      <td>164.0</td>\n    </tr>\n    <tr>\n      <th>4</th>\n      <td>Starbucks</td>\n      <td>125</td>\n      <td>-11.0</td>\n      <td>23518.0</td>\n      <td>928.3</td>\n      <td>NaN</td>\n      <td>Hotels, Restaurants &amp; Leisure</td>\n      <td>Seattle</td>\n      <td>WA</td>\n      <td>no</td>\n      <td>no</td>\n      <td>no</td>\n      <td>yes</td>\n      <td>114.0</td>\n    </tr>\n  </tbody>\n</table>\n</div>"
     },
     "execution_count": 229,
     "metadata": {},
     "output_type": "execute_result"
    }
   ],
   "source": [
    "# Create new features\n",
    "f500_df['prev_rank'] = (f500_df['rank'] + f500_df['rank_change'])\n",
    "f500_df.head()"
   ],
   "metadata": {
    "collapsed": false
   }
  },
  {
   "cell_type": "code",
   "execution_count": 230,
   "outputs": [],
   "source": [
    "# newcommer prev_rank\n",
    "f500_df.loc[(f500_df['newcomer'] == 'yes')| (f500_df['rank']>499), 'prev_rank'] = \" \""
   ],
   "metadata": {
    "collapsed": false
   }
  },
  {
   "cell_type": "code",
   "execution_count": 231,
   "outputs": [
    {
     "data": {
      "text/plain": "                  company  rank  rank_change  revenue  profit  \\\n0                   Jabil   104         17.0  27266.4    53.9   \n1  Mondelez International   108          9.0  26581.0  3555.0   \n2        Paramount Global   109          2.0  26186.0  2422.0   \n3                 Netflix   115         49.0  24996.1  2761.4   \n4               Starbucks   125        -11.0  23518.0   928.3   \n\n   num. of employees                         sector            city state  \\\n0                NaN                     Technology  St. Petersburg    FL   \n1                NaN      Food, Beverages & Tobacco         Chicago    IL   \n2                NaN                          Media        New York    NY   \n3                NaN                          Media       Los Gatos    CA   \n4                NaN  Hotels, Restaurants & Leisure         Seattle    WA   \n\n  newcomer ceo_founder ceo_woman profitable prev_rank  \n0       no          no        no        yes     121.0  \n1       no          no        no        yes     117.0  \n2       no          no        no        yes     111.0  \n3       no         yes        no        yes     164.0  \n4       no          no        no        yes     114.0  ",
      "text/html": "<div>\n<style scoped>\n    .dataframe tbody tr th:only-of-type {\n        vertical-align: middle;\n    }\n\n    .dataframe tbody tr th {\n        vertical-align: top;\n    }\n\n    .dataframe thead th {\n        text-align: right;\n    }\n</style>\n<table border=\"1\" class=\"dataframe\">\n  <thead>\n    <tr style=\"text-align: right;\">\n      <th></th>\n      <th>company</th>\n      <th>rank</th>\n      <th>rank_change</th>\n      <th>revenue</th>\n      <th>profit</th>\n      <th>num. of employees</th>\n      <th>sector</th>\n      <th>city</th>\n      <th>state</th>\n      <th>newcomer</th>\n      <th>ceo_founder</th>\n      <th>ceo_woman</th>\n      <th>profitable</th>\n      <th>prev_rank</th>\n    </tr>\n  </thead>\n  <tbody>\n    <tr>\n      <th>0</th>\n      <td>Jabil</td>\n      <td>104</td>\n      <td>17.0</td>\n      <td>27266.4</td>\n      <td>53.9</td>\n      <td>NaN</td>\n      <td>Technology</td>\n      <td>St. Petersburg</td>\n      <td>FL</td>\n      <td>no</td>\n      <td>no</td>\n      <td>no</td>\n      <td>yes</td>\n      <td>121.0</td>\n    </tr>\n    <tr>\n      <th>1</th>\n      <td>Mondelez International</td>\n      <td>108</td>\n      <td>9.0</td>\n      <td>26581.0</td>\n      <td>3555.0</td>\n      <td>NaN</td>\n      <td>Food, Beverages &amp; Tobacco</td>\n      <td>Chicago</td>\n      <td>IL</td>\n      <td>no</td>\n      <td>no</td>\n      <td>no</td>\n      <td>yes</td>\n      <td>117.0</td>\n    </tr>\n    <tr>\n      <th>2</th>\n      <td>Paramount Global</td>\n      <td>109</td>\n      <td>2.0</td>\n      <td>26186.0</td>\n      <td>2422.0</td>\n      <td>NaN</td>\n      <td>Media</td>\n      <td>New York</td>\n      <td>NY</td>\n      <td>no</td>\n      <td>no</td>\n      <td>no</td>\n      <td>yes</td>\n      <td>111.0</td>\n    </tr>\n    <tr>\n      <th>3</th>\n      <td>Netflix</td>\n      <td>115</td>\n      <td>49.0</td>\n      <td>24996.1</td>\n      <td>2761.4</td>\n      <td>NaN</td>\n      <td>Media</td>\n      <td>Los Gatos</td>\n      <td>CA</td>\n      <td>no</td>\n      <td>yes</td>\n      <td>no</td>\n      <td>yes</td>\n      <td>164.0</td>\n    </tr>\n    <tr>\n      <th>4</th>\n      <td>Starbucks</td>\n      <td>125</td>\n      <td>-11.0</td>\n      <td>23518.0</td>\n      <td>928.3</td>\n      <td>NaN</td>\n      <td>Hotels, Restaurants &amp; Leisure</td>\n      <td>Seattle</td>\n      <td>WA</td>\n      <td>no</td>\n      <td>no</td>\n      <td>no</td>\n      <td>yes</td>\n      <td>114.0</td>\n    </tr>\n  </tbody>\n</table>\n</div>"
     },
     "execution_count": 231,
     "metadata": {},
     "output_type": "execute_result"
    }
   ],
   "source": [
    "f500_df.head()"
   ],
   "metadata": {
    "collapsed": false
   }
  },
  {
   "cell_type": "code",
   "execution_count": 232,
   "outputs": [],
   "source": [
    "f500_df.to_csv(\"2017(2).csv\", index=False)"
   ],
   "metadata": {
    "collapsed": false
   }
  },
  {
   "cell_type": "markdown",
   "source": [
    "# Crawl URL"
   ],
   "metadata": {
    "collapsed": false
   }
  },
  {
   "cell_type": "markdown",
   "source": [
    "# Join and sort"
   ],
   "metadata": {
    "collapsed": false
   }
  }
 ],
 "metadata": {
  "kernelspec": {
   "display_name": "Python 3",
   "language": "python",
   "name": "python3"
  },
  "language_info": {
   "codemirror_mode": {
    "name": "ipython",
    "version": 2
   },
   "file_extension": ".py",
   "mimetype": "text/x-python",
   "name": "python",
   "nbconvert_exporter": "python",
   "pygments_lexer": "ipython2",
   "version": "2.7.6"
  }
 },
 "nbformat": 4,
 "nbformat_minor": 0
}
