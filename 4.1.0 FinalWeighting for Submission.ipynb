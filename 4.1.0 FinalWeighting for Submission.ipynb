{
 "cells": [
  {
   "cell_type": "code",
   "execution_count": 51,
   "metadata": {
    "collapsed": true
   },
   "outputs": [],
   "source": [
    "from sklearn.ensemble import GradientBoostingRegressor\n",
    "from sklearn.ensemble import HistGradientBoostingRegressor\n",
    "import pandas as pd\n",
    "from sklearn.model_selection import train_test_split\n",
    "import matplotlib.pyplot as plt\n",
    "import numpy as np\n",
    "from matplotlib.ticker import MultipleLocator\n",
    "from sklearn.preprocessing import LabelEncoder\n",
    "import seaborn as sns\n",
    "from sklearn.linear_model import LinearRegression\n",
    "from sklearn.linear_model import LogisticRegression\n",
    "import Common_Functions as cmn"
   ]
  },
  {
   "cell_type": "markdown",
   "source": [
    "# Combine All Regressions into one Graph"
   ],
   "metadata": {
    "collapsed": false
   }
  },
  {
   "cell_type": "code",
   "execution_count": 52,
   "outputs": [],
   "source": [
    "sns.set_context(\"poster\")\n",
    "sns.set_style(\"ticks\")"
   ],
   "metadata": {
    "collapsed": false
   }
  },
  {
   "cell_type": "code",
   "execution_count": 53,
   "outputs": [
    {
     "data": {
      "text/plain": "   Random Forest Prediction  Gradient Boosted Regressor Prediction  \\\n0               125856.5575                          127032.322156   \n1               151943.3350                          154184.388463   \n2               182550.9975                          206040.814062   \n3               184554.2975                          193975.265929   \n4               192816.9925                          182797.925233   \n5               185526.7425                          187000.169753   \n6               177600.8150                          195398.769165   \n7               175902.3000                          175374.020482   \n8               178982.6200                          173580.152563   \n9               123154.5500                          114116.880539   \n\n   OLS Prediction  XGBoost Regressor Prediction  \n0   119200.767332                     122261.78  \n1   151923.475793                     149681.34  \n2   172606.277003                     179451.86  \n3   199960.528299                     182765.66  \n4   194639.025564                     182455.05  \n5   181726.200135                     176235.19  \n6   198068.636800                     163989.06  \n7   169915.927191                     167114.17  \n8   206903.596145                     172366.03  \n9   116041.966118                     115120.89  ",
      "text/html": "<div>\n<style scoped>\n    .dataframe tbody tr th:only-of-type {\n        vertical-align: middle;\n    }\n\n    .dataframe tbody tr th {\n        vertical-align: top;\n    }\n\n    .dataframe thead th {\n        text-align: right;\n    }\n</style>\n<table border=\"1\" class=\"dataframe\">\n  <thead>\n    <tr style=\"text-align: right;\">\n      <th></th>\n      <th>Random Forest Prediction</th>\n      <th>Gradient Boosted Regressor Prediction</th>\n      <th>OLS Prediction</th>\n      <th>XGBoost Regressor Prediction</th>\n    </tr>\n  </thead>\n  <tbody>\n    <tr>\n      <th>0</th>\n      <td>125856.5575</td>\n      <td>127032.322156</td>\n      <td>119200.767332</td>\n      <td>122261.78</td>\n    </tr>\n    <tr>\n      <th>1</th>\n      <td>151943.3350</td>\n      <td>154184.388463</td>\n      <td>151923.475793</td>\n      <td>149681.34</td>\n    </tr>\n    <tr>\n      <th>2</th>\n      <td>182550.9975</td>\n      <td>206040.814062</td>\n      <td>172606.277003</td>\n      <td>179451.86</td>\n    </tr>\n    <tr>\n      <th>3</th>\n      <td>184554.2975</td>\n      <td>193975.265929</td>\n      <td>199960.528299</td>\n      <td>182765.66</td>\n    </tr>\n    <tr>\n      <th>4</th>\n      <td>192816.9925</td>\n      <td>182797.925233</td>\n      <td>194639.025564</td>\n      <td>182455.05</td>\n    </tr>\n    <tr>\n      <th>5</th>\n      <td>185526.7425</td>\n      <td>187000.169753</td>\n      <td>181726.200135</td>\n      <td>176235.19</td>\n    </tr>\n    <tr>\n      <th>6</th>\n      <td>177600.8150</td>\n      <td>195398.769165</td>\n      <td>198068.636800</td>\n      <td>163989.06</td>\n    </tr>\n    <tr>\n      <th>7</th>\n      <td>175902.3000</td>\n      <td>175374.020482</td>\n      <td>169915.927191</td>\n      <td>167114.17</td>\n    </tr>\n    <tr>\n      <th>8</th>\n      <td>178982.6200</td>\n      <td>173580.152563</td>\n      <td>206903.596145</td>\n      <td>172366.03</td>\n    </tr>\n    <tr>\n      <th>9</th>\n      <td>123154.5500</td>\n      <td>114116.880539</td>\n      <td>116041.966118</td>\n      <td>115120.89</td>\n    </tr>\n  </tbody>\n</table>\n</div>"
     },
     "execution_count": 53,
     "metadata": {},
     "output_type": "execute_result"
    }
   ],
   "source": [
    "prices = pd.read_csv(\"Exported_Data/RandomForest_for_weights.csv\", index_col=0)\n",
    "prices = prices.rename(columns={'0':'Random Forest Prediction'})\n",
    "#prices[\"Random Forest Prediction\"] = rf.iloc[:,-1:]\n",
    "\n",
    "gbr = pd.read_csv(\"Exported_Data/GBR_for_weights.csv\")\n",
    "prices[\"Gradient Boosted Regressor Prediction\"] = gbr.iloc[:,-1:]\n",
    "\n",
    "ols = pd.read_csv(\"Exported_Data/OLS_for_weights.csv\")\n",
    "prices[\"OLS Prediction\"] = ols.iloc[:,-1:]\n",
    "\n",
    "xgb = pd.read_csv(\"Exported_Data/XGB_for_weights.csv\")\n",
    "prices[\"XGBoost Regressor Prediction\"] = xgb.iloc[:,-1:]\n",
    "\n",
    "prices.head(10)"
   ],
   "metadata": {
    "collapsed": false
   }
  },
  {
   "cell_type": "markdown",
   "source": [
    "# Weightings based on Perceived Accuracy"
   ],
   "metadata": {
    "collapsed": false
   }
  },
  {
   "cell_type": "code",
   "execution_count": 54,
   "outputs": [
    {
     "data": {
      "text/plain": "   Random Forest Prediction  Gradient Boosted Regressor Prediction  \\\n0               125856.5575                          127032.322156   \n1               151943.3350                          154184.388463   \n2               182550.9975                          206040.814062   \n3               184554.2975                          193975.265929   \n4               192816.9925                          182797.925233   \n5               185526.7425                          187000.169753   \n6               177600.8150                          195398.769165   \n7               175902.3000                          175374.020482   \n8               178982.6200                          173580.152563   \n9               123154.5500                          114116.880539   \n\n   OLS Prediction  XGBoost Regressor Prediction  Weighted Average  \n0   119200.767332                     122261.78     124115.117274  \n1   151923.475793                     149681.34     151698.805840  \n2   172606.277003                     179451.86     187403.269542  \n3   199960.528299                     182765.66     188140.216070  \n4   194639.025564                     182455.05     185781.883605  \n5   181726.200135                     176235.19     181840.887194  \n6   198068.636800                     163989.06     179401.092331  \n7   169915.927191                     167114.17     171608.869534  \n8   206903.596145                     172366.03     177356.914068  \n9   116041.966118                     115120.89     116500.449640  ",
      "text/html": "<div>\n<style scoped>\n    .dataframe tbody tr th:only-of-type {\n        vertical-align: middle;\n    }\n\n    .dataframe tbody tr th {\n        vertical-align: top;\n    }\n\n    .dataframe thead th {\n        text-align: right;\n    }\n</style>\n<table border=\"1\" class=\"dataframe\">\n  <thead>\n    <tr style=\"text-align: right;\">\n      <th></th>\n      <th>Random Forest Prediction</th>\n      <th>Gradient Boosted Regressor Prediction</th>\n      <th>OLS Prediction</th>\n      <th>XGBoost Regressor Prediction</th>\n      <th>Weighted Average</th>\n    </tr>\n  </thead>\n  <tbody>\n    <tr>\n      <th>0</th>\n      <td>125856.5575</td>\n      <td>127032.322156</td>\n      <td>119200.767332</td>\n      <td>122261.78</td>\n      <td>124115.117274</td>\n    </tr>\n    <tr>\n      <th>1</th>\n      <td>151943.3350</td>\n      <td>154184.388463</td>\n      <td>151923.475793</td>\n      <td>149681.34</td>\n      <td>151698.805840</td>\n    </tr>\n    <tr>\n      <th>2</th>\n      <td>182550.9975</td>\n      <td>206040.814062</td>\n      <td>172606.277003</td>\n      <td>179451.86</td>\n      <td>187403.269542</td>\n    </tr>\n    <tr>\n      <th>3</th>\n      <td>184554.2975</td>\n      <td>193975.265929</td>\n      <td>199960.528299</td>\n      <td>182765.66</td>\n      <td>188140.216070</td>\n    </tr>\n    <tr>\n      <th>4</th>\n      <td>192816.9925</td>\n      <td>182797.925233</td>\n      <td>194639.025564</td>\n      <td>182455.05</td>\n      <td>185781.883605</td>\n    </tr>\n    <tr>\n      <th>5</th>\n      <td>185526.7425</td>\n      <td>187000.169753</td>\n      <td>181726.200135</td>\n      <td>176235.19</td>\n      <td>181840.887194</td>\n    </tr>\n    <tr>\n      <th>6</th>\n      <td>177600.8150</td>\n      <td>195398.769165</td>\n      <td>198068.636800</td>\n      <td>163989.06</td>\n      <td>179401.092331</td>\n    </tr>\n    <tr>\n      <th>7</th>\n      <td>175902.3000</td>\n      <td>175374.020482</td>\n      <td>169915.927191</td>\n      <td>167114.17</td>\n      <td>171608.869534</td>\n    </tr>\n    <tr>\n      <th>8</th>\n      <td>178982.6200</td>\n      <td>173580.152563</td>\n      <td>206903.596145</td>\n      <td>172366.03</td>\n      <td>177356.914068</td>\n    </tr>\n    <tr>\n      <th>9</th>\n      <td>123154.5500</td>\n      <td>114116.880539</td>\n      <td>116041.966118</td>\n      <td>115120.89</td>\n      <td>116500.449640</td>\n    </tr>\n  </tbody>\n</table>\n</div>"
     },
     "execution_count": 54,
     "metadata": {},
     "output_type": "execute_result"
    }
   ],
   "source": [
    "weight = [.93*2, .94*3, .9*1, .95*4]\n",
    "columns = [\"Random Forest Prediction\", \"Gradient Boosted Regressor Prediction\", \"OLS Prediction\", \"XGBoost Regressor Prediction\"]\n",
    "prices[\"Weighted Average\"] = np.average(prices[columns], weights=weight, axis=1)\n",
    "\n",
    "prices.head(10)"
   ],
   "metadata": {
    "collapsed": false
   }
  },
  {
   "cell_type": "code",
   "execution_count": 55,
   "outputs": [],
   "source": [
    "#prices[\"Weighted Average\"] = (prices[\"Random Forest Prediction\"]* 0.15)+ (prices[\"Gradient Boosted Regressor Prediction\"]*0.2)+ (prices[\"OLS Prediction\"]*0.05)+ (prices[\"XGBoost Regressor Prediction\"]*0.6)\n",
    "\n",
    "#prices.head(10)"
   ],
   "metadata": {
    "collapsed": false
   }
  },
  {
   "cell_type": "code",
   "execution_count": 56,
   "outputs": [],
   "source": [
    "#weighted = prices[\"Weighted Average\"]\n",
    "weighted = pd.DataFrame(i for i in range(1461,2920))\n",
    "weighted = weighted.rename(columns={0:'Id'})\n",
    "weighted[\"SalePrice\"] = prices['Weighted Average'].round(2)\n",
    "weighted = weighted.set_index(\"Id\")\n",
    "\n",
    "pd.DataFrame(weighted).to_csv(f\"{cmn.export_data_path}Weighted Submission.csv\")"
   ],
   "metadata": {
    "collapsed": false
   }
  },
  {
   "cell_type": "code",
   "execution_count": 57,
   "outputs": [
    {
     "data": {
      "text/plain": "      SalePrice\nId             \n1461  124115.12\n1462  151698.81\n1463  187403.27\n1464  188140.22\n1465  185781.88\n...         ...\n2915   77483.38\n2916   79929.87\n2917  169925.87\n2918  102934.83\n2919  237501.83\n\n[1459 rows x 1 columns]",
      "text/html": "<div>\n<style scoped>\n    .dataframe tbody tr th:only-of-type {\n        vertical-align: middle;\n    }\n\n    .dataframe tbody tr th {\n        vertical-align: top;\n    }\n\n    .dataframe thead th {\n        text-align: right;\n    }\n</style>\n<table border=\"1\" class=\"dataframe\">\n  <thead>\n    <tr style=\"text-align: right;\">\n      <th></th>\n      <th>SalePrice</th>\n    </tr>\n    <tr>\n      <th>Id</th>\n      <th></th>\n    </tr>\n  </thead>\n  <tbody>\n    <tr>\n      <th>1461</th>\n      <td>124115.12</td>\n    </tr>\n    <tr>\n      <th>1462</th>\n      <td>151698.81</td>\n    </tr>\n    <tr>\n      <th>1463</th>\n      <td>187403.27</td>\n    </tr>\n    <tr>\n      <th>1464</th>\n      <td>188140.22</td>\n    </tr>\n    <tr>\n      <th>1465</th>\n      <td>185781.88</td>\n    </tr>\n    <tr>\n      <th>...</th>\n      <td>...</td>\n    </tr>\n    <tr>\n      <th>2915</th>\n      <td>77483.38</td>\n    </tr>\n    <tr>\n      <th>2916</th>\n      <td>79929.87</td>\n    </tr>\n    <tr>\n      <th>2917</th>\n      <td>169925.87</td>\n    </tr>\n    <tr>\n      <th>2918</th>\n      <td>102934.83</td>\n    </tr>\n    <tr>\n      <th>2919</th>\n      <td>237501.83</td>\n    </tr>\n  </tbody>\n</table>\n<p>1459 rows × 1 columns</p>\n</div>"
     },
     "execution_count": 57,
     "metadata": {},
     "output_type": "execute_result"
    }
   ],
   "source": [
    "weighted"
   ],
   "metadata": {
    "collapsed": false
   }
  },
  {
   "cell_type": "code",
   "execution_count": 58,
   "outputs": [],
   "source": [
    "#weighted = prices[\"Weighted Average\"]\n",
    "xgb_sub = pd.DataFrame(i for i in range(1461,2920))\n",
    "xgb_sub = xgb_sub.rename(columns={0:'Id'})\n",
    "xgb_sub[\"SalePrice\"] = prices['XGBoost Regressor Prediction']\n",
    "xgb_sub = xgb_sub.set_index(\"Id\")\n",
    "\n",
    "pd.DataFrame(xgb_sub).to_csv(f\"{cmn.export_data_path}xgb_sub.csv\")"
   ],
   "metadata": {
    "collapsed": false
   }
  },
  {
   "cell_type": "code",
   "execution_count": 59,
   "outputs": [
    {
     "data": {
      "text/plain": "      Top 0.3%\nId            \n1461  122344.0\n1462  161549.0\n1463  184424.0\n1464  195709.0\n1465  187205.0\n1466  172682.0\n1467  173095.0\n1468  165704.0\n1469  187760.0\n1470  126938.0",
      "text/html": "<div>\n<style scoped>\n    .dataframe tbody tr th:only-of-type {\n        vertical-align: middle;\n    }\n\n    .dataframe tbody tr th {\n        vertical-align: top;\n    }\n\n    .dataframe thead th {\n        text-align: right;\n    }\n</style>\n<table border=\"1\" class=\"dataframe\">\n  <thead>\n    <tr style=\"text-align: right;\">\n      <th></th>\n      <th>Top 0.3%</th>\n    </tr>\n    <tr>\n      <th>Id</th>\n      <th></th>\n    </tr>\n  </thead>\n  <tbody>\n    <tr>\n      <th>1461</th>\n      <td>122344.0</td>\n    </tr>\n    <tr>\n      <th>1462</th>\n      <td>161549.0</td>\n    </tr>\n    <tr>\n      <th>1463</th>\n      <td>184424.0</td>\n    </tr>\n    <tr>\n      <th>1464</th>\n      <td>195709.0</td>\n    </tr>\n    <tr>\n      <th>1465</th>\n      <td>187205.0</td>\n    </tr>\n    <tr>\n      <th>1466</th>\n      <td>172682.0</td>\n    </tr>\n    <tr>\n      <th>1467</th>\n      <td>173095.0</td>\n    </tr>\n    <tr>\n      <th>1468</th>\n      <td>165704.0</td>\n    </tr>\n    <tr>\n      <th>1469</th>\n      <td>187760.0</td>\n    </tr>\n    <tr>\n      <th>1470</th>\n      <td>126938.0</td>\n    </tr>\n  </tbody>\n</table>\n</div>"
     },
     "metadata": {},
     "output_type": "display_data"
    },
    {
     "data": {
      "text/plain": "      Our Weighted Result\nId                       \n1461            124115.12\n1462            151698.81\n1463            187403.27\n1464            188140.22\n1465            185781.88\n1466            181840.89\n1467            179401.09\n1468            171608.87\n1469            177356.91\n1470            116500.45",
      "text/html": "<div>\n<style scoped>\n    .dataframe tbody tr th:only-of-type {\n        vertical-align: middle;\n    }\n\n    .dataframe tbody tr th {\n        vertical-align: top;\n    }\n\n    .dataframe thead th {\n        text-align: right;\n    }\n</style>\n<table border=\"1\" class=\"dataframe\">\n  <thead>\n    <tr style=\"text-align: right;\">\n      <th></th>\n      <th>Our Weighted Result</th>\n    </tr>\n    <tr>\n      <th>Id</th>\n      <th></th>\n    </tr>\n  </thead>\n  <tbody>\n    <tr>\n      <th>1461</th>\n      <td>124115.12</td>\n    </tr>\n    <tr>\n      <th>1462</th>\n      <td>151698.81</td>\n    </tr>\n    <tr>\n      <th>1463</th>\n      <td>187403.27</td>\n    </tr>\n    <tr>\n      <th>1464</th>\n      <td>188140.22</td>\n    </tr>\n    <tr>\n      <th>1465</th>\n      <td>185781.88</td>\n    </tr>\n    <tr>\n      <th>1466</th>\n      <td>181840.89</td>\n    </tr>\n    <tr>\n      <th>1467</th>\n      <td>179401.09</td>\n    </tr>\n    <tr>\n      <th>1468</th>\n      <td>171608.87</td>\n    </tr>\n    <tr>\n      <th>1469</th>\n      <td>177356.91</td>\n    </tr>\n    <tr>\n      <th>1470</th>\n      <td>116500.45</td>\n    </tr>\n  </tbody>\n</table>\n</div>"
     },
     "metadata": {},
     "output_type": "display_data"
    }
   ],
   "source": [
    "df_top = pd.read_csv(\"Exported_Data/submission_regression_top0.3.csv\", index_col=\"Id\")\n",
    "df_top = df_top.rename(columns={\"SalePrice\":\"Top 0.3%\"})\n",
    "weighted = weighted.rename(columns={\"SalePrice\":\"Our Weighted Result\"})\n",
    "display(df_top.head(10), weighted.head(10))"
   ],
   "metadata": {
    "collapsed": false
   }
  },
  {
   "cell_type": "code",
   "execution_count": 60,
   "outputs": [
    {
     "data": {
      "text/plain": "      Our Weighted Result  Top 0.3% Result\nId                                        \n1461            124115.12         122344.0\n1462            151698.81         161549.0\n1463            187403.27         184424.0\n1464            188140.22         195709.0\n1465            185781.88         187205.0\n1466            181840.89         172682.0\n1467            179401.09         173095.0\n1468            171608.87         165704.0\n1469            177356.91         187760.0\n1470            116500.45         126938.0",
      "text/html": "<div>\n<style scoped>\n    .dataframe tbody tr th:only-of-type {\n        vertical-align: middle;\n    }\n\n    .dataframe tbody tr th {\n        vertical-align: top;\n    }\n\n    .dataframe thead th {\n        text-align: right;\n    }\n</style>\n<table border=\"1\" class=\"dataframe\">\n  <thead>\n    <tr style=\"text-align: right;\">\n      <th></th>\n      <th>Our Weighted Result</th>\n      <th>Top 0.3% Result</th>\n    </tr>\n    <tr>\n      <th>Id</th>\n      <th></th>\n      <th></th>\n    </tr>\n  </thead>\n  <tbody>\n    <tr>\n      <th>1461</th>\n      <td>124115.12</td>\n      <td>122344.0</td>\n    </tr>\n    <tr>\n      <th>1462</th>\n      <td>151698.81</td>\n      <td>161549.0</td>\n    </tr>\n    <tr>\n      <th>1463</th>\n      <td>187403.27</td>\n      <td>184424.0</td>\n    </tr>\n    <tr>\n      <th>1464</th>\n      <td>188140.22</td>\n      <td>195709.0</td>\n    </tr>\n    <tr>\n      <th>1465</th>\n      <td>185781.88</td>\n      <td>187205.0</td>\n    </tr>\n    <tr>\n      <th>1466</th>\n      <td>181840.89</td>\n      <td>172682.0</td>\n    </tr>\n    <tr>\n      <th>1467</th>\n      <td>179401.09</td>\n      <td>173095.0</td>\n    </tr>\n    <tr>\n      <th>1468</th>\n      <td>171608.87</td>\n      <td>165704.0</td>\n    </tr>\n    <tr>\n      <th>1469</th>\n      <td>177356.91</td>\n      <td>187760.0</td>\n    </tr>\n    <tr>\n      <th>1470</th>\n      <td>116500.45</td>\n      <td>126938.0</td>\n    </tr>\n  </tbody>\n</table>\n</div>"
     },
     "execution_count": 60,
     "metadata": {},
     "output_type": "execute_result"
    }
   ],
   "source": [
    "weighted[\"Top 0.3% Result\"] = df_top\n",
    "weighted.head(10)"
   ],
   "metadata": {
    "collapsed": false
   }
  },
  {
   "cell_type": "code",
   "execution_count": 68,
   "outputs": [
    {
     "data": {
      "text/plain": "      Our Weighted Result  Top 0.3% Result  % Difference\nId                                                      \n1461            124115.12         122344.0        0.0145\n1462            151698.81         161549.0       -0.0610\n1463            187403.27         184424.0        0.0162\n1464            188140.22         195709.0       -0.0387\n1465            185781.88         187205.0       -0.0076\n1466            181840.89         172682.0        0.0530\n1467            179401.09         173095.0        0.0364\n1468            171608.87         165704.0        0.0356\n1469            177356.91         187760.0       -0.0554\n1470            116500.45         126938.0       -0.0822",
      "text/html": "<div>\n<style scoped>\n    .dataframe tbody tr th:only-of-type {\n        vertical-align: middle;\n    }\n\n    .dataframe tbody tr th {\n        vertical-align: top;\n    }\n\n    .dataframe thead th {\n        text-align: right;\n    }\n</style>\n<table border=\"1\" class=\"dataframe\">\n  <thead>\n    <tr style=\"text-align: right;\">\n      <th></th>\n      <th>Our Weighted Result</th>\n      <th>Top 0.3% Result</th>\n      <th>% Difference</th>\n    </tr>\n    <tr>\n      <th>Id</th>\n      <th></th>\n      <th></th>\n      <th></th>\n    </tr>\n  </thead>\n  <tbody>\n    <tr>\n      <th>1461</th>\n      <td>124115.12</td>\n      <td>122344.0</td>\n      <td>0.0145</td>\n    </tr>\n    <tr>\n      <th>1462</th>\n      <td>151698.81</td>\n      <td>161549.0</td>\n      <td>-0.0610</td>\n    </tr>\n    <tr>\n      <th>1463</th>\n      <td>187403.27</td>\n      <td>184424.0</td>\n      <td>0.0162</td>\n    </tr>\n    <tr>\n      <th>1464</th>\n      <td>188140.22</td>\n      <td>195709.0</td>\n      <td>-0.0387</td>\n    </tr>\n    <tr>\n      <th>1465</th>\n      <td>185781.88</td>\n      <td>187205.0</td>\n      <td>-0.0076</td>\n    </tr>\n    <tr>\n      <th>1466</th>\n      <td>181840.89</td>\n      <td>172682.0</td>\n      <td>0.0530</td>\n    </tr>\n    <tr>\n      <th>1467</th>\n      <td>179401.09</td>\n      <td>173095.0</td>\n      <td>0.0364</td>\n    </tr>\n    <tr>\n      <th>1468</th>\n      <td>171608.87</td>\n      <td>165704.0</td>\n      <td>0.0356</td>\n    </tr>\n    <tr>\n      <th>1469</th>\n      <td>177356.91</td>\n      <td>187760.0</td>\n      <td>-0.0554</td>\n    </tr>\n    <tr>\n      <th>1470</th>\n      <td>116500.45</td>\n      <td>126938.0</td>\n      <td>-0.0822</td>\n    </tr>\n  </tbody>\n</table>\n</div>"
     },
     "execution_count": 68,
     "metadata": {},
     "output_type": "execute_result"
    }
   ],
   "source": [
    "weighted[\"% Difference\"] = ((weighted.loc[:,\"Our Weighted Result\"]/weighted.loc[:,\"Top 0.3% Result\"] - 1)).round(4)\n",
    "weighted.head(10)"
   ],
   "metadata": {
    "collapsed": false
   }
  },
  {
   "cell_type": "code",
   "execution_count": 63,
   "outputs": [
    {
     "data": {
      "text/plain": "% Difference\n 1.50     5\n 0.95     4\n-0.76     4\n 2.48     4\n-1.55     4\n         ..\n-2.86     1\n-2.85     1\n-2.79     1\n-2.78     1\n 64.67    1\nLength: 1062, dtype: int64"
     },
     "execution_count": 63,
     "metadata": {},
     "output_type": "execute_result"
    }
   ],
   "source": [
    "weighted.value_counts(\"% Difference\")"
   ],
   "metadata": {
    "collapsed": false
   }
  },
  {
   "cell_type": "code",
   "execution_count": null,
   "outputs": [],
   "source": [],
   "metadata": {
    "collapsed": false
   }
  }
 ],
 "metadata": {
  "kernelspec": {
   "display_name": "Python 3",
   "language": "python",
   "name": "python3"
  },
  "language_info": {
   "codemirror_mode": {
    "name": "ipython",
    "version": 2
   },
   "file_extension": ".py",
   "mimetype": "text/x-python",
   "name": "python",
   "nbconvert_exporter": "python",
   "pygments_lexer": "ipython2",
   "version": "2.7.6"
  }
 },
 "nbformat": 4,
 "nbformat_minor": 0
}
