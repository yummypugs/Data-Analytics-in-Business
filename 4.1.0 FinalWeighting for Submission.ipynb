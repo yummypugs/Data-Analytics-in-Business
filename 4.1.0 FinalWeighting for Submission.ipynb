{
 "cells": [
  {
   "cell_type": "code",
   "execution_count": 1,
   "metadata": {
    "collapsed": true
   },
   "outputs": [],
   "source": [
    "from sklearn.ensemble import GradientBoostingRegressor\n",
    "from sklearn.ensemble import HistGradientBoostingRegressor\n",
    "import pandas as pd\n",
    "from sklearn.model_selection import train_test_split\n",
    "import matplotlib.pyplot as plt\n",
    "import numpy as np\n",
    "from matplotlib.ticker import MultipleLocator\n",
    "from sklearn.preprocessing import LabelEncoder\n",
    "import seaborn as sns\n",
    "from sklearn.linear_model import LinearRegression\n",
    "from sklearn.linear_model import LogisticRegression\n",
    "import Common_Functions as cmn"
   ]
  },
  {
   "cell_type": "markdown",
   "source": [
    "# Combine All Regressions into one Graph"
   ],
   "metadata": {
    "collapsed": false
   }
  },
  {
   "cell_type": "code",
   "execution_count": 2,
   "outputs": [],
   "source": [
    "sns.set_context(\"poster\")\n",
    "sns.set_style(\"ticks\")"
   ],
   "metadata": {
    "collapsed": false
   }
  },
  {
   "cell_type": "code",
   "execution_count": 3,
   "outputs": [
    {
     "data": {
      "text/plain": "   SalePrice  Random Forest Prediction  Gradient Boosted Regressor Prediction  \\\n0     208500             200024.618000                          203134.857093   \n1     181500             164336.991725                          166604.447006   \n2     223500             214510.291750                          214568.225191   \n3     140000             180331.061450                          182574.606910   \n4     250000             291077.017075                          296219.484848   \n5     143000             154814.209450                          156977.535760   \n6     307000             295568.982250                          289599.131700   \n7     200000             218701.756600                          211407.271823   \n8     129900             173462.545825                          162558.878411   \n9     118000             121473.271425                          119907.948215   \n\n   OLS Prediction  XGBoost Regressor  \n0   227243.598710         203864.280  \n1   196355.868944         166006.050  \n2   222831.166926         217937.500  \n3   199358.318716         176473.830  \n4   295552.240770         286894.940  \n5   178645.733189         158264.860  \n6   272538.422890         304965.160  \n7   251870.815786         224092.600  \n8   189753.427301         166114.940  \n9    83918.353787         117998.414  ",
      "text/html": "<div>\n<style scoped>\n    .dataframe tbody tr th:only-of-type {\n        vertical-align: middle;\n    }\n\n    .dataframe tbody tr th {\n        vertical-align: top;\n    }\n\n    .dataframe thead th {\n        text-align: right;\n    }\n</style>\n<table border=\"1\" class=\"dataframe\">\n  <thead>\n    <tr style=\"text-align: right;\">\n      <th></th>\n      <th>SalePrice</th>\n      <th>Random Forest Prediction</th>\n      <th>Gradient Boosted Regressor Prediction</th>\n      <th>OLS Prediction</th>\n      <th>XGBoost Regressor</th>\n    </tr>\n  </thead>\n  <tbody>\n    <tr>\n      <th>0</th>\n      <td>208500</td>\n      <td>200024.618000</td>\n      <td>203134.857093</td>\n      <td>227243.598710</td>\n      <td>203864.280</td>\n    </tr>\n    <tr>\n      <th>1</th>\n      <td>181500</td>\n      <td>164336.991725</td>\n      <td>166604.447006</td>\n      <td>196355.868944</td>\n      <td>166006.050</td>\n    </tr>\n    <tr>\n      <th>2</th>\n      <td>223500</td>\n      <td>214510.291750</td>\n      <td>214568.225191</td>\n      <td>222831.166926</td>\n      <td>217937.500</td>\n    </tr>\n    <tr>\n      <th>3</th>\n      <td>140000</td>\n      <td>180331.061450</td>\n      <td>182574.606910</td>\n      <td>199358.318716</td>\n      <td>176473.830</td>\n    </tr>\n    <tr>\n      <th>4</th>\n      <td>250000</td>\n      <td>291077.017075</td>\n      <td>296219.484848</td>\n      <td>295552.240770</td>\n      <td>286894.940</td>\n    </tr>\n    <tr>\n      <th>5</th>\n      <td>143000</td>\n      <td>154814.209450</td>\n      <td>156977.535760</td>\n      <td>178645.733189</td>\n      <td>158264.860</td>\n    </tr>\n    <tr>\n      <th>6</th>\n      <td>307000</td>\n      <td>295568.982250</td>\n      <td>289599.131700</td>\n      <td>272538.422890</td>\n      <td>304965.160</td>\n    </tr>\n    <tr>\n      <th>7</th>\n      <td>200000</td>\n      <td>218701.756600</td>\n      <td>211407.271823</td>\n      <td>251870.815786</td>\n      <td>224092.600</td>\n    </tr>\n    <tr>\n      <th>8</th>\n      <td>129900</td>\n      <td>173462.545825</td>\n      <td>162558.878411</td>\n      <td>189753.427301</td>\n      <td>166114.940</td>\n    </tr>\n    <tr>\n      <th>9</th>\n      <td>118000</td>\n      <td>121473.271425</td>\n      <td>119907.948215</td>\n      <td>83918.353787</td>\n      <td>117998.414</td>\n    </tr>\n  </tbody>\n</table>\n</div>"
     },
     "execution_count": 3,
     "metadata": {},
     "output_type": "execute_result"
    }
   ],
   "source": [
    "observed_price = cmn.get_stringless_training_data()\n",
    "prices = observed_price.iloc[:,-1:]\n",
    "rf = pd.read_csv(\"Exported_Data/RandomForest_for_weights.csv\")\n",
    "prices[\"Random Forest Prediction\"] = rf.iloc[:,-1:]\n",
    "\n",
    "gbr = pd.read_csv(\"Exported_Data/GBR_for_weights.csv\")\n",
    "prices[\"Gradient Boosted Regressor Prediction\"] = gbr.iloc[:,-1:]\n",
    "\n",
    "ols = pd.read_csv(\"Exported_Data/OLS_for_weights.csv\")\n",
    "prices[\"OLS Prediction\"] = ols.iloc[:,-1:]\n",
    "\n",
    "xgb = pd.read_csv(\"Exported_Data/XGB_for_weights.csv\")\n",
    "prices[\"XGBoost Regressor\"] = xgb.iloc[:,-1:]\n",
    "\n",
    "prices.head(10)"
   ],
   "metadata": {
    "collapsed": false
   }
  },
  {
   "cell_type": "markdown",
   "source": [
    "# Weightings based on Perceived Accuracy"
   ],
   "metadata": {
    "collapsed": false
   }
  },
  {
   "cell_type": "code",
   "execution_count": 11,
   "outputs": [],
   "source": [
    "observed_price = cmn.get_stringless_training_data()\n",
    "prices = observed_price.iloc[:,-1:]\n",
    "rf = pd.read_csv(\"Exported_Data/RandomForestPrediction.csv\")\n",
    "prices[\"Random Forest Prediction\"] = rf.iloc[:,-1:]\n",
    "\n",
    "gbr = pd.read_csv(\"Exported_Data/GBR.csv\")\n",
    "prices[\"Gradient Boosted Regressor Prediction\"] = gbr.iloc[:,-1:]\n",
    "\n",
    "ols = pd.read_csv(\"Exported_Data/OLS.csv\")\n",
    "prices[\"OLS Prediction\"] = ols.iloc[:,-1:]\n",
    "\n",
    "xgb = pd.read_csv(\"Exported_Data/XGB.csv\")\n",
    "prices[\"XGB Regressor Prediction\"] = xgb.iloc[:,-1:]"
   ],
   "metadata": {
    "collapsed": false
   }
  },
  {
   "cell_type": "code",
   "execution_count": 45,
   "outputs": [
    {
     "data": {
      "text/plain": "   SalePrice  Random Forest Prediction  Gradient Boosted Regressor Prediction  \\\n0     208500             200024.618000                          203134.857093   \n1     181500             164336.991725                          166604.447006   \n2     223500             214510.291750                          214568.225191   \n3     140000             180331.061450                          182574.606910   \n4     250000             291077.017075                          296219.484848   \n5     143000             154814.209450                          156977.535760   \n6     307000             295568.982250                          289599.131700   \n7     200000             218701.756600                          211407.271823   \n8     129900             173462.545825                          162558.878411   \n9     118000             121473.271425                          119907.948215   \n\n   OLS Prediction  XGB Regressor Prediction  Weighted Average  \n0   227243.598710                203864.280     208516.079836  \n1   196355.868944                166006.050     172993.443469  \n2   222831.166926                217937.500     217691.379042  \n3   199358.318716                176473.830     183974.580403  \n4   295552.240770                286894.940     291863.976100  \n5   178645.733189                158264.860     162148.521420  \n6   272538.422890                304965.160     292061.654418  \n7   251870.815786                224092.600     226692.542367  \n8   189753.427301                166114.940     172136.852960  \n9    83918.353787                117998.414     111042.088605  ",
      "text/html": "<div>\n<style scoped>\n    .dataframe tbody tr th:only-of-type {\n        vertical-align: middle;\n    }\n\n    .dataframe tbody tr th {\n        vertical-align: top;\n    }\n\n    .dataframe thead th {\n        text-align: right;\n    }\n</style>\n<table border=\"1\" class=\"dataframe\">\n  <thead>\n    <tr style=\"text-align: right;\">\n      <th></th>\n      <th>SalePrice</th>\n      <th>Random Forest Prediction</th>\n      <th>Gradient Boosted Regressor Prediction</th>\n      <th>OLS Prediction</th>\n      <th>XGB Regressor Prediction</th>\n      <th>Weighted Average</th>\n    </tr>\n  </thead>\n  <tbody>\n    <tr>\n      <th>0</th>\n      <td>208500</td>\n      <td>200024.618000</td>\n      <td>203134.857093</td>\n      <td>227243.598710</td>\n      <td>203864.280</td>\n      <td>208516.079836</td>\n    </tr>\n    <tr>\n      <th>1</th>\n      <td>181500</td>\n      <td>164336.991725</td>\n      <td>166604.447006</td>\n      <td>196355.868944</td>\n      <td>166006.050</td>\n      <td>172993.443469</td>\n    </tr>\n    <tr>\n      <th>2</th>\n      <td>223500</td>\n      <td>214510.291750</td>\n      <td>214568.225191</td>\n      <td>222831.166926</td>\n      <td>217937.500</td>\n      <td>217691.379042</td>\n    </tr>\n    <tr>\n      <th>3</th>\n      <td>140000</td>\n      <td>180331.061450</td>\n      <td>182574.606910</td>\n      <td>199358.318716</td>\n      <td>176473.830</td>\n      <td>183974.580403</td>\n    </tr>\n    <tr>\n      <th>4</th>\n      <td>250000</td>\n      <td>291077.017075</td>\n      <td>296219.484848</td>\n      <td>295552.240770</td>\n      <td>286894.940</td>\n      <td>291863.976100</td>\n    </tr>\n    <tr>\n      <th>5</th>\n      <td>143000</td>\n      <td>154814.209450</td>\n      <td>156977.535760</td>\n      <td>178645.733189</td>\n      <td>158264.860</td>\n      <td>162148.521420</td>\n    </tr>\n    <tr>\n      <th>6</th>\n      <td>307000</td>\n      <td>295568.982250</td>\n      <td>289599.131700</td>\n      <td>272538.422890</td>\n      <td>304965.160</td>\n      <td>292061.654418</td>\n    </tr>\n    <tr>\n      <th>7</th>\n      <td>200000</td>\n      <td>218701.756600</td>\n      <td>211407.271823</td>\n      <td>251870.815786</td>\n      <td>224092.600</td>\n      <td>226692.542367</td>\n    </tr>\n    <tr>\n      <th>8</th>\n      <td>129900</td>\n      <td>173462.545825</td>\n      <td>162558.878411</td>\n      <td>189753.427301</td>\n      <td>166114.940</td>\n      <td>172136.852960</td>\n    </tr>\n    <tr>\n      <th>9</th>\n      <td>118000</td>\n      <td>121473.271425</td>\n      <td>119907.948215</td>\n      <td>83918.353787</td>\n      <td>117998.414</td>\n      <td>111042.088605</td>\n    </tr>\n  </tbody>\n</table>\n</div>"
     },
     "execution_count": 45,
     "metadata": {},
     "output_type": "execute_result"
    }
   ],
   "source": [
    "weight = [.3, .4, .4, .6]\n",
    "columns = [\"Random Forest Prediction\", \"Gradient Boosted Regressor Prediction\", \"OLS Prediction\", \"XGB Regressor Prediction\"]\n",
    "prices[\"Weighted Average\"] = np.average(prices[columns], weights=weight, axis=1)\n",
    "\n",
    "prices.head(10)"
   ],
   "metadata": {
    "collapsed": false
   }
  },
  {
   "cell_type": "code",
   "execution_count": 47,
   "outputs": [],
   "source": [
    "#weighted = prices[\"Weighted Average\"]\n",
    "weighted = pd.DataFrame(i for i in range(1461,2920))\n",
    "weighted = weighted.rename(columns={0:'Id'})\n",
    "weighted[\"SalePrice\"] = prices['Weighted Average']\n",
    "weighted = weighted.set_index(\"Id\")\n",
    "\n",
    "pd.DataFrame(weighted).to_csv(f\"{cmn.export_data_path}Weighted Submission.csv\")"
   ],
   "metadata": {
    "collapsed": false
   }
  },
  {
   "cell_type": "code",
   "execution_count": null,
   "outputs": [],
   "source": [],
   "metadata": {
    "collapsed": false
   }
  }
 ],
 "metadata": {
  "kernelspec": {
   "display_name": "Python 3",
   "language": "python",
   "name": "python3"
  },
  "language_info": {
   "codemirror_mode": {
    "name": "ipython",
    "version": 2
   },
   "file_extension": ".py",
   "mimetype": "text/x-python",
   "name": "python",
   "nbconvert_exporter": "python",
   "pygments_lexer": "ipython2",
   "version": "2.7.6"
  }
 },
 "nbformat": 4,
 "nbformat_minor": 0
}
