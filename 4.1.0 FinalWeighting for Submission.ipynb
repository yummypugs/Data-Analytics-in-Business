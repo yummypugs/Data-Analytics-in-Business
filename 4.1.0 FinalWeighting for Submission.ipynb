{
 "cells": [
  {
   "cell_type": "code",
   "execution_count": 1,
   "metadata": {
    "collapsed": true
   },
   "outputs": [],
   "source": [
    "from sklearn.ensemble import GradientBoostingRegressor\n",
    "from sklearn.ensemble import HistGradientBoostingRegressor\n",
    "import pandas as pd\n",
    "from sklearn.model_selection import train_test_split\n",
    "import matplotlib.pyplot as plt\n",
    "import numpy as np\n",
    "from matplotlib.ticker import MultipleLocator\n",
    "from sklearn.preprocessing import LabelEncoder\n",
    "import seaborn as sns\n",
    "from sklearn.linear_model import LinearRegression\n",
    "from sklearn.linear_model import LogisticRegression\n",
    "import Common_Functions as cmn"
   ]
  },
  {
   "cell_type": "markdown",
   "source": [
    "# Combine All Regressions into one Graph"
   ],
   "metadata": {
    "collapsed": false
   }
  },
  {
   "cell_type": "code",
   "execution_count": 2,
   "outputs": [],
   "source": [
    "sns.set_context(\"poster\")\n",
    "sns.set_style(\"ticks\")"
   ],
   "metadata": {
    "collapsed": false
   }
  },
  {
   "cell_type": "code",
   "execution_count": 3,
   "outputs": [
    {
     "data": {
      "text/plain": "   Random Forest Prediction  Gradient Boosted Regressor Prediction  \\\n0               125856.5575                          127032.322156   \n1               151943.3350                          154184.388463   \n2               182550.9975                          206040.814062   \n3               184554.2975                          193975.265929   \n4               192816.9925                          182797.925233   \n5               185526.7425                          187000.169753   \n6               177600.8150                          195398.769165   \n7               175902.3000                          175374.020482   \n8               178982.6200                          173580.152563   \n9               123154.5500                          114116.880539   \n\n   OLS Prediction  XGBoost Regressor Prediction  \n0   119200.767332                     122261.78  \n1   151923.475793                     149681.34  \n2   172606.277003                     179451.86  \n3   199960.528299                     182765.66  \n4   194639.025564                     182455.05  \n5   181726.200135                     176235.19  \n6   198068.636800                     163989.06  \n7   169915.927191                     167114.17  \n8   206903.596145                     172366.03  \n9   116041.966118                     115120.89  ",
      "text/html": "<div>\n<style scoped>\n    .dataframe tbody tr th:only-of-type {\n        vertical-align: middle;\n    }\n\n    .dataframe tbody tr th {\n        vertical-align: top;\n    }\n\n    .dataframe thead th {\n        text-align: right;\n    }\n</style>\n<table border=\"1\" class=\"dataframe\">\n  <thead>\n    <tr style=\"text-align: right;\">\n      <th></th>\n      <th>Random Forest Prediction</th>\n      <th>Gradient Boosted Regressor Prediction</th>\n      <th>OLS Prediction</th>\n      <th>XGBoost Regressor Prediction</th>\n    </tr>\n  </thead>\n  <tbody>\n    <tr>\n      <th>0</th>\n      <td>125856.5575</td>\n      <td>127032.322156</td>\n      <td>119200.767332</td>\n      <td>122261.78</td>\n    </tr>\n    <tr>\n      <th>1</th>\n      <td>151943.3350</td>\n      <td>154184.388463</td>\n      <td>151923.475793</td>\n      <td>149681.34</td>\n    </tr>\n    <tr>\n      <th>2</th>\n      <td>182550.9975</td>\n      <td>206040.814062</td>\n      <td>172606.277003</td>\n      <td>179451.86</td>\n    </tr>\n    <tr>\n      <th>3</th>\n      <td>184554.2975</td>\n      <td>193975.265929</td>\n      <td>199960.528299</td>\n      <td>182765.66</td>\n    </tr>\n    <tr>\n      <th>4</th>\n      <td>192816.9925</td>\n      <td>182797.925233</td>\n      <td>194639.025564</td>\n      <td>182455.05</td>\n    </tr>\n    <tr>\n      <th>5</th>\n      <td>185526.7425</td>\n      <td>187000.169753</td>\n      <td>181726.200135</td>\n      <td>176235.19</td>\n    </tr>\n    <tr>\n      <th>6</th>\n      <td>177600.8150</td>\n      <td>195398.769165</td>\n      <td>198068.636800</td>\n      <td>163989.06</td>\n    </tr>\n    <tr>\n      <th>7</th>\n      <td>175902.3000</td>\n      <td>175374.020482</td>\n      <td>169915.927191</td>\n      <td>167114.17</td>\n    </tr>\n    <tr>\n      <th>8</th>\n      <td>178982.6200</td>\n      <td>173580.152563</td>\n      <td>206903.596145</td>\n      <td>172366.03</td>\n    </tr>\n    <tr>\n      <th>9</th>\n      <td>123154.5500</td>\n      <td>114116.880539</td>\n      <td>116041.966118</td>\n      <td>115120.89</td>\n    </tr>\n  </tbody>\n</table>\n</div>"
     },
     "execution_count": 3,
     "metadata": {},
     "output_type": "execute_result"
    }
   ],
   "source": [
    "prices = pd.read_csv(\"Exported_Data/RandomForest_for_weights.csv\", index_col=0)\n",
    "prices = prices.rename(columns={'0':'Random Forest Prediction'})\n",
    "#prices[\"Random Forest Prediction\"] = rf.iloc[:,-1:]\n",
    "\n",
    "gbr = pd.read_csv(\"Exported_Data/GBR_for_weights.csv\")\n",
    "prices[\"Gradient Boosted Regressor Prediction\"] = gbr.iloc[:,-1:]\n",
    "\n",
    "ols = pd.read_csv(\"Exported_Data/OLS_for_weights.csv\")\n",
    "prices[\"OLS Prediction\"] = ols.iloc[:,-1:]\n",
    "\n",
    "xgb = pd.read_csv(\"Exported_Data/XGB_for_weights.csv\")\n",
    "prices[\"XGBoost Regressor Prediction\"] = xgb.iloc[:,-1:]\n",
    "\n",
    "prices.head(10)"
   ],
   "metadata": {
    "collapsed": false
   }
  },
  {
   "cell_type": "markdown",
   "source": [
    "# Weightings based on Perceived Accuracy\n",
    "\n",
    "We take the weightings from the previous notebook to predict the testing data pricing"
   ],
   "metadata": {
    "collapsed": false
   }
  },
  {
   "cell_type": "code",
   "execution_count": 4,
   "outputs": [
    {
     "data": {
      "text/plain": "   Random Forest Prediction  Gradient Boosted Regressor Prediction  \\\n0               125856.5575                          127032.322156   \n1               151943.3350                          154184.388463   \n2               182550.9975                          206040.814062   \n3               184554.2975                          193975.265929   \n4               192816.9925                          182797.925233   \n5               185526.7425                          187000.169753   \n6               177600.8150                          195398.769165   \n7               175902.3000                          175374.020482   \n8               178982.6200                          173580.152563   \n9               123154.5500                          114116.880539   \n\n   OLS Prediction  XGBoost Regressor Prediction  Weighted Average  \n0   119200.767332                     122261.78     123625.366371  \n1   151923.475793                     149681.34     151927.158043  \n2   172606.277003                     179451.86     185289.169139  \n3   199960.528299                     182765.66     190205.402989  \n4   194639.025564                     182455.05     188079.912164  \n5   181726.200135                     176235.19     182606.731375  \n6   198068.636800                     163989.06     183573.919647  \n7   169915.927191                     167114.17     172076.213501  \n8   206903.596145                     172366.03     182682.834688  \n9   116041.966118                     115120.89     117098.444681  ",
      "text/html": "<div>\n<style scoped>\n    .dataframe tbody tr th:only-of-type {\n        vertical-align: middle;\n    }\n\n    .dataframe tbody tr th {\n        vertical-align: top;\n    }\n\n    .dataframe thead th {\n        text-align: right;\n    }\n</style>\n<table border=\"1\" class=\"dataframe\">\n  <thead>\n    <tr style=\"text-align: right;\">\n      <th></th>\n      <th>Random Forest Prediction</th>\n      <th>Gradient Boosted Regressor Prediction</th>\n      <th>OLS Prediction</th>\n      <th>XGBoost Regressor Prediction</th>\n      <th>Weighted Average</th>\n    </tr>\n  </thead>\n  <tbody>\n    <tr>\n      <th>0</th>\n      <td>125856.5575</td>\n      <td>127032.322156</td>\n      <td>119200.767332</td>\n      <td>122261.78</td>\n      <td>123625.366371</td>\n    </tr>\n    <tr>\n      <th>1</th>\n      <td>151943.3350</td>\n      <td>154184.388463</td>\n      <td>151923.475793</td>\n      <td>149681.34</td>\n      <td>151927.158043</td>\n    </tr>\n    <tr>\n      <th>2</th>\n      <td>182550.9975</td>\n      <td>206040.814062</td>\n      <td>172606.277003</td>\n      <td>179451.86</td>\n      <td>185289.169139</td>\n    </tr>\n    <tr>\n      <th>3</th>\n      <td>184554.2975</td>\n      <td>193975.265929</td>\n      <td>199960.528299</td>\n      <td>182765.66</td>\n      <td>190205.402989</td>\n    </tr>\n    <tr>\n      <th>4</th>\n      <td>192816.9925</td>\n      <td>182797.925233</td>\n      <td>194639.025564</td>\n      <td>182455.05</td>\n      <td>188079.912164</td>\n    </tr>\n    <tr>\n      <th>5</th>\n      <td>185526.7425</td>\n      <td>187000.169753</td>\n      <td>181726.200135</td>\n      <td>176235.19</td>\n      <td>182606.731375</td>\n    </tr>\n    <tr>\n      <th>6</th>\n      <td>177600.8150</td>\n      <td>195398.769165</td>\n      <td>198068.636800</td>\n      <td>163989.06</td>\n      <td>183573.919647</td>\n    </tr>\n    <tr>\n      <th>7</th>\n      <td>175902.3000</td>\n      <td>175374.020482</td>\n      <td>169915.927191</td>\n      <td>167114.17</td>\n      <td>172076.213501</td>\n    </tr>\n    <tr>\n      <th>8</th>\n      <td>178982.6200</td>\n      <td>173580.152563</td>\n      <td>206903.596145</td>\n      <td>172366.03</td>\n      <td>182682.834688</td>\n    </tr>\n    <tr>\n      <th>9</th>\n      <td>123154.5500</td>\n      <td>114116.880539</td>\n      <td>116041.966118</td>\n      <td>115120.89</td>\n      <td>117098.444681</td>\n    </tr>\n  </tbody>\n</table>\n</div>"
     },
     "execution_count": 4,
     "metadata": {},
     "output_type": "execute_result"
    }
   ],
   "source": [
    "weight = [.93, .94, .9, .95]\n",
    "columns = [\"Random Forest Prediction\", \"Gradient Boosted Regressor Prediction\", \"OLS Prediction\", \"XGBoost Regressor Prediction\"]\n",
    "prices[\"Weighted Average\"] = np.average(prices[columns], weights=weight, axis=1)\n",
    "\n",
    "prices.head(10)"
   ],
   "metadata": {
    "collapsed": false
   }
  },
  {
   "cell_type": "code",
   "execution_count": 5,
   "outputs": [],
   "source": [
    "#prices[\"Weighted Average\"] = (prices[\"Random Forest Prediction\"]* 0.15)+ (prices[\"Gradient Boosted Regressor Prediction\"]*0.2)+ (prices[\"OLS Prediction\"]*0.05)+ (prices[\"XGBoost Regressor Prediction\"]*0.6)\n",
    "\n",
    "#prices.head(10)"
   ],
   "metadata": {
    "collapsed": false
   }
  },
  {
   "cell_type": "code",
   "execution_count": 6,
   "outputs": [],
   "source": [
    "#weighted = prices[\"Weighted Average\"]\n",
    "weighted = pd.DataFrame(i for i in range(1461,2920))\n",
    "weighted = weighted.rename(columns={0:'Id'})\n",
    "weighted[\"SalePrice\"] = prices['Weighted Average'].round(2)\n",
    "weighted = weighted.set_index(\"Id\")\n",
    "\n",
    "pd.DataFrame(weighted).to_csv(f\"{cmn.export_data_path}Weighted Submission.csv\")"
   ],
   "metadata": {
    "collapsed": false
   }
  },
  {
   "cell_type": "code",
   "execution_count": 7,
   "outputs": [
    {
     "data": {
      "text/plain": "      SalePrice\nId             \n1461  123625.37\n1462  151927.16\n1463  185289.17\n1464  190205.40\n1465  188079.91\n...         ...\n2915   77575.40\n2916   76588.76\n2917  172423.31\n2918  105935.30\n2919  241266.67\n\n[1459 rows x 1 columns]",
      "text/html": "<div>\n<style scoped>\n    .dataframe tbody tr th:only-of-type {\n        vertical-align: middle;\n    }\n\n    .dataframe tbody tr th {\n        vertical-align: top;\n    }\n\n    .dataframe thead th {\n        text-align: right;\n    }\n</style>\n<table border=\"1\" class=\"dataframe\">\n  <thead>\n    <tr style=\"text-align: right;\">\n      <th></th>\n      <th>SalePrice</th>\n    </tr>\n    <tr>\n      <th>Id</th>\n      <th></th>\n    </tr>\n  </thead>\n  <tbody>\n    <tr>\n      <th>1461</th>\n      <td>123625.37</td>\n    </tr>\n    <tr>\n      <th>1462</th>\n      <td>151927.16</td>\n    </tr>\n    <tr>\n      <th>1463</th>\n      <td>185289.17</td>\n    </tr>\n    <tr>\n      <th>1464</th>\n      <td>190205.40</td>\n    </tr>\n    <tr>\n      <th>1465</th>\n      <td>188079.91</td>\n    </tr>\n    <tr>\n      <th>...</th>\n      <td>...</td>\n    </tr>\n    <tr>\n      <th>2915</th>\n      <td>77575.40</td>\n    </tr>\n    <tr>\n      <th>2916</th>\n      <td>76588.76</td>\n    </tr>\n    <tr>\n      <th>2917</th>\n      <td>172423.31</td>\n    </tr>\n    <tr>\n      <th>2918</th>\n      <td>105935.30</td>\n    </tr>\n    <tr>\n      <th>2919</th>\n      <td>241266.67</td>\n    </tr>\n  </tbody>\n</table>\n<p>1459 rows × 1 columns</p>\n</div>"
     },
     "execution_count": 7,
     "metadata": {},
     "output_type": "execute_result"
    }
   ],
   "source": [
    "weighted"
   ],
   "metadata": {
    "collapsed": false
   }
  },
  {
   "cell_type": "code",
   "execution_count": 8,
   "outputs": [
    {
     "data": {
      "text/plain": "      Top 0.3%\nId            \n1461  122344.0\n1462  161549.0\n1463  184424.0\n1464  195709.0\n1465  187205.0\n1466  172682.0\n1467  173095.0\n1468  165704.0\n1469  187760.0\n1470  126938.0",
      "text/html": "<div>\n<style scoped>\n    .dataframe tbody tr th:only-of-type {\n        vertical-align: middle;\n    }\n\n    .dataframe tbody tr th {\n        vertical-align: top;\n    }\n\n    .dataframe thead th {\n        text-align: right;\n    }\n</style>\n<table border=\"1\" class=\"dataframe\">\n  <thead>\n    <tr style=\"text-align: right;\">\n      <th></th>\n      <th>Top 0.3%</th>\n    </tr>\n    <tr>\n      <th>Id</th>\n      <th></th>\n    </tr>\n  </thead>\n  <tbody>\n    <tr>\n      <th>1461</th>\n      <td>122344.0</td>\n    </tr>\n    <tr>\n      <th>1462</th>\n      <td>161549.0</td>\n    </tr>\n    <tr>\n      <th>1463</th>\n      <td>184424.0</td>\n    </tr>\n    <tr>\n      <th>1464</th>\n      <td>195709.0</td>\n    </tr>\n    <tr>\n      <th>1465</th>\n      <td>187205.0</td>\n    </tr>\n    <tr>\n      <th>1466</th>\n      <td>172682.0</td>\n    </tr>\n    <tr>\n      <th>1467</th>\n      <td>173095.0</td>\n    </tr>\n    <tr>\n      <th>1468</th>\n      <td>165704.0</td>\n    </tr>\n    <tr>\n      <th>1469</th>\n      <td>187760.0</td>\n    </tr>\n    <tr>\n      <th>1470</th>\n      <td>126938.0</td>\n    </tr>\n  </tbody>\n</table>\n</div>"
     },
     "metadata": {},
     "output_type": "display_data"
    },
    {
     "data": {
      "text/plain": "      Our Weighted Result\nId                       \n1461            123625.37\n1462            151927.16\n1463            185289.17\n1464            190205.40\n1465            188079.91\n1466            182606.73\n1467            183573.92\n1468            172076.21\n1469            182682.83\n1470            117098.44",
      "text/html": "<div>\n<style scoped>\n    .dataframe tbody tr th:only-of-type {\n        vertical-align: middle;\n    }\n\n    .dataframe tbody tr th {\n        vertical-align: top;\n    }\n\n    .dataframe thead th {\n        text-align: right;\n    }\n</style>\n<table border=\"1\" class=\"dataframe\">\n  <thead>\n    <tr style=\"text-align: right;\">\n      <th></th>\n      <th>Our Weighted Result</th>\n    </tr>\n    <tr>\n      <th>Id</th>\n      <th></th>\n    </tr>\n  </thead>\n  <tbody>\n    <tr>\n      <th>1461</th>\n      <td>123625.37</td>\n    </tr>\n    <tr>\n      <th>1462</th>\n      <td>151927.16</td>\n    </tr>\n    <tr>\n      <th>1463</th>\n      <td>185289.17</td>\n    </tr>\n    <tr>\n      <th>1464</th>\n      <td>190205.40</td>\n    </tr>\n    <tr>\n      <th>1465</th>\n      <td>188079.91</td>\n    </tr>\n    <tr>\n      <th>1466</th>\n      <td>182606.73</td>\n    </tr>\n    <tr>\n      <th>1467</th>\n      <td>183573.92</td>\n    </tr>\n    <tr>\n      <th>1468</th>\n      <td>172076.21</td>\n    </tr>\n    <tr>\n      <th>1469</th>\n      <td>182682.83</td>\n    </tr>\n    <tr>\n      <th>1470</th>\n      <td>117098.44</td>\n    </tr>\n  </tbody>\n</table>\n</div>"
     },
     "metadata": {},
     "output_type": "display_data"
    }
   ],
   "source": [
    "df_top = pd.read_csv(\"Exported_Data/submission_regression_top0.3.csv\", index_col=\"Id\")\n",
    "df_top = df_top.rename(columns={\"SalePrice\":\"Top 0.3%\"})\n",
    "weighted = weighted.rename(columns={\"SalePrice\":\"Our Weighted Result\"})\n",
    "display(df_top.head(10), weighted.head(10))"
   ],
   "metadata": {
    "collapsed": false
   }
  },
  {
   "cell_type": "code",
   "execution_count": 9,
   "outputs": [
    {
     "data": {
      "text/plain": "      Our Weighted Result  Top 0.3% Result\nId                                        \n1461            123625.37         122344.0\n1462            151927.16         161549.0\n1463            185289.17         184424.0\n1464            190205.40         195709.0\n1465            188079.91         187205.0\n1466            182606.73         172682.0\n1467            183573.92         173095.0\n1468            172076.21         165704.0\n1469            182682.83         187760.0\n1470            117098.44         126938.0",
      "text/html": "<div>\n<style scoped>\n    .dataframe tbody tr th:only-of-type {\n        vertical-align: middle;\n    }\n\n    .dataframe tbody tr th {\n        vertical-align: top;\n    }\n\n    .dataframe thead th {\n        text-align: right;\n    }\n</style>\n<table border=\"1\" class=\"dataframe\">\n  <thead>\n    <tr style=\"text-align: right;\">\n      <th></th>\n      <th>Our Weighted Result</th>\n      <th>Top 0.3% Result</th>\n    </tr>\n    <tr>\n      <th>Id</th>\n      <th></th>\n      <th></th>\n    </tr>\n  </thead>\n  <tbody>\n    <tr>\n      <th>1461</th>\n      <td>123625.37</td>\n      <td>122344.0</td>\n    </tr>\n    <tr>\n      <th>1462</th>\n      <td>151927.16</td>\n      <td>161549.0</td>\n    </tr>\n    <tr>\n      <th>1463</th>\n      <td>185289.17</td>\n      <td>184424.0</td>\n    </tr>\n    <tr>\n      <th>1464</th>\n      <td>190205.40</td>\n      <td>195709.0</td>\n    </tr>\n    <tr>\n      <th>1465</th>\n      <td>188079.91</td>\n      <td>187205.0</td>\n    </tr>\n    <tr>\n      <th>1466</th>\n      <td>182606.73</td>\n      <td>172682.0</td>\n    </tr>\n    <tr>\n      <th>1467</th>\n      <td>183573.92</td>\n      <td>173095.0</td>\n    </tr>\n    <tr>\n      <th>1468</th>\n      <td>172076.21</td>\n      <td>165704.0</td>\n    </tr>\n    <tr>\n      <th>1469</th>\n      <td>182682.83</td>\n      <td>187760.0</td>\n    </tr>\n    <tr>\n      <th>1470</th>\n      <td>117098.44</td>\n      <td>126938.0</td>\n    </tr>\n  </tbody>\n</table>\n</div>"
     },
     "execution_count": 9,
     "metadata": {},
     "output_type": "execute_result"
    }
   ],
   "source": [
    "weighted[\"Top 0.3% Result\"] = df_top\n",
    "weighted.head(10)"
   ],
   "metadata": {
    "collapsed": false
   }
  },
  {
   "cell_type": "code",
   "execution_count": 16,
   "outputs": [
    {
     "data": {
      "text/plain": "      Our Weighted Result  Top 0.3% Result  % Difference\nId                                                      \n1461            123625.37         122344.0          1.05\n1462            151927.16         161549.0         -5.96\n1463            185289.17         184424.0          0.47\n1464            190205.40         195709.0         -2.81\n1465            188079.91         187205.0          0.47\n1466            182606.73         172682.0          5.75\n1467            183573.92         173095.0          6.05\n1468            172076.21         165704.0          3.85\n1469            182682.83         187760.0         -2.70\n1470            117098.44         126938.0         -7.75",
      "text/html": "<div>\n<style scoped>\n    .dataframe tbody tr th:only-of-type {\n        vertical-align: middle;\n    }\n\n    .dataframe tbody tr th {\n        vertical-align: top;\n    }\n\n    .dataframe thead th {\n        text-align: right;\n    }\n</style>\n<table border=\"1\" class=\"dataframe\">\n  <thead>\n    <tr style=\"text-align: right;\">\n      <th></th>\n      <th>Our Weighted Result</th>\n      <th>Top 0.3% Result</th>\n      <th>% Difference</th>\n    </tr>\n    <tr>\n      <th>Id</th>\n      <th></th>\n      <th></th>\n      <th></th>\n    </tr>\n  </thead>\n  <tbody>\n    <tr>\n      <th>1461</th>\n      <td>123625.37</td>\n      <td>122344.0</td>\n      <td>1.05</td>\n    </tr>\n    <tr>\n      <th>1462</th>\n      <td>151927.16</td>\n      <td>161549.0</td>\n      <td>-5.96</td>\n    </tr>\n    <tr>\n      <th>1463</th>\n      <td>185289.17</td>\n      <td>184424.0</td>\n      <td>0.47</td>\n    </tr>\n    <tr>\n      <th>1464</th>\n      <td>190205.40</td>\n      <td>195709.0</td>\n      <td>-2.81</td>\n    </tr>\n    <tr>\n      <th>1465</th>\n      <td>188079.91</td>\n      <td>187205.0</td>\n      <td>0.47</td>\n    </tr>\n    <tr>\n      <th>1466</th>\n      <td>182606.73</td>\n      <td>172682.0</td>\n      <td>5.75</td>\n    </tr>\n    <tr>\n      <th>1467</th>\n      <td>183573.92</td>\n      <td>173095.0</td>\n      <td>6.05</td>\n    </tr>\n    <tr>\n      <th>1468</th>\n      <td>172076.21</td>\n      <td>165704.0</td>\n      <td>3.85</td>\n    </tr>\n    <tr>\n      <th>1469</th>\n      <td>182682.83</td>\n      <td>187760.0</td>\n      <td>-2.70</td>\n    </tr>\n    <tr>\n      <th>1470</th>\n      <td>117098.44</td>\n      <td>126938.0</td>\n      <td>-7.75</td>\n    </tr>\n  </tbody>\n</table>\n</div>"
     },
     "execution_count": 16,
     "metadata": {},
     "output_type": "execute_result"
    }
   ],
   "source": [
    "weighted[\"% Difference\"] = ((weighted.loc[:,\"Our Weighted Result\"]/weighted.loc[:,\"Top 0.3% Result\"] - 1)*100).round(2)\n",
    "weighted.head(10)"
   ],
   "metadata": {
    "collapsed": false
   }
  },
  {
   "cell_type": "code",
   "execution_count": 17,
   "outputs": [
    {
     "data": {
      "text/plain": "count    1459.000000\nmean        4.820980\nstd         4.650568\nmin         0.000000\n25%         1.745000\n50%         3.620000\n75%         6.555000\nmax        60.370000\nName: % Difference, dtype: float64"
     },
     "execution_count": 17,
     "metadata": {},
     "output_type": "execute_result"
    }
   ],
   "source": [
    "abs(weighted[\"% Difference\"]).describe()"
   ],
   "metadata": {
    "collapsed": false
   }
  },
  {
   "cell_type": "code",
   "execution_count": 18,
   "outputs": [
    {
     "name": "stderr",
     "output_type": "stream",
     "text": [
      "C:\\Users\\Alexander\\.conda\\envs\\HousingProject\\lib\\site-packages\\pandas\\core\\internals\\blocks.py:352: RuntimeWarning: divide by zero encountered in log1p\n",
      "  result = func(self.values, **kwargs)\n",
      "C:\\Users\\Alexander\\.conda\\envs\\HousingProject\\lib\\site-packages\\pandas\\core\\internals\\blocks.py:352: RuntimeWarning: invalid value encountered in log1p\n",
      "  result = func(self.values, **kwargs)\n"
     ]
    },
    {
     "data": {
      "text/plain": "      Our Weighted Result  Top 0.3% Result  % Difference\nId                                                      \n1461            11.725019        11.714600      0.717840\n1462            11.931163        11.992570           NaN\n1463            12.129678        12.124998      0.385262\n1464            12.155865        12.184389           NaN\n1465            12.144628        12.139965      0.385262\n...                   ...              ...           ...\n2915            11.259019        11.385433           NaN\n2916            11.246219        11.354445           NaN\n2917            12.057714        12.015929      1.662030\n2918            11.570593        11.632041           NaN\n2919            12.393662        12.298889      2.392426\n\n[1459 rows x 3 columns]",
      "text/html": "<div>\n<style scoped>\n    .dataframe tbody tr th:only-of-type {\n        vertical-align: middle;\n    }\n\n    .dataframe tbody tr th {\n        vertical-align: top;\n    }\n\n    .dataframe thead th {\n        text-align: right;\n    }\n</style>\n<table border=\"1\" class=\"dataframe\">\n  <thead>\n    <tr style=\"text-align: right;\">\n      <th></th>\n      <th>Our Weighted Result</th>\n      <th>Top 0.3% Result</th>\n      <th>% Difference</th>\n    </tr>\n    <tr>\n      <th>Id</th>\n      <th></th>\n      <th></th>\n      <th></th>\n    </tr>\n  </thead>\n  <tbody>\n    <tr>\n      <th>1461</th>\n      <td>11.725019</td>\n      <td>11.714600</td>\n      <td>0.717840</td>\n    </tr>\n    <tr>\n      <th>1462</th>\n      <td>11.931163</td>\n      <td>11.992570</td>\n      <td>NaN</td>\n    </tr>\n    <tr>\n      <th>1463</th>\n      <td>12.129678</td>\n      <td>12.124998</td>\n      <td>0.385262</td>\n    </tr>\n    <tr>\n      <th>1464</th>\n      <td>12.155865</td>\n      <td>12.184389</td>\n      <td>NaN</td>\n    </tr>\n    <tr>\n      <th>1465</th>\n      <td>12.144628</td>\n      <td>12.139965</td>\n      <td>0.385262</td>\n    </tr>\n    <tr>\n      <th>...</th>\n      <td>...</td>\n      <td>...</td>\n      <td>...</td>\n    </tr>\n    <tr>\n      <th>2915</th>\n      <td>11.259019</td>\n      <td>11.385433</td>\n      <td>NaN</td>\n    </tr>\n    <tr>\n      <th>2916</th>\n      <td>11.246219</td>\n      <td>11.354445</td>\n      <td>NaN</td>\n    </tr>\n    <tr>\n      <th>2917</th>\n      <td>12.057714</td>\n      <td>12.015929</td>\n      <td>1.662030</td>\n    </tr>\n    <tr>\n      <th>2918</th>\n      <td>11.570593</td>\n      <td>11.632041</td>\n      <td>NaN</td>\n    </tr>\n    <tr>\n      <th>2919</th>\n      <td>12.393662</td>\n      <td>12.298889</td>\n      <td>2.392426</td>\n    </tr>\n  </tbody>\n</table>\n<p>1459 rows × 3 columns</p>\n</div>"
     },
     "execution_count": 18,
     "metadata": {},
     "output_type": "execute_result"
    }
   ],
   "source": [
    "y = np.log1p(weighted)\n",
    "y"
   ],
   "metadata": {
    "collapsed": false
   }
  },
  {
   "cell_type": "code",
   "execution_count": 15,
   "outputs": [
    {
     "name": "stdout",
     "output_type": "stream",
     "text": [
      "0.06688267413574647\n"
     ]
    }
   ],
   "source": [
    "import numpy as np\n",
    "from sklearn.metrics import mean_squared_error\n",
    "rmsweight = np.sqrt(mean_squared_error(y.loc[:,\"Our Weighted Result\"], y.loc[:,\"Top 0.3% Result\"]))\n",
    "print(rmsweight)"
   ],
   "metadata": {
    "collapsed": false
   }
  },
  {
   "cell_type": "code",
   "execution_count": null,
   "outputs": [],
   "source": [],
   "metadata": {
    "collapsed": false
   }
  }
 ],
 "metadata": {
  "kernelspec": {
   "display_name": "Python 3",
   "language": "python",
   "name": "python3"
  },
  "language_info": {
   "codemirror_mode": {
    "name": "ipython",
    "version": 2
   },
   "file_extension": ".py",
   "mimetype": "text/x-python",
   "name": "python",
   "nbconvert_exporter": "python",
   "pygments_lexer": "ipython2",
   "version": "2.7.6"
  }
 },
 "nbformat": 4,
 "nbformat_minor": 0
}
