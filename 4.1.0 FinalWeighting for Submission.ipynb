{
 "cells": [
  {
   "cell_type": "code",
   "execution_count": 1,
   "metadata": {
    "collapsed": true
   },
   "outputs": [],
   "source": [
    "from sklearn.ensemble import GradientBoostingRegressor\n",
    "from sklearn.ensemble import HistGradientBoostingRegressor\n",
    "import pandas as pd\n",
    "from sklearn.model_selection import train_test_split\n",
    "import matplotlib.pyplot as plt\n",
    "import numpy as np\n",
    "from matplotlib.ticker import MultipleLocator\n",
    "from sklearn.preprocessing import LabelEncoder\n",
    "import seaborn as sns\n",
    "from sklearn.linear_model import LinearRegression\n",
    "from sklearn.linear_model import LogisticRegression\n",
    "import Common_Functions as cmn"
   ]
  },
  {
   "cell_type": "markdown",
   "source": [
    "# Combine All Regressions into one Graph"
   ],
   "metadata": {
    "collapsed": false
   }
  },
  {
   "cell_type": "code",
   "execution_count": 2,
   "outputs": [],
   "source": [
    "sns.set_context(\"poster\")\n",
    "sns.set_style(\"ticks\")"
   ],
   "metadata": {
    "collapsed": false
   }
  },
  {
   "cell_type": "code",
   "execution_count": 12,
   "outputs": [
    {
     "data": {
      "text/plain": "   Random Forest Prediction  Gradient Boosted Regressor Prediction  \\\n0               125856.5575                          125570.315973   \n1               151943.3350                          154093.200648   \n2               182550.9975                          183450.048311   \n3               184554.2975                          185738.899302   \n4               192816.9925                          183531.554327   \n5               185526.7425                          183799.217826   \n6               177600.8150                          180363.432167   \n7               175902.3000                          174935.516191   \n8               178982.6200                          177594.695931   \n9               123154.5500                          121084.494759   \n\n   OLS Prediction  XGBoost Regressor Prediction  \n0   119200.767332                     125977.64  \n1   151923.475793                     151896.97  \n2   172606.277003                     184050.48  \n3   199960.528299                     186258.31  \n4   194639.025564                     187266.45  \n5   181726.200135                     177178.40  \n6   198068.636800                     170283.56  \n7   169915.927191                     169917.28  \n8   206903.596145                     175673.75  \n9   116041.966118                     114157.37  ",
      "text/html": "<div>\n<style scoped>\n    .dataframe tbody tr th:only-of-type {\n        vertical-align: middle;\n    }\n\n    .dataframe tbody tr th {\n        vertical-align: top;\n    }\n\n    .dataframe thead th {\n        text-align: right;\n    }\n</style>\n<table border=\"1\" class=\"dataframe\">\n  <thead>\n    <tr style=\"text-align: right;\">\n      <th></th>\n      <th>Random Forest Prediction</th>\n      <th>Gradient Boosted Regressor Prediction</th>\n      <th>OLS Prediction</th>\n      <th>XGBoost Regressor Prediction</th>\n    </tr>\n  </thead>\n  <tbody>\n    <tr>\n      <th>0</th>\n      <td>125856.5575</td>\n      <td>125570.315973</td>\n      <td>119200.767332</td>\n      <td>125977.64</td>\n    </tr>\n    <tr>\n      <th>1</th>\n      <td>151943.3350</td>\n      <td>154093.200648</td>\n      <td>151923.475793</td>\n      <td>151896.97</td>\n    </tr>\n    <tr>\n      <th>2</th>\n      <td>182550.9975</td>\n      <td>183450.048311</td>\n      <td>172606.277003</td>\n      <td>184050.48</td>\n    </tr>\n    <tr>\n      <th>3</th>\n      <td>184554.2975</td>\n      <td>185738.899302</td>\n      <td>199960.528299</td>\n      <td>186258.31</td>\n    </tr>\n    <tr>\n      <th>4</th>\n      <td>192816.9925</td>\n      <td>183531.554327</td>\n      <td>194639.025564</td>\n      <td>187266.45</td>\n    </tr>\n    <tr>\n      <th>5</th>\n      <td>185526.7425</td>\n      <td>183799.217826</td>\n      <td>181726.200135</td>\n      <td>177178.40</td>\n    </tr>\n    <tr>\n      <th>6</th>\n      <td>177600.8150</td>\n      <td>180363.432167</td>\n      <td>198068.636800</td>\n      <td>170283.56</td>\n    </tr>\n    <tr>\n      <th>7</th>\n      <td>175902.3000</td>\n      <td>174935.516191</td>\n      <td>169915.927191</td>\n      <td>169917.28</td>\n    </tr>\n    <tr>\n      <th>8</th>\n      <td>178982.6200</td>\n      <td>177594.695931</td>\n      <td>206903.596145</td>\n      <td>175673.75</td>\n    </tr>\n    <tr>\n      <th>9</th>\n      <td>123154.5500</td>\n      <td>121084.494759</td>\n      <td>116041.966118</td>\n      <td>114157.37</td>\n    </tr>\n  </tbody>\n</table>\n</div>"
     },
     "execution_count": 12,
     "metadata": {},
     "output_type": "execute_result"
    }
   ],
   "source": [
    "prices = pd.read_csv(\"Exported_Data/RandomForest_for_weights.csv\", index_col=0)\n",
    "prices = prices.rename(columns={'0':'Random Forest Prediction'})\n",
    "#prices[\"Random Forest Prediction\"] = rf.iloc[:,-1:]\n",
    "\n",
    "gbr = pd.read_csv(\"Exported_Data/GBR_for_weights.csv\")\n",
    "prices[\"Gradient Boosted Regressor Prediction\"] = gbr.iloc[:,-1:]\n",
    "\n",
    "ols = pd.read_csv(\"Exported_Data/OLS_for_weights.csv\")\n",
    "prices[\"OLS Prediction\"] = ols.iloc[:,-1:]\n",
    "\n",
    "xgb = pd.read_csv(\"Exported_Data/XGB_for_weights.csv\")\n",
    "prices[\"XGBoost Regressor Prediction\"] = xgb.iloc[:,-1:]\n",
    "\n",
    "prices.head(10)"
   ],
   "metadata": {
    "collapsed": false
   }
  },
  {
   "cell_type": "markdown",
   "source": [
    "# Weightings based on Perceived Accuracy"
   ],
   "metadata": {
    "collapsed": false
   }
  },
  {
   "cell_type": "code",
   "execution_count": 14,
   "outputs": [
    {
     "data": {
      "text/plain": "   Random Forest Prediction  Gradient Boosted Regressor Prediction  \\\n0               125856.5575                          125570.315973   \n1               151943.3350                          154093.200648   \n2               182550.9975                          183450.048311   \n3               184554.2975                          185738.899302   \n4               192816.9925                          183531.554327   \n5               185526.7425                          183799.217826   \n6               177600.8150                          180363.432167   \n7               175902.3000                          174935.516191   \n8               178982.6200                          177594.695931   \n9               123154.5500                          121084.494759   \n\n   OLS Prediction  XGBoost Regressor Prediction  Weighted Average  \n0   119200.767332                     125977.64     125180.939296  \n1   151923.475793                     151896.97     152568.981145  \n2   172606.277003                     184050.48     182474.569818  \n3   199960.528299                     186258.31     187078.970453  \n4   194639.025564                     187266.45     187951.622842  \n5   181726.200135                     177178.40     181260.664759  \n6   198068.636800                     170283.56     177430.884406  \n7   169915.927191                     169917.28     172612.626027  \n8   206903.596145                     175673.75     179903.859516  \n9   116041.966118                     114157.37     118204.852210  ",
      "text/html": "<div>\n<style scoped>\n    .dataframe tbody tr th:only-of-type {\n        vertical-align: middle;\n    }\n\n    .dataframe tbody tr th {\n        vertical-align: top;\n    }\n\n    .dataframe thead th {\n        text-align: right;\n    }\n</style>\n<table border=\"1\" class=\"dataframe\">\n  <thead>\n    <tr style=\"text-align: right;\">\n      <th></th>\n      <th>Random Forest Prediction</th>\n      <th>Gradient Boosted Regressor Prediction</th>\n      <th>OLS Prediction</th>\n      <th>XGBoost Regressor Prediction</th>\n      <th>Weighted Average</th>\n    </tr>\n  </thead>\n  <tbody>\n    <tr>\n      <th>0</th>\n      <td>125856.5575</td>\n      <td>125570.315973</td>\n      <td>119200.767332</td>\n      <td>125977.64</td>\n      <td>125180.939296</td>\n    </tr>\n    <tr>\n      <th>1</th>\n      <td>151943.3350</td>\n      <td>154093.200648</td>\n      <td>151923.475793</td>\n      <td>151896.97</td>\n      <td>152568.981145</td>\n    </tr>\n    <tr>\n      <th>2</th>\n      <td>182550.9975</td>\n      <td>183450.048311</td>\n      <td>172606.277003</td>\n      <td>184050.48</td>\n      <td>182474.569818</td>\n    </tr>\n    <tr>\n      <th>3</th>\n      <td>184554.2975</td>\n      <td>185738.899302</td>\n      <td>199960.528299</td>\n      <td>186258.31</td>\n      <td>187078.970453</td>\n    </tr>\n    <tr>\n      <th>4</th>\n      <td>192816.9925</td>\n      <td>183531.554327</td>\n      <td>194639.025564</td>\n      <td>187266.45</td>\n      <td>187951.622842</td>\n    </tr>\n    <tr>\n      <th>5</th>\n      <td>185526.7425</td>\n      <td>183799.217826</td>\n      <td>181726.200135</td>\n      <td>177178.40</td>\n      <td>181260.664759</td>\n    </tr>\n    <tr>\n      <th>6</th>\n      <td>177600.8150</td>\n      <td>180363.432167</td>\n      <td>198068.636800</td>\n      <td>170283.56</td>\n      <td>177430.884406</td>\n    </tr>\n    <tr>\n      <th>7</th>\n      <td>175902.3000</td>\n      <td>174935.516191</td>\n      <td>169915.927191</td>\n      <td>169917.28</td>\n      <td>172612.626027</td>\n    </tr>\n    <tr>\n      <th>8</th>\n      <td>178982.6200</td>\n      <td>177594.695931</td>\n      <td>206903.596145</td>\n      <td>175673.75</td>\n      <td>179903.859516</td>\n    </tr>\n    <tr>\n      <th>9</th>\n      <td>123154.5500</td>\n      <td>121084.494759</td>\n      <td>116041.966118</td>\n      <td>114157.37</td>\n      <td>118204.852210</td>\n    </tr>\n  </tbody>\n</table>\n</div>"
     },
     "execution_count": 14,
     "metadata": {},
     "output_type": "execute_result"
    }
   ],
   "source": [
    "weight = [.93*2, .94*3, .9*1, .95*4]\n",
    "columns = [\"Random Forest Prediction\", \"Gradient Boosted Regressor Prediction\", \"OLS Prediction\", \"XGBoost Regressor Prediction\"]\n",
    "prices[\"Weighted Average\"] = np.average(prices[columns], weights=weight, axis=1)\n",
    "\n",
    "prices.head(10)"
   ],
   "metadata": {
    "collapsed": false
   }
  },
  {
   "cell_type": "code",
   "execution_count": 15,
   "outputs": [],
   "source": [
    "#weighted = prices[\"Weighted Average\"]\n",
    "weighted = pd.DataFrame(i for i in range(1461,2920))\n",
    "weighted = weighted.rename(columns={0:'Id'})\n",
    "weighted[\"SalePrice\"] = prices['Weighted Average']\n",
    "weighted = weighted.set_index(\"Id\")\n",
    "\n",
    "pd.DataFrame(weighted).to_csv(f\"{cmn.export_data_path}Weighted Submission.csv\")"
   ],
   "metadata": {
    "collapsed": false
   }
  },
  {
   "cell_type": "code",
   "execution_count": 16,
   "outputs": [
    {
     "data": {
      "text/plain": "          SalePrice\nId                 \n1461  125180.939296\n1462  152568.981145\n1463  182474.569818\n1464  187078.970453\n1465  187951.622842\n...             ...\n2915   78651.250891\n2916   81884.549957\n2917  171834.670747\n2918  107881.686432\n2919  238964.890448\n\n[1459 rows x 1 columns]",
      "text/html": "<div>\n<style scoped>\n    .dataframe tbody tr th:only-of-type {\n        vertical-align: middle;\n    }\n\n    .dataframe tbody tr th {\n        vertical-align: top;\n    }\n\n    .dataframe thead th {\n        text-align: right;\n    }\n</style>\n<table border=\"1\" class=\"dataframe\">\n  <thead>\n    <tr style=\"text-align: right;\">\n      <th></th>\n      <th>SalePrice</th>\n    </tr>\n    <tr>\n      <th>Id</th>\n      <th></th>\n    </tr>\n  </thead>\n  <tbody>\n    <tr>\n      <th>1461</th>\n      <td>125180.939296</td>\n    </tr>\n    <tr>\n      <th>1462</th>\n      <td>152568.981145</td>\n    </tr>\n    <tr>\n      <th>1463</th>\n      <td>182474.569818</td>\n    </tr>\n    <tr>\n      <th>1464</th>\n      <td>187078.970453</td>\n    </tr>\n    <tr>\n      <th>1465</th>\n      <td>187951.622842</td>\n    </tr>\n    <tr>\n      <th>...</th>\n      <td>...</td>\n    </tr>\n    <tr>\n      <th>2915</th>\n      <td>78651.250891</td>\n    </tr>\n    <tr>\n      <th>2916</th>\n      <td>81884.549957</td>\n    </tr>\n    <tr>\n      <th>2917</th>\n      <td>171834.670747</td>\n    </tr>\n    <tr>\n      <th>2918</th>\n      <td>107881.686432</td>\n    </tr>\n    <tr>\n      <th>2919</th>\n      <td>238964.890448</td>\n    </tr>\n  </tbody>\n</table>\n<p>1459 rows × 1 columns</p>\n</div>"
     },
     "execution_count": 16,
     "metadata": {},
     "output_type": "execute_result"
    }
   ],
   "source": [
    "weighted"
   ],
   "metadata": {
    "collapsed": false
   }
  },
  {
   "cell_type": "code",
   "execution_count": null,
   "outputs": [],
   "source": [],
   "metadata": {
    "collapsed": false
   }
  }
 ],
 "metadata": {
  "kernelspec": {
   "display_name": "Python 3",
   "language": "python",
   "name": "python3"
  },
  "language_info": {
   "codemirror_mode": {
    "name": "ipython",
    "version": 2
   },
   "file_extension": ".py",
   "mimetype": "text/x-python",
   "name": "python",
   "nbconvert_exporter": "python",
   "pygments_lexer": "ipython2",
   "version": "2.7.6"
  }
 },
 "nbformat": 4,
 "nbformat_minor": 0
}
