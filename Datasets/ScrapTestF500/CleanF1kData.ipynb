{
 "cells": [
  {
   "cell_type": "code",
   "execution_count": 2,
   "metadata": {
    "collapsed": true
   },
   "outputs": [],
   "source": [
    "import pandas as pd"
   ]
  },
  {
   "cell_type": "code",
   "execution_count": 3,
   "outputs": [],
   "source": [
    "test = pd.read_csv(\"F1000_2022.csv\")"
   ],
   "metadata": {
    "collapsed": false
   }
  },
  {
   "cell_type": "code",
   "execution_count": 4,
   "outputs": [],
   "source": [
    "pd_list = {}\n",
    "for i in range(2007, 2022):\n",
    "    temp_df = pd.read_csv(f\"F1000_{i}.csv\")\n",
    "    temp_df = temp_df.drop(temp_df.loc[:, [\"sector\", \"city\"]], axis= 1)\n",
    "    temp_df = temp_df.loc[temp_df[\"state\"] == \"OH\"]\n",
    "    pd_list[i] = temp_df"
   ],
   "metadata": {
    "collapsed": false
   }
  },
  {
   "cell_type": "code",
   "execution_count": 5,
   "outputs": [
    {
     "data": {
      "text/plain": "                                           company  rank  revenue state\n18                            Procter &amp; Gamble    31    84167    OH\n25                              Marathon Petroleum    25    93991    OH\n26                                          Kroger    24    98375    OH\n27                                 Cardinal Health    22   101093    OH\n59                 Nationwide Mutual Insurance Co.    91    34542    OH\n104         The Goodyear Tire &amp; Rubber Company   147    19540    OH\n142                                   Macy's, Inc.   107    27931    OH\n154                              FirstEnergy Corp.   195    14950    OH\n164          American Electric Power Company, Inc.   186    15357    OH\n193                    The Progressive Corporation   157    18171    OH\n233                    Parker-Hannifin Corporation   217    13016    OH\n272                   The Sherwin-Williams Company   278    10186    OH\n286                                 L Brands, Inc.   263    10773    OH\n311                   TravelCenters of America LLC   339     7963    OH\n365                       Dana Holding Corporation   385     6769    OH\n378                           Owens-Illinois, Inc.   372     6967    OH\n389                            Fifth Third Bancorp   361     7200    OH\n406                  Cliffs Natural Resources Inc.   445     5691    OH\n416                       The J.M. Smucker Company   435     5898    OH\n435                                 Omnicare, Inc.   415     6277    OH\n463                 American Financial Group, Inc.   487     5092    OH\n475                                  Owens Corning   475     5295    OH\n477                                 Big Lots, Inc.   473     5302    OH\n494                   AK Steel Holding Corporation   455     5570    OH\n496                            The Andersons, Inc.   453     5605    OH\n508               Cincinnati Financial Corporation   543     4531    OH\n509                                        KeyCorp   541     4567    OH\n539  Western &amp; Southern Mutual Holding Company   511     4812    OH\n545             Momentive Specialty Chemicals Inc.   505     4890    OH\n552                         RPM International Inc.   598     4079    OH\n555                    Abercrombie &amp; Fitch Co.   594     4117    OH\n578                             Cintas Corporation   572     4317    OH\n581                             Aleris Corporation   569     4333    OH\n583                             The Timken Company   568     4341    OH\n584                                          Greif   566     4353    OH\n631                            PolyOne Corporation   618     3827    OH\n682               Cooper Tire &amp; Rubber Company   669     3439    OH\n703                               Health Care REIT   746     2899    OH\n732                          NewPage Holdings Inc.   718     3054    OH\n756           Hyster-Yale Materials Handling, Inc.   794     2666    OH\n766                         Medical Mutual of Ohio   784     2692    OH\n767                           Teradata Corporation   783     2692    OH\n782                 The Scotts Miracle-Gro Company   768     2817    OH\n792                Lincoln Electric Holdings, Inc.   758     2853    OH\n793                          Diebold, Incorporated   757     2858    OH\n794             Huntington Bancshares Incorporated   756     2859    OH\n813                   Worthington Industries, Inc.   807     2612    OH\n849          Applied Industrial Technologies, Inc.   852     2462    OH\n857                            The Wendy's Company   843     2487    OH\n868                                       DSW Inc.   872     2369    OH\n873              Mettler-Toledo International Inc.   866     2379    OH\n907                                  Express, Inc.   913     2219    OH\n937                              A. Schulman, Inc.   922     2163    OH\n943                          Convergys Corporation   958     2046    OH\n958                                   Vantiv, Inc.   942     2108    OH\n982                   TransDigm Group Incorporated   997     1924    OH",
      "text/html": "<div>\n<style scoped>\n    .dataframe tbody tr th:only-of-type {\n        vertical-align: middle;\n    }\n\n    .dataframe tbody tr th {\n        vertical-align: top;\n    }\n\n    .dataframe thead th {\n        text-align: right;\n    }\n</style>\n<table border=\"1\" class=\"dataframe\">\n  <thead>\n    <tr style=\"text-align: right;\">\n      <th></th>\n      <th>company</th>\n      <th>rank</th>\n      <th>revenue</th>\n      <th>state</th>\n    </tr>\n  </thead>\n  <tbody>\n    <tr>\n      <th>18</th>\n      <td>Procter &amp;amp; Gamble</td>\n      <td>31</td>\n      <td>84167</td>\n      <td>OH</td>\n    </tr>\n    <tr>\n      <th>25</th>\n      <td>Marathon Petroleum</td>\n      <td>25</td>\n      <td>93991</td>\n      <td>OH</td>\n    </tr>\n    <tr>\n      <th>26</th>\n      <td>Kroger</td>\n      <td>24</td>\n      <td>98375</td>\n      <td>OH</td>\n    </tr>\n    <tr>\n      <th>27</th>\n      <td>Cardinal Health</td>\n      <td>22</td>\n      <td>101093</td>\n      <td>OH</td>\n    </tr>\n    <tr>\n      <th>59</th>\n      <td>Nationwide Mutual Insurance Co.</td>\n      <td>91</td>\n      <td>34542</td>\n      <td>OH</td>\n    </tr>\n    <tr>\n      <th>104</th>\n      <td>The Goodyear Tire &amp;amp; Rubber Company</td>\n      <td>147</td>\n      <td>19540</td>\n      <td>OH</td>\n    </tr>\n    <tr>\n      <th>142</th>\n      <td>Macy's, Inc.</td>\n      <td>107</td>\n      <td>27931</td>\n      <td>OH</td>\n    </tr>\n    <tr>\n      <th>154</th>\n      <td>FirstEnergy Corp.</td>\n      <td>195</td>\n      <td>14950</td>\n      <td>OH</td>\n    </tr>\n    <tr>\n      <th>164</th>\n      <td>American Electric Power Company, Inc.</td>\n      <td>186</td>\n      <td>15357</td>\n      <td>OH</td>\n    </tr>\n    <tr>\n      <th>193</th>\n      <td>The Progressive Corporation</td>\n      <td>157</td>\n      <td>18171</td>\n      <td>OH</td>\n    </tr>\n    <tr>\n      <th>233</th>\n      <td>Parker-Hannifin Corporation</td>\n      <td>217</td>\n      <td>13016</td>\n      <td>OH</td>\n    </tr>\n    <tr>\n      <th>272</th>\n      <td>The Sherwin-Williams Company</td>\n      <td>278</td>\n      <td>10186</td>\n      <td>OH</td>\n    </tr>\n    <tr>\n      <th>286</th>\n      <td>L Brands, Inc.</td>\n      <td>263</td>\n      <td>10773</td>\n      <td>OH</td>\n    </tr>\n    <tr>\n      <th>311</th>\n      <td>TravelCenters of America LLC</td>\n      <td>339</td>\n      <td>7963</td>\n      <td>OH</td>\n    </tr>\n    <tr>\n      <th>365</th>\n      <td>Dana Holding Corporation</td>\n      <td>385</td>\n      <td>6769</td>\n      <td>OH</td>\n    </tr>\n    <tr>\n      <th>378</th>\n      <td>Owens-Illinois, Inc.</td>\n      <td>372</td>\n      <td>6967</td>\n      <td>OH</td>\n    </tr>\n    <tr>\n      <th>389</th>\n      <td>Fifth Third Bancorp</td>\n      <td>361</td>\n      <td>7200</td>\n      <td>OH</td>\n    </tr>\n    <tr>\n      <th>406</th>\n      <td>Cliffs Natural Resources Inc.</td>\n      <td>445</td>\n      <td>5691</td>\n      <td>OH</td>\n    </tr>\n    <tr>\n      <th>416</th>\n      <td>The J.M. Smucker Company</td>\n      <td>435</td>\n      <td>5898</td>\n      <td>OH</td>\n    </tr>\n    <tr>\n      <th>435</th>\n      <td>Omnicare, Inc.</td>\n      <td>415</td>\n      <td>6277</td>\n      <td>OH</td>\n    </tr>\n    <tr>\n      <th>463</th>\n      <td>American Financial Group, Inc.</td>\n      <td>487</td>\n      <td>5092</td>\n      <td>OH</td>\n    </tr>\n    <tr>\n      <th>475</th>\n      <td>Owens Corning</td>\n      <td>475</td>\n      <td>5295</td>\n      <td>OH</td>\n    </tr>\n    <tr>\n      <th>477</th>\n      <td>Big Lots, Inc.</td>\n      <td>473</td>\n      <td>5302</td>\n      <td>OH</td>\n    </tr>\n    <tr>\n      <th>494</th>\n      <td>AK Steel Holding Corporation</td>\n      <td>455</td>\n      <td>5570</td>\n      <td>OH</td>\n    </tr>\n    <tr>\n      <th>496</th>\n      <td>The Andersons, Inc.</td>\n      <td>453</td>\n      <td>5605</td>\n      <td>OH</td>\n    </tr>\n    <tr>\n      <th>508</th>\n      <td>Cincinnati Financial Corporation</td>\n      <td>543</td>\n      <td>4531</td>\n      <td>OH</td>\n    </tr>\n    <tr>\n      <th>509</th>\n      <td>KeyCorp</td>\n      <td>541</td>\n      <td>4567</td>\n      <td>OH</td>\n    </tr>\n    <tr>\n      <th>539</th>\n      <td>Western &amp;amp; Southern Mutual Holding Company</td>\n      <td>511</td>\n      <td>4812</td>\n      <td>OH</td>\n    </tr>\n    <tr>\n      <th>545</th>\n      <td>Momentive Specialty Chemicals Inc.</td>\n      <td>505</td>\n      <td>4890</td>\n      <td>OH</td>\n    </tr>\n    <tr>\n      <th>552</th>\n      <td>RPM International Inc.</td>\n      <td>598</td>\n      <td>4079</td>\n      <td>OH</td>\n    </tr>\n    <tr>\n      <th>555</th>\n      <td>Abercrombie &amp;amp; Fitch Co.</td>\n      <td>594</td>\n      <td>4117</td>\n      <td>OH</td>\n    </tr>\n    <tr>\n      <th>578</th>\n      <td>Cintas Corporation</td>\n      <td>572</td>\n      <td>4317</td>\n      <td>OH</td>\n    </tr>\n    <tr>\n      <th>581</th>\n      <td>Aleris Corporation</td>\n      <td>569</td>\n      <td>4333</td>\n      <td>OH</td>\n    </tr>\n    <tr>\n      <th>583</th>\n      <td>The Timken Company</td>\n      <td>568</td>\n      <td>4341</td>\n      <td>OH</td>\n    </tr>\n    <tr>\n      <th>584</th>\n      <td>Greif</td>\n      <td>566</td>\n      <td>4353</td>\n      <td>OH</td>\n    </tr>\n    <tr>\n      <th>631</th>\n      <td>PolyOne Corporation</td>\n      <td>618</td>\n      <td>3827</td>\n      <td>OH</td>\n    </tr>\n    <tr>\n      <th>682</th>\n      <td>Cooper Tire &amp;amp; Rubber Company</td>\n      <td>669</td>\n      <td>3439</td>\n      <td>OH</td>\n    </tr>\n    <tr>\n      <th>703</th>\n      <td>Health Care REIT</td>\n      <td>746</td>\n      <td>2899</td>\n      <td>OH</td>\n    </tr>\n    <tr>\n      <th>732</th>\n      <td>NewPage Holdings Inc.</td>\n      <td>718</td>\n      <td>3054</td>\n      <td>OH</td>\n    </tr>\n    <tr>\n      <th>756</th>\n      <td>Hyster-Yale Materials Handling, Inc.</td>\n      <td>794</td>\n      <td>2666</td>\n      <td>OH</td>\n    </tr>\n    <tr>\n      <th>766</th>\n      <td>Medical Mutual of Ohio</td>\n      <td>784</td>\n      <td>2692</td>\n      <td>OH</td>\n    </tr>\n    <tr>\n      <th>767</th>\n      <td>Teradata Corporation</td>\n      <td>783</td>\n      <td>2692</td>\n      <td>OH</td>\n    </tr>\n    <tr>\n      <th>782</th>\n      <td>The Scotts Miracle-Gro Company</td>\n      <td>768</td>\n      <td>2817</td>\n      <td>OH</td>\n    </tr>\n    <tr>\n      <th>792</th>\n      <td>Lincoln Electric Holdings, Inc.</td>\n      <td>758</td>\n      <td>2853</td>\n      <td>OH</td>\n    </tr>\n    <tr>\n      <th>793</th>\n      <td>Diebold, Incorporated</td>\n      <td>757</td>\n      <td>2858</td>\n      <td>OH</td>\n    </tr>\n    <tr>\n      <th>794</th>\n      <td>Huntington Bancshares Incorporated</td>\n      <td>756</td>\n      <td>2859</td>\n      <td>OH</td>\n    </tr>\n    <tr>\n      <th>813</th>\n      <td>Worthington Industries, Inc.</td>\n      <td>807</td>\n      <td>2612</td>\n      <td>OH</td>\n    </tr>\n    <tr>\n      <th>849</th>\n      <td>Applied Industrial Technologies, Inc.</td>\n      <td>852</td>\n      <td>2462</td>\n      <td>OH</td>\n    </tr>\n    <tr>\n      <th>857</th>\n      <td>The Wendy's Company</td>\n      <td>843</td>\n      <td>2487</td>\n      <td>OH</td>\n    </tr>\n    <tr>\n      <th>868</th>\n      <td>DSW Inc.</td>\n      <td>872</td>\n      <td>2369</td>\n      <td>OH</td>\n    </tr>\n    <tr>\n      <th>873</th>\n      <td>Mettler-Toledo International Inc.</td>\n      <td>866</td>\n      <td>2379</td>\n      <td>OH</td>\n    </tr>\n    <tr>\n      <th>907</th>\n      <td>Express, Inc.</td>\n      <td>913</td>\n      <td>2219</td>\n      <td>OH</td>\n    </tr>\n    <tr>\n      <th>937</th>\n      <td>A. Schulman, Inc.</td>\n      <td>922</td>\n      <td>2163</td>\n      <td>OH</td>\n    </tr>\n    <tr>\n      <th>943</th>\n      <td>Convergys Corporation</td>\n      <td>958</td>\n      <td>2046</td>\n      <td>OH</td>\n    </tr>\n    <tr>\n      <th>958</th>\n      <td>Vantiv, Inc.</td>\n      <td>942</td>\n      <td>2108</td>\n      <td>OH</td>\n    </tr>\n    <tr>\n      <th>982</th>\n      <td>TransDigm Group Incorporated</td>\n      <td>997</td>\n      <td>1924</td>\n      <td>OH</td>\n    </tr>\n  </tbody>\n</table>\n</div>"
     },
     "execution_count": 5,
     "metadata": {},
     "output_type": "execute_result"
    }
   ],
   "source": [
    "pd_list[2014]"
   ],
   "metadata": {
    "collapsed": false
   }
  },
  {
   "cell_type": "code",
   "execution_count": 6,
   "outputs": [],
   "source": [
    "for year in pd_list:\n",
    "    pd_list[year].to_csv(f\"Ohio_{year}.csv\", index=False)\n"
   ],
   "metadata": {
    "collapsed": false
   }
  },
  {
   "cell_type": "code",
   "execution_count": null,
   "outputs": [],
   "source": [],
   "metadata": {
    "collapsed": false
   }
  }
 ],
 "metadata": {
  "kernelspec": {
   "display_name": "Python 3",
   "language": "python",
   "name": "python3"
  },
  "language_info": {
   "codemirror_mode": {
    "name": "ipython",
    "version": 2
   },
   "file_extension": ".py",
   "mimetype": "text/x-python",
   "name": "python",
   "nbconvert_exporter": "python",
   "pygments_lexer": "ipython2",
   "version": "2.7.6"
  }
 },
 "nbformat": 4,
 "nbformat_minor": 0
}
