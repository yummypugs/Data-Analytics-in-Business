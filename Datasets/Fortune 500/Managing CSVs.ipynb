{
 "cells": [
  {
   "cell_type": "code",
   "execution_count": 23,
   "metadata": {
    "collapsed": true
   },
   "outputs": [],
   "source": [
    "import pandas as pd"
   ]
  },
  {
   "cell_type": "code",
   "execution_count": 24,
   "outputs": [
    {
     "data": {
      "text/plain": "                    NAME           CITY STATE  REVENUES   PROFIT\nRANK                                                            \n1                WALMART    BENTONVILLE    AR    485873  13643.0\n2     BERKSHIRE HATHAWAY          OMAHA    NE    223604  24074.0\n3                  APPLE      CUPERTINO    CA    215639  45687.0\n4            EXXON MOBIL         IRVING    TX    205004   7840.0\n5               MCKESSON  SAN FRANCISCO    CA    192487   2258.0\n...                  ...            ...   ...       ...      ...\n496        MICHAELS COS.         IRVING    TX      5197    378.2\n497        TOLL BROTHERS        HORSHAM    PA      5170    382.1\n498                YAHOO      SUNNYVALE    CA      5169   -214.3\n499        VISTRA ENERGY         IRVING    TX      5164 -99999.0\n500       ABM INDUSTRIES       NEW YORK    NY      5145     57.2\n\n[500 rows x 5 columns]",
      "text/html": "<div>\n<style scoped>\n    .dataframe tbody tr th:only-of-type {\n        vertical-align: middle;\n    }\n\n    .dataframe tbody tr th {\n        vertical-align: top;\n    }\n\n    .dataframe thead th {\n        text-align: right;\n    }\n</style>\n<table border=\"1\" class=\"dataframe\">\n  <thead>\n    <tr style=\"text-align: right;\">\n      <th></th>\n      <th>NAME</th>\n      <th>CITY</th>\n      <th>STATE</th>\n      <th>REVENUES</th>\n      <th>PROFIT</th>\n    </tr>\n    <tr>\n      <th>RANK</th>\n      <th></th>\n      <th></th>\n      <th></th>\n      <th></th>\n      <th></th>\n    </tr>\n  </thead>\n  <tbody>\n    <tr>\n      <th>1</th>\n      <td>WALMART</td>\n      <td>BENTONVILLE</td>\n      <td>AR</td>\n      <td>485873</td>\n      <td>13643.0</td>\n    </tr>\n    <tr>\n      <th>2</th>\n      <td>BERKSHIRE HATHAWAY</td>\n      <td>OMAHA</td>\n      <td>NE</td>\n      <td>223604</td>\n      <td>24074.0</td>\n    </tr>\n    <tr>\n      <th>3</th>\n      <td>APPLE</td>\n      <td>CUPERTINO</td>\n      <td>CA</td>\n      <td>215639</td>\n      <td>45687.0</td>\n    </tr>\n    <tr>\n      <th>4</th>\n      <td>EXXON MOBIL</td>\n      <td>IRVING</td>\n      <td>TX</td>\n      <td>205004</td>\n      <td>7840.0</td>\n    </tr>\n    <tr>\n      <th>5</th>\n      <td>MCKESSON</td>\n      <td>SAN FRANCISCO</td>\n      <td>CA</td>\n      <td>192487</td>\n      <td>2258.0</td>\n    </tr>\n    <tr>\n      <th>...</th>\n      <td>...</td>\n      <td>...</td>\n      <td>...</td>\n      <td>...</td>\n      <td>...</td>\n    </tr>\n    <tr>\n      <th>496</th>\n      <td>MICHAELS COS.</td>\n      <td>IRVING</td>\n      <td>TX</td>\n      <td>5197</td>\n      <td>378.2</td>\n    </tr>\n    <tr>\n      <th>497</th>\n      <td>TOLL BROTHERS</td>\n      <td>HORSHAM</td>\n      <td>PA</td>\n      <td>5170</td>\n      <td>382.1</td>\n    </tr>\n    <tr>\n      <th>498</th>\n      <td>YAHOO</td>\n      <td>SUNNYVALE</td>\n      <td>CA</td>\n      <td>5169</td>\n      <td>-214.3</td>\n    </tr>\n    <tr>\n      <th>499</th>\n      <td>VISTRA ENERGY</td>\n      <td>IRVING</td>\n      <td>TX</td>\n      <td>5164</td>\n      <td>-99999.0</td>\n    </tr>\n    <tr>\n      <th>500</th>\n      <td>ABM INDUSTRIES</td>\n      <td>NEW YORK</td>\n      <td>NY</td>\n      <td>5145</td>\n      <td>57.2</td>\n    </tr>\n  </tbody>\n</table>\n<p>500 rows × 5 columns</p>\n</div>"
     },
     "execution_count": 24,
     "metadata": {},
     "output_type": "execute_result"
    }
   ],
   "source": [
    "fortune2022 = pd.read_csv(\"Fortune_500_Corporate_Headquarters.csv\", index_col=\"RANK\")\n",
    "fortune2022 = fortune2022.drop(fortune2022.columns.difference([\"NAME\", \"CITY\", \"STATE\", \"RANK\", \"REVENUES\", \"PROFIT\"]), axis=1)\n",
    "fortune2022.sort_values(\"RANK\", ascending=True)"
   ],
   "metadata": {
    "collapsed": false
   }
  },
  {
   "cell_type": "code",
   "execution_count": 25,
   "outputs": [
    {
     "data": {
      "text/plain": "                        company   revenue   profit            city state\nrank                                                                    \n1                       Walmart  523964.0  14881.0     Bentonville    AR\n2                        Amazon  280522.0  11588.0         Seattle    WA\n3                   Exxon Mobil  264938.0  14340.0          Irving    TX\n4                         Apple  260174.0  55256.0       Cupertino    CA\n5                    CVS Health  256776.0   6634.0      Woonsocket    RI\n...                         ...       ...      ...             ...   ...\n996            Mr. Cooper Group    2007.0    274.0         Coppell    TX\n997               Herc Holdings    1999.0     47.5  Bonita Springs    FL\n998       Healthpeak Properties    1997.4     45.5          Irvine    CA\n999                    SPX FLOW    1996.3    -95.1       Charlotte    NC\n1000  Liberty Oilfield Services    1990.3     39.0          Denver    CO\n\n[1000 rows x 5 columns]",
      "text/html": "<div>\n<style scoped>\n    .dataframe tbody tr th:only-of-type {\n        vertical-align: middle;\n    }\n\n    .dataframe tbody tr th {\n        vertical-align: top;\n    }\n\n    .dataframe thead th {\n        text-align: right;\n    }\n</style>\n<table border=\"1\" class=\"dataframe\">\n  <thead>\n    <tr style=\"text-align: right;\">\n      <th></th>\n      <th>company</th>\n      <th>revenue</th>\n      <th>profit</th>\n      <th>city</th>\n      <th>state</th>\n    </tr>\n    <tr>\n      <th>rank</th>\n      <th></th>\n      <th></th>\n      <th></th>\n      <th></th>\n      <th></th>\n    </tr>\n  </thead>\n  <tbody>\n    <tr>\n      <th>1</th>\n      <td>Walmart</td>\n      <td>523964.0</td>\n      <td>14881.0</td>\n      <td>Bentonville</td>\n      <td>AR</td>\n    </tr>\n    <tr>\n      <th>2</th>\n      <td>Amazon</td>\n      <td>280522.0</td>\n      <td>11588.0</td>\n      <td>Seattle</td>\n      <td>WA</td>\n    </tr>\n    <tr>\n      <th>3</th>\n      <td>Exxon Mobil</td>\n      <td>264938.0</td>\n      <td>14340.0</td>\n      <td>Irving</td>\n      <td>TX</td>\n    </tr>\n    <tr>\n      <th>4</th>\n      <td>Apple</td>\n      <td>260174.0</td>\n      <td>55256.0</td>\n      <td>Cupertino</td>\n      <td>CA</td>\n    </tr>\n    <tr>\n      <th>5</th>\n      <td>CVS Health</td>\n      <td>256776.0</td>\n      <td>6634.0</td>\n      <td>Woonsocket</td>\n      <td>RI</td>\n    </tr>\n    <tr>\n      <th>...</th>\n      <td>...</td>\n      <td>...</td>\n      <td>...</td>\n      <td>...</td>\n      <td>...</td>\n    </tr>\n    <tr>\n      <th>996</th>\n      <td>Mr. Cooper Group</td>\n      <td>2007.0</td>\n      <td>274.0</td>\n      <td>Coppell</td>\n      <td>TX</td>\n    </tr>\n    <tr>\n      <th>997</th>\n      <td>Herc Holdings</td>\n      <td>1999.0</td>\n      <td>47.5</td>\n      <td>Bonita Springs</td>\n      <td>FL</td>\n    </tr>\n    <tr>\n      <th>998</th>\n      <td>Healthpeak Properties</td>\n      <td>1997.4</td>\n      <td>45.5</td>\n      <td>Irvine</td>\n      <td>CA</td>\n    </tr>\n    <tr>\n      <th>999</th>\n      <td>SPX FLOW</td>\n      <td>1996.3</td>\n      <td>-95.1</td>\n      <td>Charlotte</td>\n      <td>NC</td>\n    </tr>\n    <tr>\n      <th>1000</th>\n      <td>Liberty Oilfield Services</td>\n      <td>1990.3</td>\n      <td>39.0</td>\n      <td>Denver</td>\n      <td>CO</td>\n    </tr>\n  </tbody>\n</table>\n<p>1000 rows × 5 columns</p>\n</div>"
     },
     "execution_count": 25,
     "metadata": {},
     "output_type": "execute_result"
    }
   ],
   "source": [
    "fortune2021 = pd.read_csv(\"Fortune_1000.csv\", index_col=\"rank\")\n",
    "fortune2021 = fortune2021.drop(fortune2021.columns.difference([\"company\", \"city\", \"state\", \"ZIP\", \"rank\", \"revenue\", \"profit\"]), axis=1)\n",
    "fortune2021"
   ],
   "metadata": {
    "collapsed": false
   }
  },
  {
   "cell_type": "code",
   "execution_count": 26,
   "outputs": [
    {
     "data": {
      "text/plain": "                   Title         Hqlocation         Hqcity Hqstate  Revenues  \\\nRank                                                                           \n1                Walmart    Bentonville, AR    Bentonville      AR    485873   \n2     Berkshire Hathaway          Omaha, NE          Omaha      NE    223604   \n3                  Apple      Cupertino, CA      Cupertino      CA    215639   \n4            Exxon Mobil         Irving, TX         Irving      TX    205004   \n5               McKesson  San Francisco, CA  San Francisco      CA    192487   \n...                  ...                ...            ...     ...       ...   \n496        Michaels Cos.         Irving, TX         Irving      TX      5197   \n497        Toll Brothers        Horsham, PA        Horsham      PA      5170   \n498                Yahoo      Sunnyvale, CA      Sunnyvale      CA      5169   \n499        Vistra Energy         Dallas, TX         Dallas      TX      5164   \n500       ABM Industries       New York, NY       New York      NY      5145   \n\n      Profits  \nRank           \n1     13643.0  \n2     24074.0  \n3     45687.0  \n4      7840.0  \n5      2258.0  \n...       ...  \n496     378.2  \n497     382.1  \n498    -214.3  \n499    -214.3  \n500      57.2  \n\n[500 rows x 6 columns]",
      "text/html": "<div>\n<style scoped>\n    .dataframe tbody tr th:only-of-type {\n        vertical-align: middle;\n    }\n\n    .dataframe tbody tr th {\n        vertical-align: top;\n    }\n\n    .dataframe thead th {\n        text-align: right;\n    }\n</style>\n<table border=\"1\" class=\"dataframe\">\n  <thead>\n    <tr style=\"text-align: right;\">\n      <th></th>\n      <th>Title</th>\n      <th>Hqlocation</th>\n      <th>Hqcity</th>\n      <th>Hqstate</th>\n      <th>Revenues</th>\n      <th>Profits</th>\n    </tr>\n    <tr>\n      <th>Rank</th>\n      <th></th>\n      <th></th>\n      <th></th>\n      <th></th>\n      <th></th>\n      <th></th>\n    </tr>\n  </thead>\n  <tbody>\n    <tr>\n      <th>1</th>\n      <td>Walmart</td>\n      <td>Bentonville, AR</td>\n      <td>Bentonville</td>\n      <td>AR</td>\n      <td>485873</td>\n      <td>13643.0</td>\n    </tr>\n    <tr>\n      <th>2</th>\n      <td>Berkshire Hathaway</td>\n      <td>Omaha, NE</td>\n      <td>Omaha</td>\n      <td>NE</td>\n      <td>223604</td>\n      <td>24074.0</td>\n    </tr>\n    <tr>\n      <th>3</th>\n      <td>Apple</td>\n      <td>Cupertino, CA</td>\n      <td>Cupertino</td>\n      <td>CA</td>\n      <td>215639</td>\n      <td>45687.0</td>\n    </tr>\n    <tr>\n      <th>4</th>\n      <td>Exxon Mobil</td>\n      <td>Irving, TX</td>\n      <td>Irving</td>\n      <td>TX</td>\n      <td>205004</td>\n      <td>7840.0</td>\n    </tr>\n    <tr>\n      <th>5</th>\n      <td>McKesson</td>\n      <td>San Francisco, CA</td>\n      <td>San Francisco</td>\n      <td>CA</td>\n      <td>192487</td>\n      <td>2258.0</td>\n    </tr>\n    <tr>\n      <th>...</th>\n      <td>...</td>\n      <td>...</td>\n      <td>...</td>\n      <td>...</td>\n      <td>...</td>\n      <td>...</td>\n    </tr>\n    <tr>\n      <th>496</th>\n      <td>Michaels Cos.</td>\n      <td>Irving, TX</td>\n      <td>Irving</td>\n      <td>TX</td>\n      <td>5197</td>\n      <td>378.2</td>\n    </tr>\n    <tr>\n      <th>497</th>\n      <td>Toll Brothers</td>\n      <td>Horsham, PA</td>\n      <td>Horsham</td>\n      <td>PA</td>\n      <td>5170</td>\n      <td>382.1</td>\n    </tr>\n    <tr>\n      <th>498</th>\n      <td>Yahoo</td>\n      <td>Sunnyvale, CA</td>\n      <td>Sunnyvale</td>\n      <td>CA</td>\n      <td>5169</td>\n      <td>-214.3</td>\n    </tr>\n    <tr>\n      <th>499</th>\n      <td>Vistra Energy</td>\n      <td>Dallas, TX</td>\n      <td>Dallas</td>\n      <td>TX</td>\n      <td>5164</td>\n      <td>-214.3</td>\n    </tr>\n    <tr>\n      <th>500</th>\n      <td>ABM Industries</td>\n      <td>New York, NY</td>\n      <td>New York</td>\n      <td>NY</td>\n      <td>5145</td>\n      <td>57.2</td>\n    </tr>\n  </tbody>\n</table>\n<p>500 rows × 6 columns</p>\n</div>"
     },
     "execution_count": 26,
     "metadata": {},
     "output_type": "execute_result"
    }
   ],
   "source": [
    "fortune2017 = pd.read_csv(\"Fortune 500 2017 - Fortune 500.csv\", index_col=\"Rank\")\n",
    "fortune2017 = fortune2017.drop(fortune2017.columns.difference([\"Title\", \"Hqlocation\", \"Hqcity\", \"Hqstate\", \"ZIP\", \"Rank\", \"Rank_change\", \"Revenues\", \"Profits\"]), axis=1)\n",
    "fortune2017"
   ],
   "metadata": {
    "collapsed": false
   }
  },
  {
   "cell_type": "code",
   "execution_count": 26,
   "outputs": [],
   "source": [],
   "metadata": {
    "collapsed": false
   }
  }
 ],
 "metadata": {
  "kernelspec": {
   "display_name": "Python 3",
   "language": "python",
   "name": "python3"
  },
  "language_info": {
   "codemirror_mode": {
    "name": "ipython",
    "version": 2
   },
   "file_extension": ".py",
   "mimetype": "text/x-python",
   "name": "python",
   "nbconvert_exporter": "python",
   "pygments_lexer": "ipython2",
   "version": "2.7.6"
  }
 },
 "nbformat": 4,
 "nbformat_minor": 0
}
