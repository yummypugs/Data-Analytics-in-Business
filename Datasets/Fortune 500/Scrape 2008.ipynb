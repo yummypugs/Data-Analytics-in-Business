{
 "cells": [
  {
   "cell_type": "code",
   "execution_count": 47,
   "metadata": {
    "collapsed": true
   },
   "outputs": [],
   "source": [
    "import os\n",
    "import time\n",
    "import sys\n",
    "import numpy as np\n",
    "import pandas as pd\n",
    "import regex as re\n",
    "import lxml\n",
    "import numbers\n",
    "from bs4 import BeautifulSoup\n",
    "import requests\n",
    "import json\n",
    "\n",
    "req_headers = {\n",
    "    'accept': 'text/html,application/xhtml+xml,application/xml;q=0.9,image/webp,image/apng,*/*;q=0.8',\n",
    "    'accept-encoding': 'gzip, deflate, br',\n",
    "    'accept-language': 'en-US,en;q=0.8',\n",
    "    'upgrade-insecure-requests': '1',\n",
    "    'user-agent': 'Mozilla/5.0 (Windows NT 10.0; Win64; x64) AppleWebKit/537.36 (KHTML, like Gecko) Chrome/61.0.3163.100 Safari/537.36'\n",
    "}"
   ]
  },
  {
   "cell_type": "code",
   "execution_count": 48,
   "outputs": [],
   "source": [
    "page_url = 'https://fortune.com/wp-json/irving/v1/data/franchise-search-results?list_id=2013055&token=Zm9ydHVuZTpCcHNyZmtNZCN5SndjWkkhNHFqMndEOTM='"
   ],
   "metadata": {
    "collapsed": false
   }
  },
  {
   "cell_type": "code",
   "execution_count": 49,
   "outputs": [
    {
     "name": "stdout",
     "output_type": "stream",
     "text": [
      "2\n"
     ]
    }
   ],
   "source": [
    "# request the URL and parse the JSON\n",
    "response = requests.get(page_url)\n",
    "response.raise_for_status() # raise exception if invalid response\n",
    "comps = response.json()\n",
    "print(len(comps))"
   ],
   "metadata": {
    "collapsed": false
   }
  },
  {
   "cell_type": "code",
   "execution_count": 50,
   "outputs": [
    {
     "name": "stdout",
     "output_type": "stream",
     "text": [
      "2\n"
     ]
    }
   ],
   "source": [
    "comp = comps[1]\n",
    "print(len(comp))"
   ],
   "metadata": {
    "collapsed": false
   }
  },
  {
   "cell_type": "code",
   "execution_count": 51,
   "outputs": [
    {
     "name": "stdout",
     "output_type": "stream",
     "text": [
      "{\n",
      "     \"items\": [\n",
      "          {\n",
      "               \"fields\": [\n",
      "                    {\n",
      "                         \"key\": \"rank\",\n",
      "                         \"value\": \"351\"\n",
      "                    },\n",
      "                    {\n",
      "                         \"key\": \"revenues\",\n",
      "                         \"value\": \"7710\"\n",
      "                    },\n",
      "                    {\n",
      "                         \"key\": \"revchange\",\n",
      "                         \"value\": \"-5.1\"\n",
      "                    },\n",
      "                    {\n",
      "                         \"key\": \"profits\",\n",
      "                         \"value\": \"119.9\"\n",
      "                    },\n",
      "                    {\n",
      "                         \"key\": \"prftchange\",\n",
      "                         \"value\": \"\"\n",
      "                    },\n",
      "                    {\n",
      "                         \"key\": \"assets\",\n",
      "                         \"value\": \"2606\"\n",
      "                    },\n",
      "                    {\n",
      "                         \"key\": \"mktval\",\n",
      "                         \"value\": \"1786\"\n",
      "                    },\n",
      "                    {\n",
      "                     \n"
     ]
    }
   ],
   "source": [
    "# prettify json\n",
    "format_json = json.dumps(comp, sort_keys=True, indent=5)\n",
    "print(format_json[:1000])"
   ],
   "metadata": {
    "collapsed": false
   }
  },
  {
   "cell_type": "code",
   "execution_count": 52,
   "outputs": [
    {
     "name": "stdout",
     "output_type": "stream",
     "text": [
      "{'fields': [{'key': 'rank', 'value': '353'}, {'key': 'revenues', 'value': '7669'}, {'key': 'revchange', 'value': '28.2'}, {'key': 'profits', 'value': '602.7'}, {'key': 'prftchange', 'value': '22'}, {'key': 'assets', 'value': '10178'}, {'key': 'mktval', 'value': '7466'}, {'key': 'employees', 'value': '4623'}, {'key': 'rankchange1000', 'value': '80'}, {'key': 'rankchange', 'value': '80'}, {'fieldMeta': {'title': 'Company', 'type': 'Text', 'importField': 'title', 'order': 'desc'}, 'key': 'title', 'value': 'PulteGroup'}], 'permalink': 'https://fortune.com/fortune500/2017/pultegroup/'}\n"
     ]
    }
   ],
   "source": [
    "# select the third company\n",
    "n_comp = comp['items'][2]\n",
    "print(n_comp)"
   ],
   "metadata": {
    "collapsed": false
   }
  },
  {
   "cell_type": "code",
   "execution_count": 53,
   "outputs": [
    {
     "data": {
      "text/plain": "dict_keys(['fields', 'permalink'])"
     },
     "execution_count": 53,
     "metadata": {},
     "output_type": "execute_result"
    }
   ],
   "source": [
    "n_comp.keys()"
   ],
   "metadata": {
    "collapsed": false
   }
  },
  {
   "cell_type": "code",
   "execution_count": 54,
   "outputs": [
    {
     "name": "stdout",
     "output_type": "stream",
     "text": [
      "https://fortune.com/fortune500/2017/pultegroup/\n"
     ]
    }
   ],
   "source": [
    "new_comp = n_comp['permalink']\n",
    "print(new_comp)"
   ],
   "metadata": {
    "collapsed": false
   }
  },
  {
   "cell_type": "code",
   "execution_count": 55,
   "outputs": [
    {
     "name": "stdout",
     "output_type": "stream",
     "text": [
      "[{'key': 'rank', 'value': '353'}, {'key': 'revenues', 'value': '7669'}, {'key': 'revchange', 'value': '28.2'}, {'key': 'profits', 'value': '602.7'}, {'key': 'prftchange', 'value': '22'}, {'key': 'assets', 'value': '10178'}, {'key': 'mktval', 'value': '7466'}, {'key': 'employees', 'value': '4623'}, {'key': 'rankchange1000', 'value': '80'}, {'key': 'rankchange', 'value': '80'}, {'fieldMeta': {'title': 'Company', 'type': 'Text', 'importField': 'title', 'order': 'desc'}, 'key': 'title', 'value': 'PulteGroup'}]\n"
     ]
    }
   ],
   "source": [
    "my_comp = n_comp['fields']\n",
    "print(my_comp)"
   ],
   "metadata": {
    "collapsed": false
   }
  },
  {
   "cell_type": "markdown",
   "source": [
    "# JSON Data"
   ],
   "metadata": {
    "collapsed": false
   }
  },
  {
   "cell_type": "code",
   "execution_count": 56,
   "outputs": [
    {
     "name": "stdout",
     "output_type": "stream",
     "text": [
      "1000\n"
     ]
    }
   ],
   "source": [
    "fields = []\n",
    "\n",
    "for j in comp['items']:\n",
    "\n",
    "    #for key, value in comp:\n",
    "    field = j['fields']\n",
    "    fields.append(field)\n",
    "\n",
    "print(len(fields))"
   ],
   "metadata": {
    "collapsed": false
   }
  },
  {
   "cell_type": "code",
   "execution_count": 57,
   "outputs": [],
   "source": [
    "df = pd.DataFrame()"
   ],
   "metadata": {
    "collapsed": false
   }
  },
  {
   "cell_type": "code",
   "execution_count": 58,
   "outputs": [],
   "source": [
    "def gather_data(name, col):\n",
    "\n",
    "    lst = []\n",
    "    val = \"\"\n",
    "    for i in fields:\n",
    "        for j in i:\n",
    "            if j['key'] == name:\n",
    "                val = j['value']\n",
    "            else:\n",
    "                pass\n",
    "\n",
    "        lst.append(val)\n",
    "\n",
    "    df[col] = lst\n",
    "\n",
    "    return df"
   ],
   "metadata": {
    "collapsed": false
   }
  },
  {
   "cell_type": "code",
   "execution_count": 59,
   "outputs": [],
   "source": [
    "keys = ['name', 'rank', 'rankchange', 'f500_revenues', 'f500_profits',\n",
    "        'f500_ employees', 'sector', 'hqcity', 'hqstate', 'newcomer',\n",
    "        'ceofounder', 'ceowoman', 'profitable']\n",
    "\n",
    "cols = ['company', 'rank', 'rank_change', 'revenue', 'profit',\n",
    "        'num. of employees', 'sector', 'city', 'state', 'newcomer',\n",
    "        'ceo_founder', 'ceo_woman', 'profitable']\n",
    "\n",
    "\n",
    "for x,y in zip(keys, cols):\n",
    "    f500_df = gather_data(x, y)"
   ],
   "metadata": {
    "collapsed": false
   }
  },
  {
   "cell_type": "code",
   "execution_count": 60,
   "outputs": [
    {
     "name": "stdout",
     "output_type": "stream",
     "text": [
      "(1000, 13)\n"
     ]
    },
    {
     "data": {
      "text/plain": "  company rank rank_change revenue profit num. of employees sector city state  \\\n0          351         -15                                                      \n1          352          79                                                      \n2          353          80                                                      \n3          354          14                                                      \n4          355          -3                                                      \n\n  newcomer ceo_founder ceo_woman profitable  \n0                                            \n1                                            \n2                                            \n3                                            \n4                                            ",
      "text/html": "<div>\n<style scoped>\n    .dataframe tbody tr th:only-of-type {\n        vertical-align: middle;\n    }\n\n    .dataframe tbody tr th {\n        vertical-align: top;\n    }\n\n    .dataframe thead th {\n        text-align: right;\n    }\n</style>\n<table border=\"1\" class=\"dataframe\">\n  <thead>\n    <tr style=\"text-align: right;\">\n      <th></th>\n      <th>company</th>\n      <th>rank</th>\n      <th>rank_change</th>\n      <th>revenue</th>\n      <th>profit</th>\n      <th>num. of employees</th>\n      <th>sector</th>\n      <th>city</th>\n      <th>state</th>\n      <th>newcomer</th>\n      <th>ceo_founder</th>\n      <th>ceo_woman</th>\n      <th>profitable</th>\n    </tr>\n  </thead>\n  <tbody>\n    <tr>\n      <th>0</th>\n      <td></td>\n      <td>351</td>\n      <td>-15</td>\n      <td></td>\n      <td></td>\n      <td></td>\n      <td></td>\n      <td></td>\n      <td></td>\n      <td></td>\n      <td></td>\n      <td></td>\n      <td></td>\n    </tr>\n    <tr>\n      <th>1</th>\n      <td></td>\n      <td>352</td>\n      <td>79</td>\n      <td></td>\n      <td></td>\n      <td></td>\n      <td></td>\n      <td></td>\n      <td></td>\n      <td></td>\n      <td></td>\n      <td></td>\n      <td></td>\n    </tr>\n    <tr>\n      <th>2</th>\n      <td></td>\n      <td>353</td>\n      <td>80</td>\n      <td></td>\n      <td></td>\n      <td></td>\n      <td></td>\n      <td></td>\n      <td></td>\n      <td></td>\n      <td></td>\n      <td></td>\n      <td></td>\n    </tr>\n    <tr>\n      <th>3</th>\n      <td></td>\n      <td>354</td>\n      <td>14</td>\n      <td></td>\n      <td></td>\n      <td></td>\n      <td></td>\n      <td></td>\n      <td></td>\n      <td></td>\n      <td></td>\n      <td></td>\n      <td></td>\n    </tr>\n    <tr>\n      <th>4</th>\n      <td></td>\n      <td>355</td>\n      <td>-3</td>\n      <td></td>\n      <td></td>\n      <td></td>\n      <td></td>\n      <td></td>\n      <td></td>\n      <td></td>\n      <td></td>\n      <td></td>\n      <td></td>\n    </tr>\n  </tbody>\n</table>\n</div>"
     },
     "execution_count": 60,
     "metadata": {},
     "output_type": "execute_result"
    }
   ],
   "source": [
    "print(f500_df.shape)\n",
    "f500_df.head()"
   ],
   "metadata": {
    "collapsed": false
   }
  },
  {
   "cell_type": "code",
   "execution_count": 61,
   "outputs": [],
   "source": [
    "f500_df[['rank', 'rank_change', 'revenue', 'profit','num. of employees']] = f500_df[['rank', 'rank_change', 'revenue','profit','num. of employees']].apply(pd.to_numeric)"
   ],
   "metadata": {
    "collapsed": false
   }
  },
  {
   "cell_type": "code",
   "execution_count": 62,
   "outputs": [],
   "source": [
    "# fill missing values with zero\n",
    "f500_df['rank_change'] = f500_df['rank_change'].fillna(0)"
   ],
   "metadata": {
    "collapsed": false
   }
  },
  {
   "cell_type": "code",
   "execution_count": 63,
   "outputs": [
    {
     "name": "stdout",
     "output_type": "stream",
     "text": [
      "company               object\n",
      "rank                   int64\n",
      "rank_change          float64\n",
      "revenue              float64\n",
      "profit               float64\n",
      "num. of employees    float64\n",
      "sector                object\n",
      "city                  object\n",
      "state                 object\n",
      "newcomer              object\n",
      "ceo_founder           object\n",
      "ceo_woman             object\n",
      "profitable            object\n",
      "dtype: object\n"
     ]
    }
   ],
   "source": [
    "print(f500_df.dtypes)"
   ],
   "metadata": {
    "collapsed": false
   }
  },
  {
   "cell_type": "code",
   "execution_count": 64,
   "outputs": [
    {
     "data": {
      "text/plain": "  company  rank  rank_change  revenue  profit  num. of employees sector city  \\\n0           351        -15.0      NaN     NaN                NaN               \n1           352         79.0      NaN     NaN                NaN               \n2           353         80.0      NaN     NaN                NaN               \n3           354         14.0      NaN     NaN                NaN               \n4           355         -3.0      NaN     NaN                NaN               \n\n  state newcomer ceo_founder ceo_woman profitable  prev_rank  \n0                                                      336.0  \n1                                                      431.0  \n2                                                      433.0  \n3                                                      368.0  \n4                                                      352.0  ",
      "text/html": "<div>\n<style scoped>\n    .dataframe tbody tr th:only-of-type {\n        vertical-align: middle;\n    }\n\n    .dataframe tbody tr th {\n        vertical-align: top;\n    }\n\n    .dataframe thead th {\n        text-align: right;\n    }\n</style>\n<table border=\"1\" class=\"dataframe\">\n  <thead>\n    <tr style=\"text-align: right;\">\n      <th></th>\n      <th>company</th>\n      <th>rank</th>\n      <th>rank_change</th>\n      <th>revenue</th>\n      <th>profit</th>\n      <th>num. of employees</th>\n      <th>sector</th>\n      <th>city</th>\n      <th>state</th>\n      <th>newcomer</th>\n      <th>ceo_founder</th>\n      <th>ceo_woman</th>\n      <th>profitable</th>\n      <th>prev_rank</th>\n    </tr>\n  </thead>\n  <tbody>\n    <tr>\n      <th>0</th>\n      <td></td>\n      <td>351</td>\n      <td>-15.0</td>\n      <td>NaN</td>\n      <td>NaN</td>\n      <td>NaN</td>\n      <td></td>\n      <td></td>\n      <td></td>\n      <td></td>\n      <td></td>\n      <td></td>\n      <td></td>\n      <td>336.0</td>\n    </tr>\n    <tr>\n      <th>1</th>\n      <td></td>\n      <td>352</td>\n      <td>79.0</td>\n      <td>NaN</td>\n      <td>NaN</td>\n      <td>NaN</td>\n      <td></td>\n      <td></td>\n      <td></td>\n      <td></td>\n      <td></td>\n      <td></td>\n      <td></td>\n      <td>431.0</td>\n    </tr>\n    <tr>\n      <th>2</th>\n      <td></td>\n      <td>353</td>\n      <td>80.0</td>\n      <td>NaN</td>\n      <td>NaN</td>\n      <td>NaN</td>\n      <td></td>\n      <td></td>\n      <td></td>\n      <td></td>\n      <td></td>\n      <td></td>\n      <td></td>\n      <td>433.0</td>\n    </tr>\n    <tr>\n      <th>3</th>\n      <td></td>\n      <td>354</td>\n      <td>14.0</td>\n      <td>NaN</td>\n      <td>NaN</td>\n      <td>NaN</td>\n      <td></td>\n      <td></td>\n      <td></td>\n      <td></td>\n      <td></td>\n      <td></td>\n      <td></td>\n      <td>368.0</td>\n    </tr>\n    <tr>\n      <th>4</th>\n      <td></td>\n      <td>355</td>\n      <td>-3.0</td>\n      <td>NaN</td>\n      <td>NaN</td>\n      <td>NaN</td>\n      <td></td>\n      <td></td>\n      <td></td>\n      <td></td>\n      <td></td>\n      <td></td>\n      <td></td>\n      <td>352.0</td>\n    </tr>\n  </tbody>\n</table>\n</div>"
     },
     "execution_count": 64,
     "metadata": {},
     "output_type": "execute_result"
    }
   ],
   "source": [
    "# Create new features\n",
    "f500_df['prev_rank'] = (f500_df['rank'] + f500_df['rank_change'])\n",
    "f500_df.head()"
   ],
   "metadata": {
    "collapsed": false
   }
  },
  {
   "cell_type": "code",
   "execution_count": 65,
   "outputs": [],
   "source": [
    "# newcommer prev_rank\n",
    "f500_df.loc[(f500_df['newcomer'] == 'yes')| (f500_df['rank']>499), 'prev_rank'] = \" \""
   ],
   "metadata": {
    "collapsed": false
   }
  },
  {
   "cell_type": "code",
   "execution_count": 68,
   "outputs": [
    {
     "data": {
      "text/plain": "    company  rank  rank_change  revenue  profit  num. of employees sector  \\\n0             351        -15.0      NaN     NaN                NaN          \n1             352         79.0      NaN     NaN                NaN          \n2             353         80.0      NaN     NaN                NaN          \n3             354         14.0      NaN     NaN                NaN          \n4             355         -3.0      NaN     NaN                NaN          \n..      ...   ...          ...      ...     ...                ...    ...   \n995           996          0.0      NaN     NaN                NaN          \n996           997          0.0      NaN     NaN                NaN          \n997           998          0.0      NaN     NaN                NaN          \n998           999          0.0      NaN     NaN                NaN          \n999          1000          0.0      NaN     NaN                NaN          \n\n    city state newcomer ceo_founder ceo_woman profitable prev_rank  \n0                                                            336.0  \n1                                                            431.0  \n2                                                            433.0  \n3                                                            368.0  \n4                                                            352.0  \n..   ...   ...      ...         ...       ...        ...       ...  \n995                                                                 \n996                                                                 \n997                                                                 \n998                                                                 \n999                                                                 \n\n[1000 rows x 14 columns]",
      "text/html": "<div>\n<style scoped>\n    .dataframe tbody tr th:only-of-type {\n        vertical-align: middle;\n    }\n\n    .dataframe tbody tr th {\n        vertical-align: top;\n    }\n\n    .dataframe thead th {\n        text-align: right;\n    }\n</style>\n<table border=\"1\" class=\"dataframe\">\n  <thead>\n    <tr style=\"text-align: right;\">\n      <th></th>\n      <th>company</th>\n      <th>rank</th>\n      <th>rank_change</th>\n      <th>revenue</th>\n      <th>profit</th>\n      <th>num. of employees</th>\n      <th>sector</th>\n      <th>city</th>\n      <th>state</th>\n      <th>newcomer</th>\n      <th>ceo_founder</th>\n      <th>ceo_woman</th>\n      <th>profitable</th>\n      <th>prev_rank</th>\n    </tr>\n  </thead>\n  <tbody>\n    <tr>\n      <th>0</th>\n      <td></td>\n      <td>351</td>\n      <td>-15.0</td>\n      <td>NaN</td>\n      <td>NaN</td>\n      <td>NaN</td>\n      <td></td>\n      <td></td>\n      <td></td>\n      <td></td>\n      <td></td>\n      <td></td>\n      <td></td>\n      <td>336.0</td>\n    </tr>\n    <tr>\n      <th>1</th>\n      <td></td>\n      <td>352</td>\n      <td>79.0</td>\n      <td>NaN</td>\n      <td>NaN</td>\n      <td>NaN</td>\n      <td></td>\n      <td></td>\n      <td></td>\n      <td></td>\n      <td></td>\n      <td></td>\n      <td></td>\n      <td>431.0</td>\n    </tr>\n    <tr>\n      <th>2</th>\n      <td></td>\n      <td>353</td>\n      <td>80.0</td>\n      <td>NaN</td>\n      <td>NaN</td>\n      <td>NaN</td>\n      <td></td>\n      <td></td>\n      <td></td>\n      <td></td>\n      <td></td>\n      <td></td>\n      <td></td>\n      <td>433.0</td>\n    </tr>\n    <tr>\n      <th>3</th>\n      <td></td>\n      <td>354</td>\n      <td>14.0</td>\n      <td>NaN</td>\n      <td>NaN</td>\n      <td>NaN</td>\n      <td></td>\n      <td></td>\n      <td></td>\n      <td></td>\n      <td></td>\n      <td></td>\n      <td></td>\n      <td>368.0</td>\n    </tr>\n    <tr>\n      <th>4</th>\n      <td></td>\n      <td>355</td>\n      <td>-3.0</td>\n      <td>NaN</td>\n      <td>NaN</td>\n      <td>NaN</td>\n      <td></td>\n      <td></td>\n      <td></td>\n      <td></td>\n      <td></td>\n      <td></td>\n      <td></td>\n      <td>352.0</td>\n    </tr>\n    <tr>\n      <th>...</th>\n      <td>...</td>\n      <td>...</td>\n      <td>...</td>\n      <td>...</td>\n      <td>...</td>\n      <td>...</td>\n      <td>...</td>\n      <td>...</td>\n      <td>...</td>\n      <td>...</td>\n      <td>...</td>\n      <td>...</td>\n      <td>...</td>\n      <td>...</td>\n    </tr>\n    <tr>\n      <th>995</th>\n      <td></td>\n      <td>996</td>\n      <td>0.0</td>\n      <td>NaN</td>\n      <td>NaN</td>\n      <td>NaN</td>\n      <td></td>\n      <td></td>\n      <td></td>\n      <td></td>\n      <td></td>\n      <td></td>\n      <td></td>\n      <td></td>\n    </tr>\n    <tr>\n      <th>996</th>\n      <td></td>\n      <td>997</td>\n      <td>0.0</td>\n      <td>NaN</td>\n      <td>NaN</td>\n      <td>NaN</td>\n      <td></td>\n      <td></td>\n      <td></td>\n      <td></td>\n      <td></td>\n      <td></td>\n      <td></td>\n      <td></td>\n    </tr>\n    <tr>\n      <th>997</th>\n      <td></td>\n      <td>998</td>\n      <td>0.0</td>\n      <td>NaN</td>\n      <td>NaN</td>\n      <td>NaN</td>\n      <td></td>\n      <td></td>\n      <td></td>\n      <td></td>\n      <td></td>\n      <td></td>\n      <td></td>\n      <td></td>\n    </tr>\n    <tr>\n      <th>998</th>\n      <td></td>\n      <td>999</td>\n      <td>0.0</td>\n      <td>NaN</td>\n      <td>NaN</td>\n      <td>NaN</td>\n      <td></td>\n      <td></td>\n      <td></td>\n      <td></td>\n      <td></td>\n      <td></td>\n      <td></td>\n      <td></td>\n    </tr>\n    <tr>\n      <th>999</th>\n      <td></td>\n      <td>1000</td>\n      <td>0.0</td>\n      <td>NaN</td>\n      <td>NaN</td>\n      <td>NaN</td>\n      <td></td>\n      <td></td>\n      <td></td>\n      <td></td>\n      <td></td>\n      <td></td>\n      <td></td>\n      <td></td>\n    </tr>\n  </tbody>\n</table>\n<p>1000 rows × 14 columns</p>\n</div>"
     },
     "execution_count": 68,
     "metadata": {},
     "output_type": "execute_result"
    }
   ],
   "source": [
    "f500_df"
   ],
   "metadata": {
    "collapsed": false
   }
  },
  {
   "cell_type": "code",
   "execution_count": 67,
   "outputs": [],
   "source": [
    "f500_df.to_csv(\"2017(2).csv\", index=False)"
   ],
   "metadata": {
    "collapsed": false
   }
  },
  {
   "cell_type": "markdown",
   "source": [
    "# Crawl URL"
   ],
   "metadata": {
    "collapsed": false
   }
  },
  {
   "cell_type": "markdown",
   "source": [
    "# Join and sort"
   ],
   "metadata": {
    "collapsed": false
   }
  }
 ],
 "metadata": {
  "kernelspec": {
   "display_name": "Python 3",
   "language": "python",
   "name": "python3"
  },
  "language_info": {
   "codemirror_mode": {
    "name": "ipython",
    "version": 2
   },
   "file_extension": ".py",
   "mimetype": "text/x-python",
   "name": "python",
   "nbconvert_exporter": "python",
   "pygments_lexer": "ipython2",
   "version": "2.7.6"
  }
 },
 "nbformat": 4,
 "nbformat_minor": 0
}
