{
 "cells": [
  {
   "cell_type": "code",
   "execution_count": 1,
   "metadata": {
    "collapsed": true
   },
   "outputs": [],
   "source": [
    "import pandas as pd"
   ]
  },
  {
   "cell_type": "code",
   "execution_count": 2,
   "outputs": [
    {
     "data": {
      "text/plain": "              X             Y  FID  OBJECTID  RANK  \\\n0 -1.293321e+07  5.403709e+06    1         1    49   \n1 -1.292942e+07  5.392879e+06    2         2   226   \n2 -8.842930e+06  4.313449e+06    3         3   290   \n3 -1.357618e+07  4.507432e+06    4         4   440   \n4 -1.357871e+07  4.508509e+06    5         5   198   \n\n                          NAME                   ADDRESS       ADDRESS2  \\\n0              ALBERTSONS COS.  250 PARKCENTER BOULEVARD  NOT AVAILABLE   \n1            MICRON TECHNOLOGY    8000 SOUTH FEDERAL WAY  NOT AVAILABLE   \n2  LABORATORY CORP. OF AMERICA     358 SOUTH MAIN STREET  NOT AVAILABLE   \n3                 LAM RESEARCH      4650 CUSHING PARKWAY  NOT AVAILABLE   \n4                       SYNNEX         44201 NOBEL DRIVE  NOT AVAILABLE   \n\n         CITY STATE  ...      PRC COUNTYFIPS       COMMENTS  \\\n0       BOISE    ID  ...  ADDRESS      16001  NOT AVAILABLE   \n1       BOISE    ID  ...  ADDRESS      16001  NOT AVAILABLE   \n2  BURLINGTON    NC  ...  ADDRESS      37001  NOT AVAILABLE   \n3     FREMONT    CA  ...  ADDRESS       6001  NOT AVAILABLE   \n4     FREMONT    CA  ...  ADDRESS       6001  NOT AVAILABLE   \n\n                         WEBSITE  PROFIT  \\\n0  HTTPS://WWW.ALBERTSONS.COM/#1  -502.2   \n1        HTTPS://WWW.MICRON.COM/  -276.0   \n2       HTTPS://WWW.LABCORP.COM/   732.1   \n3   HTTPS://WWW.LAMRESEARCH.COM/   914.0   \n4    HTTPS://WWW.SYNNEXCORP.COM/   234.9   \n\n                                 GlobalID            CreationDate  \\\n0  {A7574C1C-884F-48A8-A612-51202F5036DF}  2021/12/16 14:56:43+00   \n1  {3C4FFBAF-B76E-435E-9B5F-D93C995F5720}  2021/12/16 14:56:43+00   \n2  {95021691-694A-4761-90C9-E5E1DE52DC1F}  2021/12/16 14:56:43+00   \n3  {1C7A6B3E-5EB8-46D7-81B9-E1A6113187A2}  2021/12/16 14:56:43+00   \n4  {D8F8FE15-E3C1-4848-8D28-141470CE17F5}  2021/12/16 14:56:43+00   \n\n         Creator                EditDate         Editor  \n0  HostedByHIFLD  2021/12/16 14:56:43+00  HostedByHIFLD  \n1  HostedByHIFLD  2021/12/16 14:56:43+00  HostedByHIFLD  \n2  HostedByHIFLD  2021/12/16 14:56:43+00  HostedByHIFLD  \n3  HostedByHIFLD  2021/12/16 14:56:43+00  HostedByHIFLD  \n4  HostedByHIFLD  2021/12/16 14:56:43+00  HostedByHIFLD  \n\n[5 rows x 27 columns]",
      "text/html": "<div>\n<style scoped>\n    .dataframe tbody tr th:only-of-type {\n        vertical-align: middle;\n    }\n\n    .dataframe tbody tr th {\n        vertical-align: top;\n    }\n\n    .dataframe thead th {\n        text-align: right;\n    }\n</style>\n<table border=\"1\" class=\"dataframe\">\n  <thead>\n    <tr style=\"text-align: right;\">\n      <th></th>\n      <th>X</th>\n      <th>Y</th>\n      <th>FID</th>\n      <th>OBJECTID</th>\n      <th>RANK</th>\n      <th>NAME</th>\n      <th>ADDRESS</th>\n      <th>ADDRESS2</th>\n      <th>CITY</th>\n      <th>STATE</th>\n      <th>...</th>\n      <th>PRC</th>\n      <th>COUNTYFIPS</th>\n      <th>COMMENTS</th>\n      <th>WEBSITE</th>\n      <th>PROFIT</th>\n      <th>GlobalID</th>\n      <th>CreationDate</th>\n      <th>Creator</th>\n      <th>EditDate</th>\n      <th>Editor</th>\n    </tr>\n  </thead>\n  <tbody>\n    <tr>\n      <th>0</th>\n      <td>-1.293321e+07</td>\n      <td>5.403709e+06</td>\n      <td>1</td>\n      <td>1</td>\n      <td>49</td>\n      <td>ALBERTSONS COS.</td>\n      <td>250 PARKCENTER BOULEVARD</td>\n      <td>NOT AVAILABLE</td>\n      <td>BOISE</td>\n      <td>ID</td>\n      <td>...</td>\n      <td>ADDRESS</td>\n      <td>16001</td>\n      <td>NOT AVAILABLE</td>\n      <td>HTTPS://WWW.ALBERTSONS.COM/#1</td>\n      <td>-502.2</td>\n      <td>{A7574C1C-884F-48A8-A612-51202F5036DF}</td>\n      <td>2021/12/16 14:56:43+00</td>\n      <td>HostedByHIFLD</td>\n      <td>2021/12/16 14:56:43+00</td>\n      <td>HostedByHIFLD</td>\n    </tr>\n    <tr>\n      <th>1</th>\n      <td>-1.292942e+07</td>\n      <td>5.392879e+06</td>\n      <td>2</td>\n      <td>2</td>\n      <td>226</td>\n      <td>MICRON TECHNOLOGY</td>\n      <td>8000 SOUTH FEDERAL WAY</td>\n      <td>NOT AVAILABLE</td>\n      <td>BOISE</td>\n      <td>ID</td>\n      <td>...</td>\n      <td>ADDRESS</td>\n      <td>16001</td>\n      <td>NOT AVAILABLE</td>\n      <td>HTTPS://WWW.MICRON.COM/</td>\n      <td>-276.0</td>\n      <td>{3C4FFBAF-B76E-435E-9B5F-D93C995F5720}</td>\n      <td>2021/12/16 14:56:43+00</td>\n      <td>HostedByHIFLD</td>\n      <td>2021/12/16 14:56:43+00</td>\n      <td>HostedByHIFLD</td>\n    </tr>\n    <tr>\n      <th>2</th>\n      <td>-8.842930e+06</td>\n      <td>4.313449e+06</td>\n      <td>3</td>\n      <td>3</td>\n      <td>290</td>\n      <td>LABORATORY CORP. OF AMERICA</td>\n      <td>358 SOUTH MAIN STREET</td>\n      <td>NOT AVAILABLE</td>\n      <td>BURLINGTON</td>\n      <td>NC</td>\n      <td>...</td>\n      <td>ADDRESS</td>\n      <td>37001</td>\n      <td>NOT AVAILABLE</td>\n      <td>HTTPS://WWW.LABCORP.COM/</td>\n      <td>732.1</td>\n      <td>{95021691-694A-4761-90C9-E5E1DE52DC1F}</td>\n      <td>2021/12/16 14:56:43+00</td>\n      <td>HostedByHIFLD</td>\n      <td>2021/12/16 14:56:43+00</td>\n      <td>HostedByHIFLD</td>\n    </tr>\n    <tr>\n      <th>3</th>\n      <td>-1.357618e+07</td>\n      <td>4.507432e+06</td>\n      <td>4</td>\n      <td>4</td>\n      <td>440</td>\n      <td>LAM RESEARCH</td>\n      <td>4650 CUSHING PARKWAY</td>\n      <td>NOT AVAILABLE</td>\n      <td>FREMONT</td>\n      <td>CA</td>\n      <td>...</td>\n      <td>ADDRESS</td>\n      <td>6001</td>\n      <td>NOT AVAILABLE</td>\n      <td>HTTPS://WWW.LAMRESEARCH.COM/</td>\n      <td>914.0</td>\n      <td>{1C7A6B3E-5EB8-46D7-81B9-E1A6113187A2}</td>\n      <td>2021/12/16 14:56:43+00</td>\n      <td>HostedByHIFLD</td>\n      <td>2021/12/16 14:56:43+00</td>\n      <td>HostedByHIFLD</td>\n    </tr>\n    <tr>\n      <th>4</th>\n      <td>-1.357871e+07</td>\n      <td>4.508509e+06</td>\n      <td>5</td>\n      <td>5</td>\n      <td>198</td>\n      <td>SYNNEX</td>\n      <td>44201 NOBEL DRIVE</td>\n      <td>NOT AVAILABLE</td>\n      <td>FREMONT</td>\n      <td>CA</td>\n      <td>...</td>\n      <td>ADDRESS</td>\n      <td>6001</td>\n      <td>NOT AVAILABLE</td>\n      <td>HTTPS://WWW.SYNNEXCORP.COM/</td>\n      <td>234.9</td>\n      <td>{D8F8FE15-E3C1-4848-8D28-141470CE17F5}</td>\n      <td>2021/12/16 14:56:43+00</td>\n      <td>HostedByHIFLD</td>\n      <td>2021/12/16 14:56:43+00</td>\n      <td>HostedByHIFLD</td>\n    </tr>\n  </tbody>\n</table>\n<p>5 rows × 27 columns</p>\n</div>"
     },
     "execution_count": 2,
     "metadata": {},
     "output_type": "execute_result"
    }
   ],
   "source": [
    "companies = pd.read_csv(\"Fortune_500_Corporate_Headquarters_arcgis.csv\")\n",
    "companies.head()\n"
   ],
   "metadata": {
    "collapsed": false
   }
  },
  {
   "cell_type": "code",
   "execution_count": 3,
   "outputs": [
    {
     "data": {
      "text/plain": "   RegionID  SizeRank          RegionName RegionType StateName State  \\\n0      3101         0  Los Angeles County     county        CA    CA   \n1       139         1         Cook County     county        IL    IL   \n2      1090         2       Harris County     county        TX    TX   \n3      2402         3     Maricopa County     county        AZ    AZ   \n4      2841         4    San Diego County     county        CA    CA   \n\n                                  Metro  StateCodeFIPS  MunicipalCodeFIPS  \\\n0    Los Angeles-Long Beach-Anaheim, CA              6                 37   \n1    Chicago-Naperville-Elgin, IL-IN-WI             17                 31   \n2  Houston-The Woodlands-Sugar Land, TX             48                201   \n3             Phoenix-Mesa-Chandler, AZ              4                 13   \n4    San Diego-Chula Vista-Carlsbad, CA              6                 73   \n\n   2000-01-31  ...  2021-11-30  2021-12-31  2022-01-31  2022-02-28  \\\n0    213337.0  ...    801184.0    806462.0    811555.0    819849.0   \n1    177524.0  ...    297690.0    300451.0    303056.0    304834.0   \n2    115168.0  ...    255108.0    258177.0    261375.0    265008.0   \n3    144577.0  ...    433252.0    439045.0    444846.0    453607.0   \n4    224357.0  ...    809787.0    820971.0    841138.0    861177.0   \n\n   2022-03-31  2022-04-30  2022-05-31  2022-06-30  2022-07-31  2022-08-31  \n0    834285.0    851774.0    866848.0    868507.0    868009.0    855016.0  \n1    307439.0    309625.0    313133.0    315977.0    317999.0    318495.0  \n2    269715.0    274806.0    279791.0    283639.0    286186.0    287739.0  \n3    462953.0    474616.0    483590.0    490012.0    487572.0    480899.0  \n4    884073.0    903218.0    916325.0    915794.0    904536.0    893508.0  \n\n[5 rows x 281 columns]",
      "text/html": "<div>\n<style scoped>\n    .dataframe tbody tr th:only-of-type {\n        vertical-align: middle;\n    }\n\n    .dataframe tbody tr th {\n        vertical-align: top;\n    }\n\n    .dataframe thead th {\n        text-align: right;\n    }\n</style>\n<table border=\"1\" class=\"dataframe\">\n  <thead>\n    <tr style=\"text-align: right;\">\n      <th></th>\n      <th>RegionID</th>\n      <th>SizeRank</th>\n      <th>RegionName</th>\n      <th>RegionType</th>\n      <th>StateName</th>\n      <th>State</th>\n      <th>Metro</th>\n      <th>StateCodeFIPS</th>\n      <th>MunicipalCodeFIPS</th>\n      <th>2000-01-31</th>\n      <th>...</th>\n      <th>2021-11-30</th>\n      <th>2021-12-31</th>\n      <th>2022-01-31</th>\n      <th>2022-02-28</th>\n      <th>2022-03-31</th>\n      <th>2022-04-30</th>\n      <th>2022-05-31</th>\n      <th>2022-06-30</th>\n      <th>2022-07-31</th>\n      <th>2022-08-31</th>\n    </tr>\n  </thead>\n  <tbody>\n    <tr>\n      <th>0</th>\n      <td>3101</td>\n      <td>0</td>\n      <td>Los Angeles County</td>\n      <td>county</td>\n      <td>CA</td>\n      <td>CA</td>\n      <td>Los Angeles-Long Beach-Anaheim, CA</td>\n      <td>6</td>\n      <td>37</td>\n      <td>213337.0</td>\n      <td>...</td>\n      <td>801184.0</td>\n      <td>806462.0</td>\n      <td>811555.0</td>\n      <td>819849.0</td>\n      <td>834285.0</td>\n      <td>851774.0</td>\n      <td>866848.0</td>\n      <td>868507.0</td>\n      <td>868009.0</td>\n      <td>855016.0</td>\n    </tr>\n    <tr>\n      <th>1</th>\n      <td>139</td>\n      <td>1</td>\n      <td>Cook County</td>\n      <td>county</td>\n      <td>IL</td>\n      <td>IL</td>\n      <td>Chicago-Naperville-Elgin, IL-IN-WI</td>\n      <td>17</td>\n      <td>31</td>\n      <td>177524.0</td>\n      <td>...</td>\n      <td>297690.0</td>\n      <td>300451.0</td>\n      <td>303056.0</td>\n      <td>304834.0</td>\n      <td>307439.0</td>\n      <td>309625.0</td>\n      <td>313133.0</td>\n      <td>315977.0</td>\n      <td>317999.0</td>\n      <td>318495.0</td>\n    </tr>\n    <tr>\n      <th>2</th>\n      <td>1090</td>\n      <td>2</td>\n      <td>Harris County</td>\n      <td>county</td>\n      <td>TX</td>\n      <td>TX</td>\n      <td>Houston-The Woodlands-Sugar Land, TX</td>\n      <td>48</td>\n      <td>201</td>\n      <td>115168.0</td>\n      <td>...</td>\n      <td>255108.0</td>\n      <td>258177.0</td>\n      <td>261375.0</td>\n      <td>265008.0</td>\n      <td>269715.0</td>\n      <td>274806.0</td>\n      <td>279791.0</td>\n      <td>283639.0</td>\n      <td>286186.0</td>\n      <td>287739.0</td>\n    </tr>\n    <tr>\n      <th>3</th>\n      <td>2402</td>\n      <td>3</td>\n      <td>Maricopa County</td>\n      <td>county</td>\n      <td>AZ</td>\n      <td>AZ</td>\n      <td>Phoenix-Mesa-Chandler, AZ</td>\n      <td>4</td>\n      <td>13</td>\n      <td>144577.0</td>\n      <td>...</td>\n      <td>433252.0</td>\n      <td>439045.0</td>\n      <td>444846.0</td>\n      <td>453607.0</td>\n      <td>462953.0</td>\n      <td>474616.0</td>\n      <td>483590.0</td>\n      <td>490012.0</td>\n      <td>487572.0</td>\n      <td>480899.0</td>\n    </tr>\n    <tr>\n      <th>4</th>\n      <td>2841</td>\n      <td>4</td>\n      <td>San Diego County</td>\n      <td>county</td>\n      <td>CA</td>\n      <td>CA</td>\n      <td>San Diego-Chula Vista-Carlsbad, CA</td>\n      <td>6</td>\n      <td>73</td>\n      <td>224357.0</td>\n      <td>...</td>\n      <td>809787.0</td>\n      <td>820971.0</td>\n      <td>841138.0</td>\n      <td>861177.0</td>\n      <td>884073.0</td>\n      <td>903218.0</td>\n      <td>916325.0</td>\n      <td>915794.0</td>\n      <td>904536.0</td>\n      <td>893508.0</td>\n    </tr>\n  </tbody>\n</table>\n<p>5 rows × 281 columns</p>\n</div>"
     },
     "execution_count": 3,
     "metadata": {},
     "output_type": "execute_result"
    }
   ],
   "source": [
    "counties = pd.read_csv(\"../Housing Prices/County Datasets/All Homes County.csv\")\n",
    "counties.head()"
   ],
   "metadata": {
    "collapsed": false
   }
  },
  {
   "cell_type": "code",
   "execution_count": 16,
   "outputs": [
    {
     "data": {
      "text/plain": "STATE\nCA    53\nNY    53\nTX    49\nIL    35\nOH    25\nVA    23\nNJ    22\nPA    21\nCT    19\nGA    18\nMN    18\nMI    17\nFL    17\nMA    12\nTN    11\nNC    11\nCO    10\nWA    10\nMO    10\nWI     9\nIN     7\nAR     6\nNE     5\nOK     5\nRI     4\nAZ     4\nMD     4\nKY     3\nIA     3\nDC     2\nDE     2\nOR     2\nID     2\nKS     2\nNV     2\nLA     2\nUT     1\nAL     1\ndtype: int64"
     },
     "execution_count": 16,
     "metadata": {},
     "output_type": "execute_result"
    }
   ],
   "source": [
    "companies.value_counts(\"STATE\")"
   ],
   "metadata": {
    "collapsed": false
   }
  },
  {
   "cell_type": "code",
   "execution_count": 40,
   "outputs": [
    {
     "data": {
      "text/plain": "State\nTX    208\nGA    159\nVA    133\nKY    115\nMO    108\nNC     99\nIA     99\nTN     95\nIL     95\nIN     92\nOH     88\nMN     87\nMI     83\nAR     74\nOK     72\nWI     71\nPA     67\nFL     67\nAL     65\nMS     65\nCO     64\nKS     63\nLA     62\nNY     62\nCA     58\nNE     58\nWV     51\nSC     45\nID     42\nWA     39\nMT     36\nOR     36\nSD     31\nMD     24\nNM     24\nUT     23\nND     22\nWY     21\nNJ     21\nNV     16\nME     16\nAZ     15\nMA     14\nVT     14\nNH     10\nCT      8\nAK      7\nRI      5\nHI      4\nDE      3\nDC      1\ndtype: int64"
     },
     "execution_count": 40,
     "metadata": {},
     "output_type": "execute_result"
    }
   ],
   "source": [
    "counties.value_counts(\"State\")"
   ],
   "metadata": {
    "collapsed": false
   }
  },
  {
   "cell_type": "code",
   "execution_count": 45,
   "outputs": [
    {
     "data": {
      "text/plain": "   State      Data\n0     AK       NaN\n1     AL  0.015385\n2     AR  0.081081\n3     AZ  0.266667\n4     CA  0.913793\n5     CO  0.156250\n6     CT  2.375000\n7     DC  2.000000\n8     DE  0.666667\n9     FL  0.253731\n10    GA  0.113208\n11    HI       NaN\n12    IA  0.030303\n13    ID  0.047619\n14    IL  0.368421\n15    IN  0.076087\n16    KS  0.031746\n17    KY  0.026087\n18    LA  0.032258\n19    MA  0.857143\n20    MD  0.166667\n21    ME       NaN\n22    MI  0.204819\n23    MN  0.206897\n24    MO  0.092593\n25    MS       NaN\n26    MT       NaN\n27    NC  0.111111\n28    ND       NaN\n29    NE  0.086207\n30    NH       NaN\n31    NJ  1.047619\n32    NM       NaN\n33    NV  0.125000\n34    NY  0.854839\n35    OH  0.284091\n36    OK  0.069444\n37    OR  0.055556\n38    PA  0.313433\n39    RI  0.800000\n40    SC       NaN\n41    SD       NaN\n42    TN  0.115789\n43    TX  0.235577\n44    UT  0.043478\n45    VA  0.172932\n46    VT       NaN\n47    WA  0.256410\n48    WI  0.126761\n49    WV       NaN\n50    WY       NaN",
      "text/html": "<div>\n<style scoped>\n    .dataframe tbody tr th:only-of-type {\n        vertical-align: middle;\n    }\n\n    .dataframe tbody tr th {\n        vertical-align: top;\n    }\n\n    .dataframe thead th {\n        text-align: right;\n    }\n</style>\n<table border=\"1\" class=\"dataframe\">\n  <thead>\n    <tr style=\"text-align: right;\">\n      <th></th>\n      <th>State</th>\n      <th>Data</th>\n    </tr>\n  </thead>\n  <tbody>\n    <tr>\n      <th>0</th>\n      <td>AK</td>\n      <td>NaN</td>\n    </tr>\n    <tr>\n      <th>1</th>\n      <td>AL</td>\n      <td>0.015385</td>\n    </tr>\n    <tr>\n      <th>2</th>\n      <td>AR</td>\n      <td>0.081081</td>\n    </tr>\n    <tr>\n      <th>3</th>\n      <td>AZ</td>\n      <td>0.266667</td>\n    </tr>\n    <tr>\n      <th>4</th>\n      <td>CA</td>\n      <td>0.913793</td>\n    </tr>\n    <tr>\n      <th>5</th>\n      <td>CO</td>\n      <td>0.156250</td>\n    </tr>\n    <tr>\n      <th>6</th>\n      <td>CT</td>\n      <td>2.375000</td>\n    </tr>\n    <tr>\n      <th>7</th>\n      <td>DC</td>\n      <td>2.000000</td>\n    </tr>\n    <tr>\n      <th>8</th>\n      <td>DE</td>\n      <td>0.666667</td>\n    </tr>\n    <tr>\n      <th>9</th>\n      <td>FL</td>\n      <td>0.253731</td>\n    </tr>\n    <tr>\n      <th>10</th>\n      <td>GA</td>\n      <td>0.113208</td>\n    </tr>\n    <tr>\n      <th>11</th>\n      <td>HI</td>\n      <td>NaN</td>\n    </tr>\n    <tr>\n      <th>12</th>\n      <td>IA</td>\n      <td>0.030303</td>\n    </tr>\n    <tr>\n      <th>13</th>\n      <td>ID</td>\n      <td>0.047619</td>\n    </tr>\n    <tr>\n      <th>14</th>\n      <td>IL</td>\n      <td>0.368421</td>\n    </tr>\n    <tr>\n      <th>15</th>\n      <td>IN</td>\n      <td>0.076087</td>\n    </tr>\n    <tr>\n      <th>16</th>\n      <td>KS</td>\n      <td>0.031746</td>\n    </tr>\n    <tr>\n      <th>17</th>\n      <td>KY</td>\n      <td>0.026087</td>\n    </tr>\n    <tr>\n      <th>18</th>\n      <td>LA</td>\n      <td>0.032258</td>\n    </tr>\n    <tr>\n      <th>19</th>\n      <td>MA</td>\n      <td>0.857143</td>\n    </tr>\n    <tr>\n      <th>20</th>\n      <td>MD</td>\n      <td>0.166667</td>\n    </tr>\n    <tr>\n      <th>21</th>\n      <td>ME</td>\n      <td>NaN</td>\n    </tr>\n    <tr>\n      <th>22</th>\n      <td>MI</td>\n      <td>0.204819</td>\n    </tr>\n    <tr>\n      <th>23</th>\n      <td>MN</td>\n      <td>0.206897</td>\n    </tr>\n    <tr>\n      <th>24</th>\n      <td>MO</td>\n      <td>0.092593</td>\n    </tr>\n    <tr>\n      <th>25</th>\n      <td>MS</td>\n      <td>NaN</td>\n    </tr>\n    <tr>\n      <th>26</th>\n      <td>MT</td>\n      <td>NaN</td>\n    </tr>\n    <tr>\n      <th>27</th>\n      <td>NC</td>\n      <td>0.111111</td>\n    </tr>\n    <tr>\n      <th>28</th>\n      <td>ND</td>\n      <td>NaN</td>\n    </tr>\n    <tr>\n      <th>29</th>\n      <td>NE</td>\n      <td>0.086207</td>\n    </tr>\n    <tr>\n      <th>30</th>\n      <td>NH</td>\n      <td>NaN</td>\n    </tr>\n    <tr>\n      <th>31</th>\n      <td>NJ</td>\n      <td>1.047619</td>\n    </tr>\n    <tr>\n      <th>32</th>\n      <td>NM</td>\n      <td>NaN</td>\n    </tr>\n    <tr>\n      <th>33</th>\n      <td>NV</td>\n      <td>0.125000</td>\n    </tr>\n    <tr>\n      <th>34</th>\n      <td>NY</td>\n      <td>0.854839</td>\n    </tr>\n    <tr>\n      <th>35</th>\n      <td>OH</td>\n      <td>0.284091</td>\n    </tr>\n    <tr>\n      <th>36</th>\n      <td>OK</td>\n      <td>0.069444</td>\n    </tr>\n    <tr>\n      <th>37</th>\n      <td>OR</td>\n      <td>0.055556</td>\n    </tr>\n    <tr>\n      <th>38</th>\n      <td>PA</td>\n      <td>0.313433</td>\n    </tr>\n    <tr>\n      <th>39</th>\n      <td>RI</td>\n      <td>0.800000</td>\n    </tr>\n    <tr>\n      <th>40</th>\n      <td>SC</td>\n      <td>NaN</td>\n    </tr>\n    <tr>\n      <th>41</th>\n      <td>SD</td>\n      <td>NaN</td>\n    </tr>\n    <tr>\n      <th>42</th>\n      <td>TN</td>\n      <td>0.115789</td>\n    </tr>\n    <tr>\n      <th>43</th>\n      <td>TX</td>\n      <td>0.235577</td>\n    </tr>\n    <tr>\n      <th>44</th>\n      <td>UT</td>\n      <td>0.043478</td>\n    </tr>\n    <tr>\n      <th>45</th>\n      <td>VA</td>\n      <td>0.172932</td>\n    </tr>\n    <tr>\n      <th>46</th>\n      <td>VT</td>\n      <td>NaN</td>\n    </tr>\n    <tr>\n      <th>47</th>\n      <td>WA</td>\n      <td>0.256410</td>\n    </tr>\n    <tr>\n      <th>48</th>\n      <td>WI</td>\n      <td>0.126761</td>\n    </tr>\n    <tr>\n      <th>49</th>\n      <td>WV</td>\n      <td>NaN</td>\n    </tr>\n    <tr>\n      <th>50</th>\n      <td>WY</td>\n      <td>NaN</td>\n    </tr>\n  </tbody>\n</table>\n</div>"
     },
     "execution_count": 45,
     "metadata": {},
     "output_type": "execute_result"
    }
   ],
   "source": [
    "combine = companies[\"STATE\"].value_counts() / counties[\"State\"].value_counts()\n",
    "combine = pd.Series(combine)\n",
    "combine = combine.reset_index()\n",
    "combine.rename(columns={\"index\": \"State\", 0:\"Data\"})"
   ],
   "metadata": {
    "collapsed": false
   }
  },
  {
   "cell_type": "markdown",
   "source": [
    "CT, NJ, NY all too close to New york\n",
    "DC is the capital\n",
    "CA is limited to 1-2 cities\n",
    "RI all in one county\n"
   ],
   "metadata": {
    "collapsed": false
   }
  },
  {
   "cell_type": "code",
   "execution_count": 54,
   "outputs": [
    {
     "name": "stdout",
     "output_type": "stream",
     "text": [
      "index\n",
      "0\n"
     ]
    }
   ],
   "source": [
    "for state in combine:\n",
    "    print(state)\n",
    "    ST = companies[companies[\"STATE\"] == state]\n",
    "    ST.value_counts(\"COUNTY\")"
   ],
   "metadata": {
    "collapsed": false
   }
  },
  {
   "cell_type": "code",
   "execution_count": 7,
   "outputs": [
    {
     "data": {
      "text/plain": "COUNTY\nMIDDLESEX    7\nSUFFOLK      3\nHAMPDEN      2\ndtype: int64"
     },
     "execution_count": 7,
     "metadata": {},
     "output_type": "execute_result"
    }
   ],
   "source": [
    "#rslt_df = dataframe[dataframe['Percentage'] > 70]\n",
    "MA = companies[companies[\"STATE\"] == \"MA\"]\n",
    "MA.value_counts(\"COUNTY\")"
   ],
   "metadata": {
    "collapsed": false
   }
  },
  {
   "cell_type": "code",
   "execution_count": 8,
   "outputs": [
    {
     "data": {
      "text/plain": "COUNTY\nDISTRICT OF COLUMBIA    2\ndtype: int64"
     },
     "execution_count": 8,
     "metadata": {},
     "output_type": "execute_result"
    }
   ],
   "source": [
    "#RI = companies[companies[\"STATE\"] == \"RI\"]\n",
    "#RI.value_counts(\"COUNTY\")\n",
    "CT = companies[companies[\"STATE\"] == \"DC\"]\n",
    "CT.value_counts(\"COUNTY\")"
   ],
   "metadata": {
    "collapsed": false
   }
  },
  {
   "cell_type": "code",
   "execution_count": 8,
   "outputs": [],
   "source": [],
   "metadata": {
    "collapsed": false
   }
  }
 ],
 "metadata": {
  "kernelspec": {
   "display_name": "Python 3",
   "language": "python",
   "name": "python3"
  },
  "language_info": {
   "codemirror_mode": {
    "name": "ipython",
    "version": 2
   },
   "file_extension": ".py",
   "mimetype": "text/x-python",
   "name": "python",
   "nbconvert_exporter": "python",
   "pygments_lexer": "ipython2",
   "version": "2.7.6"
  }
 },
 "nbformat": 4,
 "nbformat_minor": 0
}
